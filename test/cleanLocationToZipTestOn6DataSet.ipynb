{
  "nbformat": 4,
  "nbformat_minor": 0,
  "metadata": {
    "colab": {
      "name": "cleanLocationToZipTestOn6DataSet.ipynb",
      "provenance": [],
      "include_colab_link": true
    },
    "kernelspec": {
      "name": "python3",
      "display_name": "Python 3"
    },
    "language_info": {
      "name": "python"
    }
  },
  "cells": [
    {
      "cell_type": "markdown",
      "metadata": {
        "id": "view-in-github",
        "colab_type": "text"
      },
      "source": [
        "<a href=\"https://colab.research.google.com/github/CharlesPoletowin/BigDataProject/blob/main/test/cleanLocationToZipTestOn6DataSet.ipynb\" target=\"_parent\"><img src=\"https://colab.research.google.com/assets/colab-badge.svg\" alt=\"Open In Colab\"/></a>"
      ]
    },
    {
      "cell_type": "markdown",
      "source": [
        "# pip install"
      ],
      "metadata": {
        "id": "m6PMu3NKtzG6"
      }
    },
    {
      "cell_type": "code",
      "metadata": {
        "colab": {
          "base_uri": "https://localhost:8080/"
        },
        "id": "4KcAeaCCYC3f",
        "outputId": "2aa28f2a-f696-43b0-980f-90ba591d033b"
      },
      "source": [
        "!pip install openclean[full]"
      ],
      "execution_count": 2,
      "outputs": [
        {
          "output_type": "stream",
          "name": "stdout",
          "text": [
            "Requirement already satisfied: openclean[full] in /usr/local/lib/python3.7/dist-packages (0.2.1)\n",
            "Requirement already satisfied: openclean-core==0.4.1 in /usr/local/lib/python3.7/dist-packages (from openclean[full]) (0.4.1)\n",
            "Requirement already satisfied: docker in /usr/local/lib/python3.7/dist-packages (from openclean[full]) (5.0.3)\n",
            "Requirement already satisfied: openclean-pattern==0.0.1 in /usr/local/lib/python3.7/dist-packages (from openclean[full]) (0.0.1)\n",
            "Requirement already satisfied: openclean-geo==0.1.0 in /usr/local/lib/python3.7/dist-packages (from openclean[full]) (0.1.0)\n",
            "Requirement already satisfied: openclean-metanome==0.2.0 in /usr/local/lib/python3.7/dist-packages (from openclean[full]) (0.2.0)\n",
            "Requirement already satisfied: openclean-notebook==0.1.7 in /usr/local/lib/python3.7/dist-packages (from openclean[full]) (0.1.7)\n",
            "Requirement already satisfied: scipy in /usr/local/lib/python3.7/dist-packages (from openclean-core==0.4.1->openclean[full]) (1.4.1)\n",
            "Requirement already satisfied: scikit-learn in /usr/local/lib/python3.7/dist-packages (from openclean-core==0.4.1->openclean[full]) (0.23.2)\n",
            "Requirement already satisfied: jellyfish in /usr/local/lib/python3.7/dist-packages (from openclean-core==0.4.1->openclean[full]) (0.8.9)\n",
            "Requirement already satisfied: python-dateutil in /usr/local/lib/python3.7/dist-packages (from openclean-core==0.4.1->openclean[full]) (2.8.2)\n",
            "Requirement already satisfied: pandas>=1.0.0 in /usr/local/lib/python3.7/dist-packages (from openclean-core==0.4.1->openclean[full]) (1.1.5)\n",
            "Requirement already satisfied: appdirs>=1.4.4 in /usr/local/lib/python3.7/dist-packages (from openclean-core==0.4.1->openclean[full]) (1.4.4)\n",
            "Requirement already satisfied: histore>=0.4.0 in /usr/local/lib/python3.7/dist-packages (from openclean-core==0.4.1->openclean[full]) (0.4.1)\n",
            "Requirement already satisfied: dill in /usr/local/lib/python3.7/dist-packages (from openclean-core==0.4.1->openclean[full]) (0.3.4)\n",
            "Requirement already satisfied: jsonschema>=3.2.0 in /usr/local/lib/python3.7/dist-packages (from openclean-core==0.4.1->openclean[full]) (3.2.0)\n",
            "Requirement already satisfied: flowserv-core>=0.8.0 in /usr/local/lib/python3.7/dist-packages (from openclean-core==0.4.1->openclean[full]) (0.9.2)\n",
            "Requirement already satisfied: future in /usr/local/lib/python3.7/dist-packages (from openclean-core==0.4.1->openclean[full]) (0.16.0)\n",
            "Requirement already satisfied: refdata>=0.2.0 in /usr/local/lib/python3.7/dist-packages (from openclean-core==0.4.1->openclean[full]) (0.2.0)\n",
            "Requirement already satisfied: requests in /usr/local/lib/python3.7/dist-packages (from openclean-core==0.4.1->openclean[full]) (2.23.0)\n",
            "Requirement already satisfied: Shapely>=1.7.1 in /usr/local/lib/python3.7/dist-packages (from openclean-geo==0.1.0->openclean[full]) (1.8.0)\n",
            "Requirement already satisfied: datamart-profiler==0.9 in /usr/local/lib/python3.7/dist-packages (from openclean-notebook==0.1.7->openclean[full]) (0.9)\n",
            "Requirement already satisfied: datamart-geo==0.2.1 in /usr/local/lib/python3.7/dist-packages (from datamart-profiler==0.9->openclean-notebook==0.1.7->openclean[full]) (0.2.1)\n",
            "Requirement already satisfied: regex in /usr/local/lib/python3.7/dist-packages (from datamart-profiler==0.9->openclean-notebook==0.1.7->openclean[full]) (2019.12.20)\n",
            "Requirement already satisfied: prometheus-client in /usr/local/lib/python3.7/dist-packages (from datamart-profiler==0.9->openclean-notebook==0.1.7->openclean[full]) (0.12.0)\n",
            "Requirement already satisfied: numpy in /usr/local/lib/python3.7/dist-packages (from datamart-profiler==0.9->openclean-notebook==0.1.7->openclean[full]) (1.19.5)\n",
            "Requirement already satisfied: attrs>=17.4.0 in /usr/local/lib/python3.7/dist-packages (from jsonschema>=3.2.0->openclean-core==0.4.1->openclean[full]) (21.2.0)\n",
            "Requirement already satisfied: setuptools in /usr/local/lib/python3.7/dist-packages (from jsonschema>=3.2.0->openclean-core==0.4.1->openclean[full]) (57.4.0)\n",
            "Requirement already satisfied: importlib-metadata in /usr/local/lib/python3.7/dist-packages (from jsonschema>=3.2.0->openclean-core==0.4.1->openclean[full]) (4.8.2)\n",
            "Requirement already satisfied: pyrsistent>=0.14.0 in /usr/local/lib/python3.7/dist-packages (from jsonschema>=3.2.0->openclean-core==0.4.1->openclean[full]) (0.18.0)\n",
            "Requirement already satisfied: six>=1.11.0 in /usr/local/lib/python3.7/dist-packages (from jsonschema>=3.2.0->openclean-core==0.4.1->openclean[full]) (1.15.0)\n",
            "Requirement already satisfied: pygtrie==2.3.3 in /usr/local/lib/python3.7/dist-packages (from openclean-pattern==0.0.1->openclean[full]) (2.3.3)\n",
            "Requirement already satisfied: scikit-bio in /usr/local/lib/python3.7/dist-packages (from openclean-pattern==0.0.1->openclean[full]) (0.5.6)\n",
            "Requirement already satisfied: pyyaml-include in /usr/local/lib/python3.7/dist-packages (from flowserv-core>=0.8.0->openclean-core==0.4.1->openclean[full]) (1.2.post2)\n",
            "Requirement already satisfied: paramiko in /usr/local/lib/python3.7/dist-packages (from flowserv-core>=0.8.0->openclean-core==0.4.1->openclean[full]) (2.8.1)\n",
            "Requirement already satisfied: gitpython in /usr/local/lib/python3.7/dist-packages (from flowserv-core>=0.8.0->openclean-core==0.4.1->openclean[full]) (3.1.24)\n",
            "Requirement already satisfied: SQLAlchemy>=1.3.18 in /usr/local/lib/python3.7/dist-packages (from flowserv-core>=0.8.0->openclean-core==0.4.1->openclean[full]) (1.4.27)\n",
            "Requirement already satisfied: Click in /usr/local/lib/python3.7/dist-packages (from flowserv-core>=0.8.0->openclean-core==0.4.1->openclean[full]) (7.1.2)\n",
            "Requirement already satisfied: pyyaml>=5.1 in /usr/local/lib/python3.7/dist-packages (from flowserv-core>=0.8.0->openclean-core==0.4.1->openclean[full]) (5.4.1)\n",
            "Requirement already satisfied: passlib in /usr/local/lib/python3.7/dist-packages (from flowserv-core>=0.8.0->openclean-core==0.4.1->openclean[full]) (1.7.4)\n",
            "Requirement already satisfied: psutil in /usr/local/lib/python3.7/dist-packages (from histore>=0.4.0->openclean-core==0.4.1->openclean[full]) (5.4.8)\n",
            "Requirement already satisfied: pytz>=2017.2 in /usr/local/lib/python3.7/dist-packages (from pandas>=1.0.0->openclean-core==0.4.1->openclean[full]) (2018.9)\n",
            "Requirement already satisfied: pooch>=1.3.0 in /usr/local/lib/python3.7/dist-packages (from refdata>=0.2.0->openclean-core==0.4.1->openclean[full]) (1.5.2)\n",
            "Requirement already satisfied: datasize>=1.0.0 in /usr/local/lib/python3.7/dist-packages (from refdata>=0.2.0->openclean-core==0.4.1->openclean[full]) (1.0.0)\n",
            "Requirement already satisfied: tableprint in /usr/local/lib/python3.7/dist-packages (from refdata>=0.2.0->openclean-core==0.4.1->openclean[full]) (0.9.1)\n",
            "Requirement already satisfied: packaging in /usr/local/lib/python3.7/dist-packages (from pooch>=1.3.0->refdata>=0.2.0->openclean-core==0.4.1->openclean[full]) (21.3)\n",
            "Requirement already satisfied: threadpoolctl>=2.0.0 in /usr/local/lib/python3.7/dist-packages (from scikit-learn->openclean-core==0.4.1->openclean[full]) (3.0.0)\n",
            "Requirement already satisfied: joblib>=0.11 in /usr/local/lib/python3.7/dist-packages (from scikit-learn->openclean-core==0.4.1->openclean[full]) (1.1.0)\n",
            "Requirement already satisfied: greenlet!=0.4.17 in /usr/local/lib/python3.7/dist-packages (from SQLAlchemy>=1.3.18->flowserv-core>=0.8.0->openclean-core==0.4.1->openclean[full]) (1.1.2)\n",
            "Requirement already satisfied: websocket-client>=0.32.0 in /usr/local/lib/python3.7/dist-packages (from docker->openclean[full]) (1.2.3)\n",
            "Requirement already satisfied: chardet<4,>=3.0.2 in /usr/local/lib/python3.7/dist-packages (from requests->openclean-core==0.4.1->openclean[full]) (3.0.4)\n",
            "Requirement already satisfied: idna<3,>=2.5 in /usr/local/lib/python3.7/dist-packages (from requests->openclean-core==0.4.1->openclean[full]) (2.10)\n",
            "Requirement already satisfied: certifi>=2017.4.17 in /usr/local/lib/python3.7/dist-packages (from requests->openclean-core==0.4.1->openclean[full]) (2021.10.8)\n",
            "Requirement already satisfied: urllib3!=1.25.0,!=1.25.1,<1.26,>=1.21.1 in /usr/local/lib/python3.7/dist-packages (from requests->openclean-core==0.4.1->openclean[full]) (1.24.3)\n",
            "Requirement already satisfied: typing-extensions>=3.7.4.3 in /usr/local/lib/python3.7/dist-packages (from gitpython->flowserv-core>=0.8.0->openclean-core==0.4.1->openclean[full]) (3.10.0.2)\n",
            "Requirement already satisfied: gitdb<5,>=4.0.1 in /usr/local/lib/python3.7/dist-packages (from gitpython->flowserv-core>=0.8.0->openclean-core==0.4.1->openclean[full]) (4.0.9)\n",
            "Requirement already satisfied: smmap<6,>=3.0.1 in /usr/local/lib/python3.7/dist-packages (from gitdb<5,>=4.0.1->gitpython->flowserv-core>=0.8.0->openclean-core==0.4.1->openclean[full]) (5.0.0)\n",
            "Requirement already satisfied: zipp>=0.5 in /usr/local/lib/python3.7/dist-packages (from importlib-metadata->jsonschema>=3.2.0->openclean-core==0.4.1->openclean[full]) (3.6.0)\n",
            "Requirement already satisfied: pyparsing!=3.0.5,>=2.0.2 in /usr/local/lib/python3.7/dist-packages (from packaging->pooch>=1.3.0->refdata>=0.2.0->openclean-core==0.4.1->openclean[full]) (3.0.6)\n",
            "Requirement already satisfied: cryptography>=2.5 in /usr/local/lib/python3.7/dist-packages (from paramiko->flowserv-core>=0.8.0->openclean-core==0.4.1->openclean[full]) (36.0.0)\n",
            "Requirement already satisfied: pynacl>=1.0.1 in /usr/local/lib/python3.7/dist-packages (from paramiko->flowserv-core>=0.8.0->openclean-core==0.4.1->openclean[full]) (1.4.0)\n",
            "Requirement already satisfied: bcrypt>=3.1.3 in /usr/local/lib/python3.7/dist-packages (from paramiko->flowserv-core>=0.8.0->openclean-core==0.4.1->openclean[full]) (3.2.0)\n",
            "Requirement already satisfied: cffi>=1.1 in /usr/local/lib/python3.7/dist-packages (from bcrypt>=3.1.3->paramiko->flowserv-core>=0.8.0->openclean-core==0.4.1->openclean[full]) (1.15.0)\n",
            "Requirement already satisfied: pycparser in /usr/local/lib/python3.7/dist-packages (from cffi>=1.1->bcrypt>=3.1.3->paramiko->flowserv-core>=0.8.0->openclean-core==0.4.1->openclean[full]) (2.21)\n",
            "Requirement already satisfied: hdmedians>=0.13 in /usr/local/lib/python3.7/dist-packages (from scikit-bio->openclean-pattern==0.0.1->openclean[full]) (0.14.2)\n",
            "Requirement already satisfied: lockfile>=0.10.2 in /usr/local/lib/python3.7/dist-packages (from scikit-bio->openclean-pattern==0.0.1->openclean[full]) (0.12.2)\n",
            "Requirement already satisfied: IPython>=3.2.0 in /usr/local/lib/python3.7/dist-packages (from scikit-bio->openclean-pattern==0.0.1->openclean[full]) (5.5.0)\n",
            "Requirement already satisfied: natsort>=4.0.3 in /usr/local/lib/python3.7/dist-packages (from scikit-bio->openclean-pattern==0.0.1->openclean[full]) (5.5.0)\n",
            "Requirement already satisfied: decorator>=3.4.2 in /usr/local/lib/python3.7/dist-packages (from scikit-bio->openclean-pattern==0.0.1->openclean[full]) (4.4.2)\n",
            "Requirement already satisfied: matplotlib>=1.4.3 in /usr/local/lib/python3.7/dist-packages (from scikit-bio->openclean-pattern==0.0.1->openclean[full]) (3.2.2)\n",
            "Requirement already satisfied: CacheControl>=0.11.5 in /usr/local/lib/python3.7/dist-packages (from scikit-bio->openclean-pattern==0.0.1->openclean[full]) (0.12.10)\n",
            "Requirement already satisfied: msgpack>=0.5.2 in /usr/local/lib/python3.7/dist-packages (from CacheControl>=0.11.5->scikit-bio->openclean-pattern==0.0.1->openclean[full]) (1.0.3)\n",
            "Requirement already satisfied: Cython>=0.23 in /usr/local/lib/python3.7/dist-packages (from hdmedians>=0.13->scikit-bio->openclean-pattern==0.0.1->openclean[full]) (0.29.24)\n",
            "Requirement already satisfied: traitlets>=4.2 in /usr/local/lib/python3.7/dist-packages (from IPython>=3.2.0->scikit-bio->openclean-pattern==0.0.1->openclean[full]) (5.1.1)\n",
            "Requirement already satisfied: pexpect in /usr/local/lib/python3.7/dist-packages (from IPython>=3.2.0->scikit-bio->openclean-pattern==0.0.1->openclean[full]) (4.8.0)\n",
            "Requirement already satisfied: prompt-toolkit<2.0.0,>=1.0.4 in /usr/local/lib/python3.7/dist-packages (from IPython>=3.2.0->scikit-bio->openclean-pattern==0.0.1->openclean[full]) (1.0.18)\n",
            "Requirement already satisfied: pickleshare in /usr/local/lib/python3.7/dist-packages (from IPython>=3.2.0->scikit-bio->openclean-pattern==0.0.1->openclean[full]) (0.7.5)\n",
            "Requirement already satisfied: simplegeneric>0.8 in /usr/local/lib/python3.7/dist-packages (from IPython>=3.2.0->scikit-bio->openclean-pattern==0.0.1->openclean[full]) (0.8.1)\n",
            "Requirement already satisfied: pygments in /usr/local/lib/python3.7/dist-packages (from IPython>=3.2.0->scikit-bio->openclean-pattern==0.0.1->openclean[full]) (2.6.1)\n",
            "Requirement already satisfied: cycler>=0.10 in /usr/local/lib/python3.7/dist-packages (from matplotlib>=1.4.3->scikit-bio->openclean-pattern==0.0.1->openclean[full]) (0.11.0)\n",
            "Requirement already satisfied: kiwisolver>=1.0.1 in /usr/local/lib/python3.7/dist-packages (from matplotlib>=1.4.3->scikit-bio->openclean-pattern==0.0.1->openclean[full]) (1.3.2)\n",
            "Requirement already satisfied: wcwidth in /usr/local/lib/python3.7/dist-packages (from prompt-toolkit<2.0.0,>=1.0.4->IPython>=3.2.0->scikit-bio->openclean-pattern==0.0.1->openclean[full]) (0.2.5)\n",
            "Requirement already satisfied: ptyprocess>=0.5 in /usr/local/lib/python3.7/dist-packages (from pexpect->IPython>=3.2.0->scikit-bio->openclean-pattern==0.0.1->openclean[full]) (0.7.0)\n"
          ]
        }
      ]
    },
    {
      "cell_type": "markdown",
      "source": [
        "# import file from nyc opendata"
      ],
      "metadata": {
        "id": "sJDeVexvuDVK"
      }
    },
    {
      "cell_type": "code",
      "source": [
        "!wget 'https://data.cityofnewyork.us/resource/hg8x-zxpr.csv?$$app_token=5uY6Dy7N0wt19j4Pe9PBQ1y6C&$select=borough,postcode,latitude,longitude&$limit=50000'  -O data2.csv\n",
        "!ls"
      ],
      "metadata": {
        "colab": {
          "base_uri": "https://localhost:8080/"
        },
        "id": "8Z5wj2s8uJUq",
        "outputId": "f7253ea9-2d99-4f38-8102-a3e3468ed16f"
      },
      "execution_count": 3,
      "outputs": [
        {
          "output_type": "stream",
          "name": "stdout",
          "text": [
            "--2021-12-11 09:16:18--  https://data.cityofnewyork.us/resource/hg8x-zxpr.csv?$$app_token=5uY6Dy7N0wt19j4Pe9PBQ1y6C&$select=borough,postcode,latitude,longitude&$limit=50000\n",
            "Resolving data.cityofnewyork.us (data.cityofnewyork.us)... 52.206.140.199, 52.206.68.26, 52.206.140.205\n",
            "Connecting to data.cityofnewyork.us (data.cityofnewyork.us)|52.206.140.199|:443... connected.\n",
            "HTTP request sent, awaiting response... 200 OK\n",
            "Length: unspecified [text/csv]\n",
            "Saving to: ‘data2.csv’\n",
            "\n",
            "data2.csv               [ <=>                ] 194.80K  --.-KB/s    in 0.08s   \n",
            "\n",
            "2021-12-11 09:16:19 (2.45 MB/s) - ‘data2.csv’ saved [199479]\n",
            "\n",
            "data2.csv  sample_data\n"
          ]
        }
      ]
    },
    {
      "cell_type": "markdown",
      "source": [
        "# how to use cleanGeo.py file ?"
      ],
      "metadata": {
        "id": "t6We5cLzt7Nr"
      }
    },
    {
      "cell_type": "code",
      "source": [
        "!wget https://github.com/CharlesPoletowin/BigDataProject/raw/main/src/cleanGeo.py -O cleanGeo.py\n",
        "!ls"
      ],
      "metadata": {
        "colab": {
          "base_uri": "https://localhost:8080/"
        },
        "id": "PmtA1Xw_8q0C",
        "outputId": "47bc4240-ec98-43e2-d94f-6fd1e575cbc8"
      },
      "execution_count": 6,
      "outputs": [
        {
          "output_type": "stream",
          "name": "stdout",
          "text": [
            "--2021-12-11 09:16:35--  https://github.com/CharlesPoletowin/BigDataProject/raw/main/src/cleanGeo.py\n",
            "Resolving github.com (github.com)... 140.82.113.3\n",
            "Connecting to github.com (github.com)|140.82.113.3|:443... connected.\n",
            "HTTP request sent, awaiting response... 302 Found\n",
            "Location: https://raw.githubusercontent.com/CharlesPoletowin/BigDataProject/main/src/cleanGeo.py [following]\n",
            "--2021-12-11 09:16:35--  https://raw.githubusercontent.com/CharlesPoletowin/BigDataProject/main/src/cleanGeo.py\n",
            "Resolving raw.githubusercontent.com (raw.githubusercontent.com)... 185.199.108.133, 185.199.109.133, 185.199.110.133, ...\n",
            "Connecting to raw.githubusercontent.com (raw.githubusercontent.com)|185.199.108.133|:443... connected.\n",
            "HTTP request sent, awaiting response... 200 OK\n",
            "Length: 1658 (1.6K) [text/plain]\n",
            "Saving to: ‘cleanGeo.py’\n",
            "\n",
            "cleanGeo.py         100%[===================>]   1.62K  --.-KB/s    in 0s      \n",
            "\n",
            "2021-12-11 09:16:35 (13.1 MB/s) - ‘cleanGeo.py’ saved [1658/1658]\n",
            "\n",
            "cleanGeo.py  data2.csv\t__pycache__  sample_data\n"
          ]
        }
      ]
    },
    {
      "cell_type": "code",
      "source": [
        "import pandas as pd\n",
        "from openclean.profiling.dataset import dataset_profile\n",
        "from cleanGeo import locationToZip, zipToBorough\n",
        "import numpy as np"
      ],
      "metadata": {
        "id": "yXt8S5ywvFH3"
      },
      "execution_count": 5,
      "outputs": []
    },
    {
      "cell_type": "code",
      "source": [
        "data = pd.read_csv('data2.csv')\n",
        "data[\"empty\"] = \"\"\n",
        "\n",
        "print(data)\n",
        "print(dataset_profile(data).stats())"
      ],
      "metadata": {
        "colab": {
          "base_uri": "https://localhost:8080/"
        },
        "id": "tZZAHpppwH13",
        "outputId": "8e0f944a-db85-40be-def8-b0bb391f87ff"
      },
      "execution_count": 10,
      "outputs": [
        {
          "output_type": "stream",
          "name": "stdout",
          "text": [
            "            borough  postcode   latitude  longitude empty\n",
            "0          Brooklyn   11233.0  40.677644 -73.921745      \n",
            "1          Brooklyn   11233.0  40.677925 -73.927466      \n",
            "2          Brooklyn   11233.0  40.677823 -73.926554      \n",
            "3          Brooklyn       NaN        NaN        NaN      \n",
            "4             Bronx   10452.0  40.831229 -73.921325      \n",
            "...             ...       ...        ...        ...   ...\n",
            "5357       Brooklyn       NaN        NaN        NaN      \n",
            "5358  Staten Island       NaN        NaN        NaN      \n",
            "5359  Staten Island       NaN        NaN        NaN      \n",
            "5360       Brooklyn       NaN        NaN        NaN      \n",
            "5361         Queens       NaN        NaN        NaN      \n",
            "\n",
            "[5362 rows x 5 columns]\n",
            "           total  empty  distinct  uniqueness    entropy\n",
            "borough     5362      0         5    0.000932   2.041637\n",
            "postcode    5362   1083       143    0.033419   6.174280\n",
            "latitude    5362   1083      4135    0.966347  11.991752\n",
            "longitude   5362   1083      4128    0.964711  11.988242\n",
            "empty       5362   5362         0         NaN        NaN\n"
          ]
        }
      ]
    },
    {
      "cell_type": "code",
      "source": [
        "# this function is used to solve the problem that we have latitude and longtitude but not hava zip code\n",
        "data = locationToZip(data, \"empty\", \"latitude\", \"longitude\")\n",
        "print(dataset_profile(data).stats())"
      ],
      "metadata": {
        "colab": {
          "base_uri": "https://localhost:8080/"
        },
        "id": "tkFKpl9BBK96",
        "outputId": "937beb2a-34e4-4778-9c0e-b02ef2dfb785"
      },
      "execution_count": 8,
      "outputs": [
        {
          "output_type": "stream",
          "name": "stdout",
          "text": [
            "           total  empty  distinct  uniqueness    entropy\n",
            "borough     5362      0         5    0.000932   2.041637\n",
            "postcode    5362   1083       143    0.033419   6.174280\n",
            "latitude    5362   1083      4135    0.966347  11.991752\n",
            "longitude   5362   1083      4128    0.964711  11.988242\n",
            "empty       5362      0       151    0.028161   5.654552\n"
          ]
        }
      ]
    },
    {
      "cell_type": "code",
      "source": [
        "data.dropna(subset=['postcode', 'latitude', 'longitude'], inplace=True)\n",
        "data['postcode'] = data['postcode'].astype(np.int64)\n",
        "data['empty'] = data['empty'].astype(np.int64)\n",
        "data['bool'] = np.where(data['postcode'] == data['empty'], 1, 0)\n",
        "print(data['bool'].sum() - data['bool'].count())"
      ],
      "metadata": {
        "colab": {
          "base_uri": "https://localhost:8080/"
        },
        "id": "dbaNTyntZ6bl",
        "outputId": "f91909ce-7b9e-4d93-f9b1-7dc8f5b2061b"
      },
      "execution_count": 9,
      "outputs": [
        {
          "output_type": "stream",
          "name": "stdout",
          "text": [
            "-771\n"
          ]
        }
      ]
    },
    {
      "cell_type": "code",
      "source": [
        "1 - 771/5362"
      ],
      "metadata": {
        "colab": {
          "base_uri": "https://localhost:8080/"
        },
        "id": "gweBOLyPw-A0",
        "outputId": "9f2d1d77-d056-4137-eb2f-171634e0cff3"
      },
      "execution_count": null,
      "outputs": [
        {
          "output_type": "execute_result",
          "data": {
            "text/plain": [
              "0.8562103692651996"
            ]
          },
          "metadata": {},
          "execution_count": 10
        }
      ]
    },
    {
      "cell_type": "markdown",
      "source": [
        "# try another dataset"
      ],
      "metadata": {
        "id": "x8-zadvcfM5w"
      }
    },
    {
      "cell_type": "code",
      "source": [
        "!wget 'https://data.cityofnewyork.us/resource/bty7-2jhb.csv?$$app_token=5uY6Dy7N0wt19j4Pe9PBQ1y6C&$select=borough,zip_code,latitude,longitude&$limit=50000'  -O data3.csv\n",
        "!ls"
      ],
      "metadata": {
        "colab": {
          "base_uri": "https://localhost:8080/"
        },
        "id": "_xsNzKltbQqH",
        "outputId": "3cbf8368-cd16-4e9e-9d36-2ef2e91b08b9"
      },
      "execution_count": null,
      "outputs": [
        {
          "output_type": "stream",
          "name": "stdout",
          "text": [
            "--2021-12-11 00:56:10--  https://data.cityofnewyork.us/resource/bty7-2jhb.csv?$$app_token=5uY6Dy7N0wt19j4Pe9PBQ1y6C&$select=borough,zip_code,latitude,longitude&$limit=50000\n",
            "Resolving data.cityofnewyork.us (data.cityofnewyork.us)... 52.206.140.205, 52.206.68.26, 52.206.140.199\n",
            "Connecting to data.cityofnewyork.us (data.cityofnewyork.us)|52.206.140.205|:443... connected.\n",
            "HTTP request sent, awaiting response... 200 OK\n",
            "Length: unspecified [text/csv]\n",
            "Saving to: ‘data3.csv’\n",
            "\n",
            "data3.csv               [  <=>               ]   1.94M  5.00MB/s    in 0.4s    \n",
            "\n",
            "2021-12-11 00:56:12 (5.00 MB/s) - ‘data3.csv’ saved [2033795]\n",
            "\n",
            "cleanGeo.py  data3.csv\tdata5.csv  data7.csv\tsample_data\n",
            "data2.csv    data4.csv\tdata6.csv  __pycache__\n"
          ]
        }
      ]
    },
    {
      "cell_type": "code",
      "source": [
        "data = pd.read_csv('data3.csv')\n",
        "data[\"empty\"] = \"\"\n",
        "print(data.head())\n",
        "print(dataset_profile(data).stats())\n",
        "data = locationToZip(data, \"empty\", \"latitude\", \"longitude\")\n",
        "print(dataset_profile(data).stats())\n",
        "data.dropna(subset=['zip_code', 'latitude', 'longitude'], inplace=True)\n",
        "data['zip_code'] = data['zip_code'].astype(np.int64)\n",
        "data['empty'] = data['empty'].astype(np.int64)\n",
        "data['bool'] = np.where(data['zip_code'] == data['empty'], 1, 0)\n",
        "print(data['bool'].sum() - data['bool'].count())"
      ],
      "metadata": {
        "colab": {
          "base_uri": "https://localhost:8080/"
        },
        "id": "m_DtLY23fwTl",
        "outputId": "478ec3f1-8feb-445d-c804-0120351bda9d"
      },
      "execution_count": null,
      "outputs": [
        {
          "output_type": "stream",
          "name": "stdout",
          "text": [
            "  borough  zip_code   latitude  longitude empty\n",
            "0   BRONX   10458.0  40.867490 -73.883225      \n",
            "1   BRONX   10475.0  40.875769 -73.828899      \n",
            "2   BRONX   10453.0  40.852603 -73.911461      \n",
            "3   BRONX   10453.0  40.851661 -73.906937      \n",
            "4   BRONX   10463.0  40.885720 -73.910270      \n",
            "           total  empty  distinct  uniqueness    entropy\n",
            "borough    50000      0         1    0.000020   0.000000\n",
            "zip_code   50000     26        27    0.000540   4.568881\n",
            "latitude   50000    214     19767    0.397039  13.747694\n",
            "longitude  50000    214     19880    0.399309  13.749139\n",
            "empty      50000  50000         0         NaN        NaN\n",
            "           total  empty  distinct  uniqueness    entropy\n",
            "borough    50000      0         1    0.000020   0.000000\n",
            "zip_code   50000     26        27    0.000540   4.568881\n",
            "latitude   50000    214     19767    0.397039  13.747694\n",
            "longitude  50000    214     19880    0.399309  13.749139\n",
            "empty      50000      0        31    0.000620   4.641425\n",
            "-10013\n"
          ]
        }
      ]
    },
    {
      "cell_type": "code",
      "source": [
        "1 - 10013 / 50000"
      ],
      "metadata": {
        "colab": {
          "base_uri": "https://localhost:8080/"
        },
        "id": "LAYY4ny2xB8u",
        "outputId": "bb06ac92-dd42-47fc-902a-91dc765ce7b8"
      },
      "execution_count": null,
      "outputs": [
        {
          "output_type": "execute_result",
          "data": {
            "text/plain": [
              "0.79974"
            ]
          },
          "metadata": {},
          "execution_count": 13
        }
      ]
    },
    {
      "cell_type": "markdown",
      "source": [
        "# try another dataset"
      ],
      "metadata": {
        "id": "UJA8XGUFv-E1"
      }
    },
    {
      "cell_type": "code",
      "source": [
        "!wget 'https://data.cityofnewyork.us/resource/erm2-nwe9.csv?$$app_token=5uY6Dy7N0wt19j4Pe9PBQ1y6C&$select=borough,incident_zip,latitude,longitude&$limit=50000'  -O data4.csv\n",
        "!ls"
      ],
      "metadata": {
        "colab": {
          "base_uri": "https://localhost:8080/"
        },
        "id": "PHWturnsn4KD",
        "outputId": "da1018c3-6c52-41d7-8da1-69536f1997fa"
      },
      "execution_count": null,
      "outputs": [
        {
          "output_type": "stream",
          "name": "stdout",
          "text": [
            "--2021-12-11 00:56:43--  https://data.cityofnewyork.us/resource/erm2-nwe9.csv?$$app_token=5uY6Dy7N0wt19j4Pe9PBQ1y6C&$select=borough,incident_zip,latitude,longitude&$limit=50000\n",
            "Resolving data.cityofnewyork.us (data.cityofnewyork.us)... 52.206.140.199, 52.206.140.205, 52.206.68.26\n",
            "Connecting to data.cityofnewyork.us (data.cityofnewyork.us)|52.206.140.199|:443... connected.\n",
            "HTTP request sent, awaiting response... 200 OK\n",
            "Length: unspecified [text/csv]\n",
            "Saving to: ‘data4.csv’\n",
            "\n",
            "data4.csv               [    <=>             ]   2.83M  3.12MB/s    in 0.9s    \n",
            "\n",
            "2021-12-11 00:56:45 (3.12 MB/s) - ‘data4.csv’ saved [2967332]\n",
            "\n",
            "cleanGeo.py  data3.csv\tdata5.csv  data7.csv\tsample_data\n",
            "data2.csv    data4.csv\tdata6.csv  __pycache__\n"
          ]
        }
      ]
    },
    {
      "cell_type": "code",
      "source": [
        "data = pd.read_csv('data4.csv')\n",
        "data[\"empty\"] = \"\"\n",
        "print(data.head())\n",
        "print(dataset_profile(data).stats())\n",
        "data = locationToZip(data, \"empty\", \"latitude\", \"longitude\")\n",
        "print(dataset_profile(data).stats())\n",
        "data.dropna(subset=['incident_zip', 'latitude', 'longitude'], inplace=True)\n",
        "data['incident_zip'] = data['incident_zip'].astype(np.int64)\n",
        "data['empty'] = data['empty'].astype(np.int64)\n",
        "data['bool'] = np.where(data['incident_zip'] == data['empty'], 1, 0)\n",
        "print(data['bool'].sum() - data['bool'].count())"
      ],
      "metadata": {
        "colab": {
          "base_uri": "https://localhost:8080/"
        },
        "id": "jZs01g_kyc82",
        "outputId": "94a59b74-20ad-4ae6-dbdf-51be16fe3036"
      },
      "execution_count": null,
      "outputs": [
        {
          "output_type": "stream",
          "name": "stdout",
          "text": [
            "     borough  incident_zip   latitude  longitude empty\n",
            "0      BRONX       10458.0  40.867556 -73.892138      \n",
            "1      BRONX       10472.0  40.825023 -73.877378      \n",
            "2     QUEENS       11412.0  40.688669 -73.755124      \n",
            "3  MANHATTAN       10023.0  40.780172 -73.985326      \n",
            "4   BROOKLYN       11225.0  40.663816 -73.952554      \n",
            "              total  empty  distinct  uniqueness    entropy\n",
            "borough       50000      0         6    0.000120   2.140665\n",
            "incident_zip  50000      7       188    0.003761   7.006741\n",
            "latitude      50000     11     24797    0.496049  13.888545\n",
            "longitude     50000     11     24797    0.496049  13.888545\n",
            "empty         50000  50000         0         NaN        NaN\n",
            "              total  empty  distinct  uniqueness    entropy\n",
            "borough       50000      0         6    0.000120   2.140665\n",
            "incident_zip  50000      7       188    0.003761   7.006741\n",
            "latitude      50000     11     24797    0.496049  13.888545\n",
            "longitude     50000     11     24797    0.496049  13.888545\n",
            "empty         50000      0       207    0.004140   7.062085\n",
            "-10360\n"
          ]
        }
      ]
    },
    {
      "cell_type": "code",
      "source": [
        "1 - 10516 / 50000"
      ],
      "metadata": {
        "colab": {
          "base_uri": "https://localhost:8080/"
        },
        "id": "RjlekO9r0sOT",
        "outputId": "aefb1f60-1e91-4226-c8e0-85aa090281a4"
      },
      "execution_count": null,
      "outputs": [
        {
          "output_type": "execute_result",
          "data": {
            "text/plain": [
              "0.7896799999999999"
            ]
          },
          "metadata": {},
          "execution_count": 16
        }
      ]
    },
    {
      "cell_type": "markdown",
      "source": [
        "# try another dataset"
      ],
      "metadata": {
        "id": "nlY1w7i31-w6"
      }
    },
    {
      "cell_type": "code",
      "source": [
        "!wget 'https://data.cityofnewyork.us/resource/43nn-pn8j.csv?$$app_token=5uY6Dy7N0wt19j4Pe9PBQ1y6C&$select=zipcode,latitude,longitude&$limit=50000'  -O data5.csv\n",
        "!ls"
      ],
      "metadata": {
        "colab": {
          "base_uri": "https://localhost:8080/"
        },
        "id": "EDrX1YrY05Ud",
        "outputId": "766444ac-05f2-420b-9296-ebcf9757b2a0"
      },
      "execution_count": null,
      "outputs": [
        {
          "output_type": "stream",
          "name": "stdout",
          "text": [
            "--2021-12-11 00:57:12--  https://data.cityofnewyork.us/resource/43nn-pn8j.csv?$$app_token=5uY6Dy7N0wt19j4Pe9PBQ1y6C&$select=zipcode,latitude,longitude&$limit=50000\n",
            "Resolving data.cityofnewyork.us (data.cityofnewyork.us)... 52.206.68.26, 52.206.140.205, 52.206.140.199\n",
            "Connecting to data.cityofnewyork.us (data.cityofnewyork.us)|52.206.68.26|:443... connected.\n",
            "HTTP request sent, awaiting response... 200 OK\n",
            "Length: unspecified [text/csv]\n",
            "Saving to: ‘data5.csv’\n",
            "\n",
            "data5.csv               [      <=>           ]   2.11M  1.59MB/s    in 1.3s    \n",
            "\n",
            "2021-12-11 00:57:14 (1.59 MB/s) - ‘data5.csv’ saved [2210615]\n",
            "\n",
            "cleanGeo.py  data3.csv\tdata5.csv  data7.csv\tsample_data\n",
            "data2.csv    data4.csv\tdata6.csv  __pycache__\n"
          ]
        }
      ]
    },
    {
      "cell_type": "code",
      "source": [
        "data = pd.read_csv('data5.csv')\n",
        "data[\"empty\"] = \"\"\n",
        "zipcode = 'zipcode'\n",
        "print(data.head())\n",
        "print(dataset_profile(data).stats())\n",
        "data = locationToZip(data, \"empty\", \"latitude\", \"longitude\")\n",
        "print(dataset_profile(data).stats())\n",
        "data.dropna(subset=[zipcode, 'latitude', 'longitude'], inplace=True)\n",
        "data[zipcode] = data[zipcode].astype(np.int64)\n",
        "data['empty'] = data['empty'].astype(np.int64)\n",
        "data['bool'] = np.where(data[zipcode] == data['empty'], 1, 0)\n",
        "print(data['bool'].sum() - data['bool'].count())"
      ],
      "metadata": {
        "colab": {
          "base_uri": "https://localhost:8080/"
        },
        "id": "yM7vmSKD31ex",
        "outputId": "d4ab269a-3070-4c99-9e2d-7ddb256ab55f"
      },
      "execution_count": null,
      "outputs": [
        {
          "output_type": "stream",
          "name": "stdout",
          "text": [
            "   zipcode   latitude  longitude empty\n",
            "0  11103.0  40.768484 -73.911229      \n",
            "1  11209.0  40.633865 -74.026798      \n",
            "2  10065.0  40.766363 -73.962502      \n",
            "3  11222.0  40.725973 -73.940596      \n",
            "4  11232.0  40.654388 -74.004343      \n",
            "           total  empty  distinct  uniqueness    entropy\n",
            "zipcode    50000    751       218    0.004426   7.023235\n",
            "latitude   50000     48     16660    0.333520  13.540632\n",
            "longitude  50000     48     16660    0.333520  13.540632\n",
            "empty      50000  50000         0         NaN        NaN\n",
            "           total  empty  distinct  uniqueness    entropy\n",
            "zipcode    50000    751       218    0.004426   7.023235\n",
            "latitude   50000     48     16660    0.333520  13.540632\n",
            "longitude  50000     48     16660    0.333520  13.540632\n",
            "empty      50000      0       206    0.004120   7.217605\n",
            "-12447\n"
          ]
        }
      ]
    },
    {
      "cell_type": "code",
      "source": [
        "1 - 12447 / 50000"
      ],
      "metadata": {
        "colab": {
          "base_uri": "https://localhost:8080/"
        },
        "id": "v_8Jkooa4DST",
        "outputId": "2ced3cbe-1e39-424b-f86a-c1646c041be9"
      },
      "execution_count": null,
      "outputs": [
        {
          "output_type": "execute_result",
          "data": {
            "text/plain": [
              "0.7510600000000001"
            ]
          },
          "metadata": {},
          "execution_count": 19
        }
      ]
    },
    {
      "cell_type": "markdown",
      "source": [
        "# try another data set"
      ],
      "metadata": {
        "id": "s4bTuUNj42yY"
      }
    },
    {
      "cell_type": "code",
      "source": [
        "!wget 'https://data.cityofnewyork.us/resource/59kj-x8nc.csv?$$app_token=5uY6Dy7N0wt19j4Pe9PBQ1y6C&$select=zip,latitude,longitude&$limit=50000'  -O data6.csv\n",
        "!ls"
      ],
      "metadata": {
        "colab": {
          "base_uri": "https://localhost:8080/"
        },
        "id": "WR2Edjic4N9j",
        "outputId": "6dedbd8c-c1c9-4b33-b30e-a9e200f1928c"
      },
      "execution_count": null,
      "outputs": [
        {
          "output_type": "stream",
          "name": "stdout",
          "text": [
            "--2021-12-11 00:57:41--  https://data.cityofnewyork.us/resource/59kj-x8nc.csv?$$app_token=5uY6Dy7N0wt19j4Pe9PBQ1y6C&$select=zip,latitude,longitude&$limit=50000\n",
            "Resolving data.cityofnewyork.us (data.cityofnewyork.us)... 52.206.140.199, 52.206.140.205, 52.206.68.26\n",
            "Connecting to data.cityofnewyork.us (data.cityofnewyork.us)|52.206.140.199|:443... connected.\n",
            "HTTP request sent, awaiting response... 200 OK\n",
            "Length: unspecified [text/csv]\n",
            "Saving to: ‘data6.csv’\n",
            "\n",
            "data6.csv               [  <=>               ]   1.57M  4.87MB/s    in 0.3s    \n",
            "\n",
            "2021-12-11 00:57:42 (4.87 MB/s) - ‘data6.csv’ saved [1649248]\n",
            "\n",
            "cleanGeo.py  data3.csv\tdata5.csv  data7.csv\tsample_data\n",
            "data2.csv    data4.csv\tdata6.csv  __pycache__\n"
          ]
        }
      ]
    },
    {
      "cell_type": "code",
      "source": [
        "data = pd.read_csv('data6.csv')\n",
        "data[\"empty\"] = \"\"\n",
        "zipcode = 'zip'\n",
        "print(data.head())\n",
        "print(dataset_profile(data).stats())\n",
        "data = locationToZip(data, \"empty\", \"latitude\", \"longitude\")\n",
        "print(dataset_profile(data).stats())\n",
        "data.dropna(subset=[zipcode, 'latitude', 'longitude'], inplace=True)\n",
        "data[zipcode] = data[zipcode].astype(np.int64)\n",
        "data['empty'] = data['empty'].astype(np.int64)\n",
        "data['bool'] = np.where(data[zipcode] == data['empty'], 1, 0)\n",
        "print(data['bool'].sum() - data['bool'].count())"
      ],
      "metadata": {
        "colab": {
          "base_uri": "https://localhost:8080/"
        },
        "id": "0ae9abak5UG_",
        "outputId": "15bc7b98-319f-49ad-d05a-aa12c4e0acea"
      },
      "execution_count": null,
      "outputs": [
        {
          "output_type": "stream",
          "name": "stdout",
          "text": [
            "       zip   latitude  longitude empty\n",
            "0  11226.0  40.639709 -73.953068      \n",
            "1  10065.0  40.767250 -73.970415      \n",
            "2  11222.0  40.731788 -73.952751      \n",
            "3  10457.0  40.856598 -73.900434      \n",
            "4  10455.0  40.811197 -73.908810      \n",
            "           total  empty  distinct  uniqueness    entropy\n",
            "zip        50000     13       178    0.003561   6.646155\n",
            "latitude   50000     30     26375    0.527817  14.271455\n",
            "longitude  50000     30     26039    0.521093  14.245269\n",
            "empty      50000  50000         0         NaN        NaN\n",
            "           total  empty  distinct  uniqueness    entropy\n",
            "zip        50000     13       178    0.003561   6.646155\n",
            "latitude   50000     30     26375    0.527817  14.271455\n",
            "longitude  50000     30     26039    0.521093  14.245269\n",
            "empty      50000      0       202    0.004040   6.676660\n",
            "-10168\n"
          ]
        }
      ]
    },
    {
      "cell_type": "code",
      "source": [
        "1 - 10168 / 50000"
      ],
      "metadata": {
        "colab": {
          "base_uri": "https://localhost:8080/"
        },
        "id": "7wSmRHP75Vzf",
        "outputId": "cb3fe295-5dd7-435c-fa2a-a95b348c70cf"
      },
      "execution_count": null,
      "outputs": [
        {
          "output_type": "execute_result",
          "data": {
            "text/plain": [
              "0.79664"
            ]
          },
          "metadata": {},
          "execution_count": 22
        }
      ]
    },
    {
      "cell_type": "markdown",
      "source": [
        "# try another data set"
      ],
      "metadata": {
        "id": "RQ0v5RLH6o7h"
      }
    },
    {
      "cell_type": "code",
      "source": [
        "!wget 'https://data.cityofnewyork.us/resource/9a87-6m4x.csv?$$app_token=5uY6Dy7N0wt19j4Pe9PBQ1y6C&$select=zip_code,latitude,longitude&$limit=50000'  -O data7.csv\n",
        "!ls\n"
      ],
      "metadata": {
        "colab": {
          "base_uri": "https://localhost:8080/"
        },
        "id": "o9g8-J-m50jM",
        "outputId": "3eb529bc-ff32-4d55-e0bc-a793e43aaa4d"
      },
      "execution_count": null,
      "outputs": [
        {
          "output_type": "stream",
          "name": "stdout",
          "text": [
            "--2021-12-11 00:58:08--  https://data.cityofnewyork.us/resource/9a87-6m4x.csv?$$app_token=5uY6Dy7N0wt19j4Pe9PBQ1y6C&$select=zip_code,latitude,longitude&$limit=50000\n",
            "Resolving data.cityofnewyork.us (data.cityofnewyork.us)... 52.206.140.199, 52.206.140.205, 52.206.68.26\n",
            "Connecting to data.cityofnewyork.us (data.cityofnewyork.us)|52.206.140.199|:443... connected.\n",
            "HTTP request sent, awaiting response... 200 OK\n",
            "Length: unspecified [text/csv]\n",
            "Saving to: ‘data7.csv’\n",
            "\n",
            "data7.csv               [ <=>                ]  16.01K  --.-KB/s    in 0s      \n",
            "\n",
            "2021-12-11 00:58:09 (135 MB/s) - ‘data7.csv’ saved [16399]\n",
            "\n",
            "cleanGeo.py  data3.csv\tdata5.csv  data7.csv\tsample_data\n",
            "data2.csv    data4.csv\tdata6.csv  __pycache__\n"
          ]
        }
      ]
    },
    {
      "cell_type": "code",
      "source": [
        "data = pd.read_csv('data7.csv')\n",
        "data[\"empty\"] = \"\"\n",
        "zipcode = 'zip_code'\n",
        "print(data.head())\n",
        "print(dataset_profile(data).stats())\n",
        "data = locationToZip(data, \"empty\", \"latitude\", \"longitude\")\n",
        "print(dataset_profile(data).stats())\n",
        "data.dropna(subset=[zipcode, 'latitude', 'longitude'], inplace=True)\n",
        "data[zipcode] = data[zipcode].astype(np.int64)\n",
        "data['empty'] = data['empty'].astype(np.int64)\n",
        "data['bool'] = np.where(data[zipcode] == data['empty'], 1, 0)\n",
        "print(data['bool'].sum() - data['bool'].count())\n"
      ],
      "metadata": {
        "colab": {
          "base_uri": "https://localhost:8080/"
        },
        "id": "f08SKgQo63Wo",
        "outputId": "68d9506d-0379-4173-98e3-7a6b9973bd72"
      },
      "execution_count": null,
      "outputs": [
        {
          "output_type": "stream",
          "name": "stdout",
          "text": [
            "   zip_code   latitude  longitude empty\n",
            "0   11354.0  40.760612 -73.833642      \n",
            "1   11437.0  40.668289 -73.795990      \n",
            "2   11373.0  40.732880 -73.888332      \n",
            "3   11224.0  40.576052 -73.985756      \n",
            "4   11354.0        NaN        NaN      \n",
            "           total  empty  distinct  uniqueness   entropy\n",
            "zip_code     545      4       136    0.251386  6.429949\n",
            "latitude     545     69       458    0.962185  8.803411\n",
            "longitude    545     69       462    0.970588  8.820217\n",
            "empty        545    545         0         NaN       NaN\n",
            "           total  empty  distinct  uniqueness   entropy\n",
            "zip_code     545      4       136    0.251386  6.429949\n",
            "latitude     545     69       458    0.962185  8.803411\n",
            "longitude    545     69       462    0.970588  8.820217\n",
            "empty        545      0       136    0.249541  6.290450\n",
            "-165\n"
          ]
        }
      ]
    },
    {
      "cell_type": "code",
      "source": [
        "1 - 165 / 545"
      ],
      "metadata": {
        "colab": {
          "base_uri": "https://localhost:8080/"
        },
        "id": "l3jJjVB967NT",
        "outputId": "add0aa43-ab5e-4afc-c538-98f8933a7d2e"
      },
      "execution_count": null,
      "outputs": [
        {
          "output_type": "execute_result",
          "data": {
            "text/plain": [
              "0.6972477064220184"
            ]
          },
          "metadata": {},
          "execution_count": 25
        }
      ]
    },
    {
      "cell_type": "markdown",
      "source": [
        "### Recall"
      ],
      "metadata": {
        "id": "7jtkXOei09CA"
      }
    },
    {
      "cell_type": "code",
      "source": [
        "import matplotlib.pyplot as plt\n",
        "%matplotlib inline\n",
        "x = [1, 2, 3, 4, 5, 6]\n",
        "recall = [(5362-1083)/5362, (50000-214)/50000, (50000-11)/50000, (50000-48)/50000, (50000-30)/50000, (545-69)/545]\n",
        "plt.bar(x, height = recall, color = \"blue\")\n",
        "plt.xlabel(\"Datasets\")\n",
        "plt.ylabel(\"Recall\")\n",
        "for i in range(len(recall)):\n",
        "  plt.text(i+1, recall[i], round(recall[i], 4), ha = 'center', va = 'bottom')\n",
        "plt.show()"
      ],
      "metadata": {
        "id": "oqNCS7kr69of",
        "outputId": "6709f8cf-0bc7-428b-9ccf-6a1d627b314b",
        "colab": {
          "base_uri": "https://localhost:8080/",
          "height": 279
        }
      },
      "execution_count": 26,
      "outputs": [
        {
          "output_type": "display_data",
          "data": {
            "image/png": "[encoded data removed]",
            "text/plain": [
              "<Figure size 432x288 with 1 Axes>"
            ]
          },
          "metadata": {
            "needs_background": "light"
          }
        }
      ]
    }
  ]
}