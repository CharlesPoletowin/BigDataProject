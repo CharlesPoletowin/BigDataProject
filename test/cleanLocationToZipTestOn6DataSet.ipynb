{
  "nbformat": 4,
  "nbformat_minor": 0,
  "metadata": {
    "colab": {
      "name": "cleanLocationToZipTestOn6DataSet.ipynb",
      "provenance": [],
      "toc_visible": true,
      "authorship_tag": "ABX9TyM1+u8CmdcVMxG4iiB8Z7XG",
      "include_colab_link": true
    },
    "kernelspec": {
      "name": "python3",
      "display_name": "Python 3"
    },
    "language_info": {
      "name": "python"
    }
  },
  "cells": [
    {
      "cell_type": "markdown",
      "metadata": {
        "id": "view-in-github",
        "colab_type": "text"
      },
      "source": [
        "<a href=\"https://colab.research.google.com/github/CharlesPoletowin/BigDataProject/blob/main/test/cleanLocationToZipTestOn6DataSet.ipynb\" target=\"_parent\"><img src=\"https://colab.research.google.com/assets/colab-badge.svg\" alt=\"Open In Colab\"/></a>"
      ]
    },
    {
      "cell_type": "markdown",
      "source": [
        "# pip install"
      ],
      "metadata": {
        "id": "m6PMu3NKtzG6"
      }
    },
    {
      "cell_type": "code",
      "metadata": {
        "colab": {
          "base_uri": "https://localhost:8080/"
        },
        "id": "4KcAeaCCYC3f",
        "outputId": "8c52850c-3086-404c-ebff-bb5fd0a79145"
      },
      "source": [
        "!pip install openclean[full]"
      ],
      "execution_count": 1,
      "outputs": [
        {
          "output_type": "stream",
          "name": "stdout",
          "text": [
            "Collecting openclean[full]\n",
            "  Downloading openclean-0.2.1-py3-none-any.whl (5.2 kB)\n",
            "Collecting openclean-core==0.4.1\n",
            "  Downloading openclean_core-0.4.1-py3-none-any.whl (267 kB)\n",
            "\u001b[K     |████████████████████████████████| 267 kB 9.0 MB/s \n",
            "\u001b[?25hCollecting openclean-geo==0.1.0\n",
            "  Downloading openclean_geo-0.1.0-py3-none-any.whl (10 kB)\n",
            "Collecting docker\n",
            "  Downloading docker-5.0.3-py2.py3-none-any.whl (146 kB)\n",
            "\u001b[K     |████████████████████████████████| 146 kB 46.2 MB/s \n",
            "\u001b[?25hCollecting openclean-metanome==0.2.0\n",
            "  Downloading openclean_metanome-0.2.0-py3-none-any.whl (16 kB)\n",
            "Collecting openclean-pattern==0.0.1\n",
            "  Downloading openclean_pattern-0.0.1-py3-none-any.whl (58 kB)\n",
            "\u001b[K     |████████████████████████████████| 58 kB 4.5 MB/s \n",
            "\u001b[?25hCollecting openclean-notebook==0.1.7\n",
            "  Downloading openclean_notebook-0.1.7-py3-none-any.whl (1.4 MB)\n",
            "\u001b[K     |████████████████████████████████| 1.4 MB 38.7 MB/s \n",
            "\u001b[?25hRequirement already satisfied: python-dateutil in /usr/local/lib/python3.7/dist-packages (from openclean-core==0.4.1->openclean[full]) (2.8.2)\n",
            "Collecting flowserv-core>=0.8.0\n",
            "  Downloading flowserv_core-0.9.2-py3-none-any.whl (260 kB)\n",
            "\u001b[K     |████████████████████████████████| 260 kB 46.7 MB/s \n",
            "\u001b[?25hCollecting jellyfish\n",
            "  Downloading jellyfish-0.8.9.tar.gz (137 kB)\n",
            "\u001b[K     |████████████████████████████████| 137 kB 36.4 MB/s \n",
            "\u001b[?25hRequirement already satisfied: dill in /usr/local/lib/python3.7/dist-packages (from openclean-core==0.4.1->openclean[full]) (0.3.4)\n",
            "Requirement already satisfied: future in /usr/local/lib/python3.7/dist-packages (from openclean-core==0.4.1->openclean[full]) (0.16.0)\n",
            "Collecting refdata>=0.2.0\n",
            "  Downloading refdata-0.2.0-py3-none-any.whl (37 kB)\n",
            "Collecting jsonschema>=3.2.0\n",
            "  Downloading jsonschema-4.2.1-py3-none-any.whl (69 kB)\n",
            "\u001b[K     |████████████████████████████████| 69 kB 4.6 MB/s \n",
            "\u001b[?25hRequirement already satisfied: requests in /usr/local/lib/python3.7/dist-packages (from openclean-core==0.4.1->openclean[full]) (2.23.0)\n",
            "Requirement already satisfied: appdirs>=1.4.4 in /usr/local/lib/python3.7/dist-packages (from openclean-core==0.4.1->openclean[full]) (1.4.4)\n",
            "Requirement already satisfied: scikit-learn in /usr/local/lib/python3.7/dist-packages (from openclean-core==0.4.1->openclean[full]) (1.0.1)\n",
            "Requirement already satisfied: scipy in /usr/local/lib/python3.7/dist-packages (from openclean-core==0.4.1->openclean[full]) (1.4.1)\n",
            "Collecting histore>=0.4.0\n",
            "  Downloading histore-0.4.1-py3-none-any.whl (109 kB)\n",
            "\u001b[K     |████████████████████████████████| 109 kB 43.4 MB/s \n",
            "\u001b[?25hRequirement already satisfied: pandas>=1.0.0 in /usr/local/lib/python3.7/dist-packages (from openclean-core==0.4.1->openclean[full]) (1.1.5)\n",
            "Requirement already satisfied: Shapely>=1.7.1 in /usr/local/lib/python3.7/dist-packages (from openclean-geo==0.1.0->openclean[full]) (1.8.0)\n",
            "Collecting datamart-profiler==0.9\n",
            "  Downloading datamart_profiler-0.9-py3-none-any.whl (29 kB)\n",
            "Collecting jsonschema>=3.2.0\n",
            "  Downloading jsonschema-3.2.0-py2.py3-none-any.whl (56 kB)\n",
            "\u001b[K     |████████████████████████████████| 56 kB 2.5 MB/s \n",
            "\u001b[?25hRequirement already satisfied: regex in /usr/local/lib/python3.7/dist-packages (from datamart-profiler==0.9->openclean-notebook==0.1.7->openclean[full]) (2019.12.20)\n",
            "Collecting datamart-geo==0.2.1\n",
            "  Downloading datamart_geo-0.2.1-py3-none-any.whl (6.2 kB)\n",
            "Requirement already satisfied: numpy in /usr/local/lib/python3.7/dist-packages (from datamart-profiler==0.9->openclean-notebook==0.1.7->openclean[full]) (1.19.5)\n",
            "Collecting scikit-learn\n",
            "  Downloading scikit_learn-0.23.2-cp37-cp37m-manylinux1_x86_64.whl (6.8 MB)\n",
            "\u001b[K     |████████████████████████████████| 6.8 MB 45.1 MB/s \n",
            "\u001b[?25hRequirement already satisfied: prometheus-client in /usr/local/lib/python3.7/dist-packages (from datamart-profiler==0.9->openclean-notebook==0.1.7->openclean[full]) (0.12.0)\n",
            "Requirement already satisfied: importlib-metadata in /usr/local/lib/python3.7/dist-packages (from jsonschema>=3.2.0->openclean-core==0.4.1->openclean[full]) (4.8.2)\n",
            "Requirement already satisfied: six>=1.11.0 in /usr/local/lib/python3.7/dist-packages (from jsonschema>=3.2.0->openclean-core==0.4.1->openclean[full]) (1.15.0)\n",
            "Requirement already satisfied: setuptools in /usr/local/lib/python3.7/dist-packages (from jsonschema>=3.2.0->openclean-core==0.4.1->openclean[full]) (57.4.0)\n",
            "Requirement already satisfied: pyrsistent>=0.14.0 in /usr/local/lib/python3.7/dist-packages (from jsonschema>=3.2.0->openclean-core==0.4.1->openclean[full]) (0.18.0)\n",
            "Requirement already satisfied: attrs>=17.4.0 in /usr/local/lib/python3.7/dist-packages (from jsonschema>=3.2.0->openclean-core==0.4.1->openclean[full]) (21.2.0)\n",
            "Collecting pygtrie==2.3.3\n",
            "  Downloading pygtrie-2.3.3.tar.gz (34 kB)\n",
            "Collecting scikit-bio\n",
            "  Downloading scikit-bio-0.5.6.tar.gz (8.4 MB)\n",
            "\u001b[K     |████████████████████████████████| 8.4 MB 9.8 MB/s \n",
            "\u001b[?25hCollecting pyyaml-include\n",
            "  Downloading pyyaml_include-1.2.post2-py3-none-any.whl (20 kB)\n",
            "Collecting paramiko\n",
            "  Downloading paramiko-2.8.1-py2.py3-none-any.whl (206 kB)\n",
            "\u001b[K     |████████████████████████████████| 206 kB 52.1 MB/s \n",
            "\u001b[?25hCollecting gitpython\n",
            "  Downloading GitPython-3.1.24-py3-none-any.whl (180 kB)\n",
            "\u001b[K     |████████████████████████████████| 180 kB 69.2 MB/s \n",
            "\u001b[?25hRequirement already satisfied: Click in /usr/local/lib/python3.7/dist-packages (from flowserv-core>=0.8.0->openclean-core==0.4.1->openclean[full]) (7.1.2)\n",
            "Requirement already satisfied: SQLAlchemy>=1.3.18 in /usr/local/lib/python3.7/dist-packages (from flowserv-core>=0.8.0->openclean-core==0.4.1->openclean[full]) (1.4.27)\n",
            "Collecting passlib\n",
            "  Downloading passlib-1.7.4-py2.py3-none-any.whl (525 kB)\n",
            "\u001b[K     |████████████████████████████████| 525 kB 73.6 MB/s \n",
            "\u001b[?25hCollecting pyyaml>=5.1\n",
            "  Downloading PyYAML-6.0-cp37-cp37m-manylinux_2_5_x86_64.manylinux1_x86_64.manylinux_2_12_x86_64.manylinux2010_x86_64.whl (596 kB)\n",
            "\u001b[K     |████████████████████████████████| 596 kB 53.6 MB/s \n",
            "\u001b[?25hRequirement already satisfied: psutil in /usr/local/lib/python3.7/dist-packages (from histore>=0.4.0->openclean-core==0.4.1->openclean[full]) (5.4.8)\n",
            "Requirement already satisfied: pytz>=2017.2 in /usr/local/lib/python3.7/dist-packages (from pandas>=1.0.0->openclean-core==0.4.1->openclean[full]) (2018.9)\n",
            "Collecting datasize>=1.0.0\n",
            "  Downloading datasize-1.0.0.tar.gz (149 kB)\n",
            "\u001b[K     |████████████████████████████████| 149 kB 68.4 MB/s \n",
            "\u001b[?25hRequirement already satisfied: pooch>=1.3.0 in /usr/local/lib/python3.7/dist-packages (from refdata>=0.2.0->openclean-core==0.4.1->openclean[full]) (1.5.2)\n",
            "Collecting tableprint\n",
            "  Downloading tableprint-0.9.1-py3-none-any.whl (6.8 kB)\n",
            "Requirement already satisfied: packaging in /usr/local/lib/python3.7/dist-packages (from pooch>=1.3.0->refdata>=0.2.0->openclean-core==0.4.1->openclean[full]) (21.3)\n",
            "Requirement already satisfied: joblib>=0.11 in /usr/local/lib/python3.7/dist-packages (from scikit-learn->openclean-core==0.4.1->openclean[full]) (1.1.0)\n",
            "Requirement already satisfied: threadpoolctl>=2.0.0 in /usr/local/lib/python3.7/dist-packages (from scikit-learn->openclean-core==0.4.1->openclean[full]) (3.0.0)\n",
            "Requirement already satisfied: greenlet!=0.4.17 in /usr/local/lib/python3.7/dist-packages (from SQLAlchemy>=1.3.18->flowserv-core>=0.8.0->openclean-core==0.4.1->openclean[full]) (1.1.2)\n",
            "Collecting websocket-client>=0.32.0\n",
            "  Downloading websocket_client-1.2.3-py3-none-any.whl (53 kB)\n",
            "\u001b[K     |████████████████████████████████| 53 kB 1.8 MB/s \n",
            "\u001b[?25hRequirement already satisfied: idna<3,>=2.5 in /usr/local/lib/python3.7/dist-packages (from requests->openclean-core==0.4.1->openclean[full]) (2.10)\n",
            "Requirement already satisfied: urllib3!=1.25.0,!=1.25.1,<1.26,>=1.21.1 in /usr/local/lib/python3.7/dist-packages (from requests->openclean-core==0.4.1->openclean[full]) (1.24.3)\n",
            "Requirement already satisfied: certifi>=2017.4.17 in /usr/local/lib/python3.7/dist-packages (from requests->openclean-core==0.4.1->openclean[full]) (2021.10.8)\n",
            "Requirement already satisfied: chardet<4,>=3.0.2 in /usr/local/lib/python3.7/dist-packages (from requests->openclean-core==0.4.1->openclean[full]) (3.0.4)\n",
            "Collecting gitdb<5,>=4.0.1\n",
            "  Downloading gitdb-4.0.9-py3-none-any.whl (63 kB)\n",
            "\u001b[K     |████████████████████████████████| 63 kB 1.5 MB/s \n",
            "\u001b[?25hRequirement already satisfied: typing-extensions>=3.7.4.3 in /usr/local/lib/python3.7/dist-packages (from gitpython->flowserv-core>=0.8.0->openclean-core==0.4.1->openclean[full]) (3.10.0.2)\n",
            "Collecting smmap<6,>=3.0.1\n",
            "  Downloading smmap-5.0.0-py3-none-any.whl (24 kB)\n",
            "Requirement already satisfied: zipp>=0.5 in /usr/local/lib/python3.7/dist-packages (from importlib-metadata->jsonschema>=3.2.0->openclean-core==0.4.1->openclean[full]) (3.6.0)\n",
            "Requirement already satisfied: pyparsing!=3.0.5,>=2.0.2 in /usr/local/lib/python3.7/dist-packages (from packaging->pooch>=1.3.0->refdata>=0.2.0->openclean-core==0.4.1->openclean[full]) (3.0.6)\n",
            "Collecting pynacl>=1.0.1\n",
            "  Downloading PyNaCl-1.4.0-cp35-abi3-manylinux1_x86_64.whl (961 kB)\n",
            "\u001b[K     |████████████████████████████████| 961 kB 46.0 MB/s \n",
            "\u001b[?25hCollecting bcrypt>=3.1.3\n",
            "  Downloading bcrypt-3.2.0-cp36-abi3-manylinux2010_x86_64.whl (63 kB)\n",
            "\u001b[K     |████████████████████████████████| 63 kB 2.3 MB/s \n",
            "\u001b[?25hCollecting cryptography>=2.5\n",
            "  Downloading cryptography-36.0.0-cp36-abi3-manylinux_2_24_x86_64.whl (3.6 MB)\n",
            "\u001b[K     |████████████████████████████████| 3.6 MB 35.0 MB/s \n",
            "\u001b[?25hRequirement already satisfied: cffi>=1.1 in /usr/local/lib/python3.7/dist-packages (from bcrypt>=3.1.3->paramiko->flowserv-core>=0.8.0->openclean-core==0.4.1->openclean[full]) (1.15.0)\n",
            "Requirement already satisfied: pycparser in /usr/local/lib/python3.7/dist-packages (from cffi>=1.1->bcrypt>=3.1.3->paramiko->flowserv-core>=0.8.0->openclean-core==0.4.1->openclean[full]) (2.21)\n",
            "Collecting pyyaml>=5.1\n",
            "  Downloading PyYAML-5.4.1-cp37-cp37m-manylinux1_x86_64.whl (636 kB)\n",
            "\u001b[K     |████████████████████████████████| 636 kB 53.5 MB/s \n",
            "\u001b[?25hCollecting lockfile>=0.10.2\n",
            "  Downloading lockfile-0.12.2-py2.py3-none-any.whl (13 kB)\n",
            "Requirement already satisfied: CacheControl>=0.11.5 in /usr/local/lib/python3.7/dist-packages (from scikit-bio->openclean-pattern==0.0.1->openclean[full]) (0.12.10)\n",
            "Requirement already satisfied: decorator>=3.4.2 in /usr/local/lib/python3.7/dist-packages (from scikit-bio->openclean-pattern==0.0.1->openclean[full]) (4.4.2)\n",
            "Requirement already satisfied: IPython>=3.2.0 in /usr/local/lib/python3.7/dist-packages (from scikit-bio->openclean-pattern==0.0.1->openclean[full]) (5.5.0)\n",
            "Requirement already satisfied: matplotlib>=1.4.3 in /usr/local/lib/python3.7/dist-packages (from scikit-bio->openclean-pattern==0.0.1->openclean[full]) (3.2.2)\n",
            "Requirement already satisfied: natsort>=4.0.3 in /usr/local/lib/python3.7/dist-packages (from scikit-bio->openclean-pattern==0.0.1->openclean[full]) (5.5.0)\n",
            "Collecting hdmedians>=0.13\n",
            "  Downloading hdmedians-0.14.2.tar.gz (7.6 kB)\n",
            "  Installing build dependencies ... \u001b[?25l\u001b[?25hdone\n",
            "  Getting requirements to build wheel ... \u001b[?25l\u001b[?25hdone\n",
            "  Installing backend dependencies ... \u001b[?25l\u001b[?25hdone\n",
            "    Preparing wheel metadata ... \u001b[?25l\u001b[?25hdone\n",
            "Requirement already satisfied: msgpack>=0.5.2 in /usr/local/lib/python3.7/dist-packages (from CacheControl>=0.11.5->scikit-bio->openclean-pattern==0.0.1->openclean[full]) (1.0.3)\n",
            "Requirement already satisfied: Cython>=0.23 in /usr/local/lib/python3.7/dist-packages (from hdmedians>=0.13->scikit-bio->openclean-pattern==0.0.1->openclean[full]) (0.29.24)\n",
            "Requirement already satisfied: pickleshare in /usr/local/lib/python3.7/dist-packages (from IPython>=3.2.0->scikit-bio->openclean-pattern==0.0.1->openclean[full]) (0.7.5)\n",
            "Requirement already satisfied: pygments in /usr/local/lib/python3.7/dist-packages (from IPython>=3.2.0->scikit-bio->openclean-pattern==0.0.1->openclean[full]) (2.6.1)\n",
            "Requirement already satisfied: traitlets>=4.2 in /usr/local/lib/python3.7/dist-packages (from IPython>=3.2.0->scikit-bio->openclean-pattern==0.0.1->openclean[full]) (5.1.1)\n",
            "Requirement already satisfied: pexpect in /usr/local/lib/python3.7/dist-packages (from IPython>=3.2.0->scikit-bio->openclean-pattern==0.0.1->openclean[full]) (4.8.0)\n",
            "Requirement already satisfied: prompt-toolkit<2.0.0,>=1.0.4 in /usr/local/lib/python3.7/dist-packages (from IPython>=3.2.0->scikit-bio->openclean-pattern==0.0.1->openclean[full]) (1.0.18)\n",
            "Requirement already satisfied: simplegeneric>0.8 in /usr/local/lib/python3.7/dist-packages (from IPython>=3.2.0->scikit-bio->openclean-pattern==0.0.1->openclean[full]) (0.8.1)\n",
            "Requirement already satisfied: kiwisolver>=1.0.1 in /usr/local/lib/python3.7/dist-packages (from matplotlib>=1.4.3->scikit-bio->openclean-pattern==0.0.1->openclean[full]) (1.3.2)\n",
            "Requirement already satisfied: cycler>=0.10 in /usr/local/lib/python3.7/dist-packages (from matplotlib>=1.4.3->scikit-bio->openclean-pattern==0.0.1->openclean[full]) (0.11.0)\n",
            "Requirement already satisfied: wcwidth in /usr/local/lib/python3.7/dist-packages (from prompt-toolkit<2.0.0,>=1.0.4->IPython>=3.2.0->scikit-bio->openclean-pattern==0.0.1->openclean[full]) (0.2.5)\n",
            "Requirement already satisfied: ptyprocess>=0.5 in /usr/local/lib/python3.7/dist-packages (from pexpect->IPython>=3.2.0->scikit-bio->openclean-pattern==0.0.1->openclean[full]) (0.7.0)\n",
            "Building wheels for collected packages: pygtrie, datasize, jellyfish, scikit-bio, hdmedians\n",
            "  Building wheel for pygtrie (setup.py) ... \u001b[?25l\u001b[?25hdone\n",
            "  Created wheel for pygtrie: filename=pygtrie-2.3.3-py3-none-any.whl size=19106 sha256=4f190dcac9cc94de8a906b8d154cba69911499a80949ad198be1e5bbeef2ae0f\n",
            "  Stored in directory: /root/.cache/pip/wheels/4e/a4/89/dbadf3de7aa13a81a4dfeb67a9fca04bf9050bd710eb295a32\n",
            "  Building wheel for datasize (setup.py) ... \u001b[?25l\u001b[?25hdone\n",
            "  Created wheel for datasize: filename=datasize-1.0.0-py2.py3-none-any.whl size=155047 sha256=53a44c8cee5ddc9b527751af8b8f387bbff2e990ec420b3c5e151d1063bf909a\n",
            "  Stored in directory: /root/.cache/pip/wheels/f7/b5/32/d8836896da6aca7f9c5748670ea6110d1385c262bf3abcca30\n",
            "  Building wheel for jellyfish (setup.py) ... \u001b[?25l\u001b[?25hdone\n",
            "  Created wheel for jellyfish: filename=jellyfish-0.8.9-cp37-cp37m-linux_x86_64.whl size=73230 sha256=924f13e721463c8cb7cda74d588029ae58c9b7f8a03270385a49d46f6dc549e2\n",
            "  Stored in directory: /root/.cache/pip/wheels/32/a9/ef/5d8742e72deaf0d1de327a180d008c2c0299367581800ea73f\n",
            "  Building wheel for scikit-bio (setup.py) ... \u001b[?25l\u001b[?25hdone\n",
            "  Created wheel for scikit-bio: filename=scikit_bio-0.5.6-cp37-cp37m-linux_x86_64.whl size=1456877 sha256=151121583439c5ba725ed7b450105610c3c5a3309c4bbe462fb30e16f3585922\n",
            "  Stored in directory: /root/.cache/pip/wheels/7e/fa/86/a8b3b3b1187f0b0997fca40cdb7dd0d81a57ff061010e4464d\n",
            "  Building wheel for hdmedians (PEP 517) ... \u001b[?25l\u001b[?25hdone\n",
            "  Created wheel for hdmedians: filename=hdmedians-0.14.2-cp37-cp37m-linux_x86_64.whl size=453190 sha256=1479dbcc96e36251fee8e30fb14c10664bd0779b7c6eaf0bfc5ce42fd5e42056\n",
            "  Stored in directory: /root/.cache/pip/wheels/56/5d/28/fb40426fbf6a8c3af88376a227130bbdf81e00177123e1398e\n",
            "Successfully built pygtrie datasize jellyfish scikit-bio hdmedians\n",
            "Installing collected packages: smmap, pyyaml, pynacl, gitdb, cryptography, bcrypt, tableprint, pyyaml-include, passlib, paramiko, jsonschema, gitpython, datasize, scikit-learn, refdata, lockfile, jellyfish, histore, hdmedians, flowserv-core, datamart-geo, websocket-client, scikit-bio, pygtrie, openclean-core, datamart-profiler, openclean-pattern, openclean-notebook, openclean-metanome, openclean-geo, openclean, docker\n",
            "  Attempting uninstall: pyyaml\n",
            "    Found existing installation: PyYAML 3.13\n",
            "    Uninstalling PyYAML-3.13:\n",
            "      Successfully uninstalled PyYAML-3.13\n",
            "  Attempting uninstall: jsonschema\n",
            "    Found existing installation: jsonschema 2.6.0\n",
            "    Uninstalling jsonschema-2.6.0:\n",
            "      Successfully uninstalled jsonschema-2.6.0\n",
            "  Attempting uninstall: scikit-learn\n",
            "    Found existing installation: scikit-learn 1.0.1\n",
            "    Uninstalling scikit-learn-1.0.1:\n",
            "      Successfully uninstalled scikit-learn-1.0.1\n",
            "\u001b[31mERROR: pip's dependency resolver does not currently take into account all the packages that are installed. This behaviour is the source of the following dependency conflicts.\n",
            "nbclient 0.5.9 requires jupyter-client>=6.1.5, but you have jupyter-client 5.3.5 which is incompatible.\n",
            "imbalanced-learn 0.8.1 requires scikit-learn>=0.24, but you have scikit-learn 0.23.2 which is incompatible.\u001b[0m\n",
            "Successfully installed bcrypt-3.2.0 cryptography-36.0.0 datamart-geo-0.2.1 datamart-profiler-0.9 datasize-1.0.0 docker-5.0.3 flowserv-core-0.9.2 gitdb-4.0.9 gitpython-3.1.24 hdmedians-0.14.2 histore-0.4.1 jellyfish-0.8.9 jsonschema-3.2.0 lockfile-0.12.2 openclean-0.2.1 openclean-core-0.4.1 openclean-geo-0.1.0 openclean-metanome-0.2.0 openclean-notebook-0.1.7 openclean-pattern-0.0.1 paramiko-2.8.1 passlib-1.7.4 pygtrie-2.3.3 pynacl-1.4.0 pyyaml-5.4.1 pyyaml-include-1.2.post2 refdata-0.2.0 scikit-bio-0.5.6 scikit-learn-0.23.2 smmap-5.0.0 tableprint-0.9.1 websocket-client-1.2.3\n"
          ]
        }
      ]
    },
    {
      "cell_type": "markdown",
      "source": [
        "# import file from nyc opendata"
      ],
      "metadata": {
        "id": "sJDeVexvuDVK"
      }
    },
    {
      "cell_type": "code",
      "source": [
        "!wget 'https://data.cityofnewyork.us/resource/hg8x-zxpr.csv?$$app_token=5uY6Dy7N0wt19j4Pe9PBQ1y6C&$select=borough,postcode,latitude,longitude&$limit=50000'  -O data2.csv\n",
        "!ls"
      ],
      "metadata": {
        "colab": {
          "base_uri": "https://localhost:8080/"
        },
        "id": "8Z5wj2s8uJUq",
        "outputId": "daa785a6-a0c1-40ac-fc42-c9174c33552f"
      },
      "execution_count": 64,
      "outputs": [
        {
          "output_type": "stream",
          "name": "stdout",
          "text": [
            "--2021-12-10 23:46:28--  https://data.cityofnewyork.us/resource/hg8x-zxpr.csv?$$app_token=5uY6Dy7N0wt19j4Pe9PBQ1y6C&$select=borough,postcode,latitude,longitude&$limit=50000\n",
            "Resolving data.cityofnewyork.us (data.cityofnewyork.us)... 52.206.140.199, 52.206.140.205, 52.206.68.26\n",
            "Connecting to data.cityofnewyork.us (data.cityofnewyork.us)|52.206.140.199|:443... connected.\n",
            "HTTP request sent, awaiting response... 200 OK\n",
            "Length: unspecified [text/csv]\n",
            "Saving to: ‘data2.csv’\n",
            "\n",
            "data2.csv               [ <=>                ] 194.80K  --.-KB/s    in 0.1s    \n",
            "\n",
            "2021-12-10 23:46:29 (1.49 MB/s) - ‘data2.csv’ saved [199479]\n",
            "\n",
            "cleanGeo.py  data2.csv\tdata3.csv  __pycache__\tsample_data\n"
          ]
        }
      ]
    },
    {
      "cell_type": "markdown",
      "source": [
        "# how to use cleanGeo.py file ?"
      ],
      "metadata": {
        "id": "t6We5cLzt7Nr"
      }
    },
    {
      "cell_type": "code",
      "source": [
        "import pandas as pd\n",
        "from openclean.profiling.dataset import dataset_profile\n",
        "from cleanGeo import locationToZip, zipToBorough\n",
        "import numpy as np"
      ],
      "metadata": {
        "id": "yXt8S5ywvFH3"
      },
      "execution_count": 61,
      "outputs": []
    },
    {
      "cell_type": "code",
      "source": [
        "!wget https://github.com/CharlesPoletowin/BigDataProject/raw/main/cleanGeo.py -O cleanGeo.py\n",
        "!ls"
      ],
      "metadata": {
        "colab": {
          "base_uri": "https://localhost:8080/"
        },
        "id": "NRThDUQRvaVh",
        "outputId": "1eecd45b-e608-4b5d-d9c3-d55bddab4a2e"
      },
      "execution_count": 62,
      "outputs": [
        {
          "output_type": "stream",
          "name": "stdout",
          "text": [
            "--2021-12-10 23:46:08--  https://github.com/CharlesPoletowin/BigDataProject/raw/main/cleanGeo.py\n",
            "Resolving github.com (github.com)... 192.30.255.113\n",
            "Connecting to github.com (github.com)|192.30.255.113|:443... connected.\n",
            "HTTP request sent, awaiting response... 302 Found\n",
            "Location: https://raw.githubusercontent.com/CharlesPoletowin/BigDataProject/main/cleanGeo.py [following]\n",
            "--2021-12-10 23:46:08--  https://raw.githubusercontent.com/CharlesPoletowin/BigDataProject/main/cleanGeo.py\n",
            "Resolving raw.githubusercontent.com (raw.githubusercontent.com)... 185.199.108.133, 185.199.109.133, 185.199.110.133, ...\n",
            "Connecting to raw.githubusercontent.com (raw.githubusercontent.com)|185.199.108.133|:443... connected.\n",
            "HTTP request sent, awaiting response... 200 OK\n",
            "Length: 1658 (1.6K) [text/plain]\n",
            "Saving to: ‘cleanGeo.py’\n",
            "\n",
            "cleanGeo.py         100%[===================>]   1.62K  --.-KB/s    in 0s      \n",
            "\n",
            "2021-12-10 23:46:08 (18.3 MB/s) - ‘cleanGeo.py’ saved [1658/1658]\n",
            "\n",
            "cleanGeo.py  data2.csv\tdata3.csv  __pycache__\tsample_data\n"
          ]
        }
      ]
    },
    {
      "cell_type": "code",
      "source": [
        "data = pd.read_csv('data2.csv')\n",
        "data[\"empty\"] = \"\"\n",
        "print(data.head())\n",
        "print(dataset_profile(data).stats())"
      ],
      "metadata": {
        "colab": {
          "base_uri": "https://localhost:8080/"
        },
        "id": "tZZAHpppwH13",
        "outputId": "7c938860-a3c3-4ede-d0dc-f962854e317b"
      },
      "execution_count": 65,
      "outputs": [
        {
          "output_type": "stream",
          "name": "stdout",
          "text": [
            "    borough  postcode   latitude  longitude empty\n",
            "0  Brooklyn   11233.0  40.677644 -73.921745      \n",
            "1  Brooklyn   11233.0  40.677925 -73.927466      \n",
            "2  Brooklyn   11233.0  40.677823 -73.926554      \n",
            "3  Brooklyn       NaN        NaN        NaN      \n",
            "4     Bronx   10452.0  40.831229 -73.921325      \n",
            "           total  empty  distinct  uniqueness    entropy\n",
            "borough     5362      0         5    0.000932   2.041637\n",
            "postcode    5362   1083       143    0.033419   6.174280\n",
            "latitude    5362   1083      4135    0.966347  11.991752\n",
            "longitude   5362   1083      4128    0.964711  11.988242\n",
            "empty       5362   5362         0         NaN        NaN\n"
          ]
        }
      ]
    },
    {
      "cell_type": "code",
      "source": [
        "# this function is used to solve the problem that we have latitude and longtitude but not hava zip code\n",
        "data = locationToZip(data, \"empty\", \"latitude\", \"longitude\")\n",
        "print(dataset_profile(data).stats())"
      ],
      "metadata": {
        "colab": {
          "base_uri": "https://localhost:8080/"
        },
        "id": "tkFKpl9BBK96",
        "outputId": "80ddc926-fa68-4f4c-971c-119c89168250"
      },
      "execution_count": 66,
      "outputs": [
        {
          "output_type": "stream",
          "name": "stdout",
          "text": [
            "           total  empty  distinct  uniqueness    entropy\n",
            "borough     5362      0         5    0.000932   2.041637\n",
            "postcode    5362   1083       143    0.033419   6.174280\n",
            "latitude    5362   1083      4135    0.966347  11.991752\n",
            "longitude   5362   1083      4128    0.964711  11.988242\n",
            "empty       5362      0       151    0.028161   5.654552\n"
          ]
        }
      ]
    },
    {
      "cell_type": "code",
      "source": [
        "data.dropna(subset=['postcode', 'latitude', 'longitude'], inplace=True)\n",
        "data['postcode'] = data['postcode'].astype(np.int64)\n",
        "data['empty'] = data['empty'].astype(np.int64)\n",
        "data['bool'] = np.where(data['postcode'] == data['empty'], 1, 0)\n",
        "print(data['bool'].sum() - data['bool'].count())"
      ],
      "metadata": {
        "colab": {
          "base_uri": "https://localhost:8080/"
        },
        "id": "dbaNTyntZ6bl",
        "outputId": "7105f872-281d-4296-c8d4-d01d8bcaf5f6"
      },
      "execution_count": 67,
      "outputs": [
        {
          "output_type": "stream",
          "name": "stdout",
          "text": [
            "-771\n"
          ]
        }
      ]
    },
    {
      "cell_type": "code",
      "source": [
        "1 - 771/5362"
      ],
      "metadata": {
        "colab": {
          "base_uri": "https://localhost:8080/"
        },
        "id": "gweBOLyPw-A0",
        "outputId": "7a33db44-13b9-4047-c282-88f7642e89a0"
      },
      "execution_count": 69,
      "outputs": [
        {
          "output_type": "execute_result",
          "data": {
            "text/plain": [
              "0.8562103692651996"
            ]
          },
          "metadata": {},
          "execution_count": 69
        }
      ]
    },
    {
      "cell_type": "markdown",
      "source": [
        "# try another dataset"
      ],
      "metadata": {
        "id": "x8-zadvcfM5w"
      }
    },
    {
      "cell_type": "code",
      "source": [
        "!wget 'https://data.cityofnewyork.us/resource/bty7-2jhb.csv?$$app_token=5uY6Dy7N0wt19j4Pe9PBQ1y6C&$select=borough,zip_code,latitude,longitude&$limit=50000'  -O data3.csv\n",
        "!ls"
      ],
      "metadata": {
        "colab": {
          "base_uri": "https://localhost:8080/"
        },
        "id": "_xsNzKltbQqH",
        "outputId": "93189e6e-630e-4cc0-feba-830835cde9c1"
      },
      "execution_count": 16,
      "outputs": [
        {
          "output_type": "stream",
          "name": "stdout",
          "text": [
            "--2021-12-10 22:37:37--  https://data.cityofnewyork.us/resource/bty7-2jhb.csv?$$app_token=5uY6Dy7N0wt19j4Pe9PBQ1y6C&$select=borough,zip_code,latitude,longitude&$limit=50000\n",
            "Resolving data.cityofnewyork.us (data.cityofnewyork.us)... 52.206.68.26, 52.206.140.199, 52.206.140.205\n",
            "Connecting to data.cityofnewyork.us (data.cityofnewyork.us)|52.206.68.26|:443... connected.\n",
            "HTTP request sent, awaiting response... 200 OK\n",
            "Length: unspecified [text/csv]\n",
            "Saving to: ‘data3.csv’\n",
            "\n",
            "data3.csv               [  <=>               ]   1.94M  5.15MB/s    in 0.4s    \n",
            "\n",
            "2021-12-10 22:37:38 (5.15 MB/s) - ‘data3.csv’ saved [2033795]\n",
            "\n",
            "cleanGeo.py  data2.csv\tdata3.csv  __pycache__\tsample_data\n"
          ]
        }
      ]
    },
    {
      "cell_type": "code",
      "source": [
        ""
      ],
      "metadata": {
        "colab": {
          "base_uri": "https://localhost:8080/"
        },
        "id": "uHpTU0OcfqNb",
        "outputId": "40cb054f-7ce9-4eb7-de99-937a6ecde84a"
      },
      "execution_count": 17,
      "outputs": [
        {
          "output_type": "stream",
          "name": "stdout",
          "text": [
            "  borough  zip_code   latitude  longitude empty\n",
            "0   BRONX   10458.0  40.867490 -73.883225      \n",
            "1   BRONX   10475.0  40.875769 -73.828899      \n",
            "2   BRONX   10453.0  40.852603 -73.911461      \n",
            "3   BRONX   10453.0  40.851661 -73.906937      \n",
            "4   BRONX   10463.0  40.885720 -73.910270      \n",
            "           total  empty  distinct  uniqueness    entropy\n",
            "borough    50000      0         1    0.000020   0.000000\n",
            "zip_code   50000     26        27    0.000540   4.568881\n",
            "latitude   50000    214     19767    0.397039  13.747694\n",
            "longitude  50000    214     19880    0.399309  13.749139\n",
            "empty      50000  50000         0         NaN        NaN\n"
          ]
        }
      ]
    },
    {
      "cell_type": "code",
      "source": [
        "data = pd.read_csv('data3.csv')\n",
        "data[\"empty\"] = \"\"\n",
        "print(data.head())\n",
        "print(dataset_profile(data).stats())\n",
        "data = locationToZip(data, \"empty\", \"latitude\", \"longitude\")\n",
        "print(dataset_profile(data).stats())\n",
        "data.dropna(subset=['zip_code', 'latitude', 'longitude'], inplace=True)\n",
        "data['zip_code'] = data['zip_code'].astype(np.int64)\n",
        "data['empty'] = data['empty'].astype(np.int64)\n",
        "data['bool'] = np.where(data['zip_code'] == data['empty'], 1, 0)\n",
        "print(data['bool'].sum() - data['bool'].count())"
      ],
      "metadata": {
        "colab": {
          "base_uri": "https://localhost:8080/"
        },
        "id": "m_DtLY23fwTl",
        "outputId": "02abf569-c568-48c7-c6bb-8bc4043de83e"
      },
      "execution_count": 60,
      "outputs": [
        {
          "output_type": "stream",
          "name": "stdout",
          "text": [
            "  borough  zip_code   latitude  longitude empty\n",
            "0   BRONX   10458.0  40.867490 -73.883225      \n",
            "1   BRONX   10475.0  40.875769 -73.828899      \n",
            "2   BRONX   10453.0  40.852603 -73.911461      \n",
            "3   BRONX   10453.0  40.851661 -73.906937      \n",
            "4   BRONX   10463.0  40.885720 -73.910270      \n",
            "           total  empty  distinct  uniqueness    entropy\n",
            "borough    50000      0         1    0.000020   0.000000\n",
            "zip_code   50000     26        27    0.000540   4.568881\n",
            "latitude   50000    214     19767    0.397039  13.747694\n",
            "longitude  50000    214     19880    0.399309  13.749139\n",
            "empty      50000  50000         0         NaN        NaN\n",
            "           total  empty  distinct  uniqueness    entropy\n",
            "borough    50000      0         1    0.000020   0.000000\n",
            "zip_code   50000     26        27    0.000540   4.568881\n",
            "latitude   50000    214     19767    0.397039  13.747694\n",
            "longitude  50000    214     19880    0.399309  13.749139\n",
            "empty      50000      0        31    0.000620   4.641425\n",
            "-10013\n"
          ]
        }
      ]
    },
    {
      "cell_type": "code",
      "source": [
        "1 - 10013 / 50000"
      ],
      "metadata": {
        "colab": {
          "base_uri": "https://localhost:8080/"
        },
        "id": "LAYY4ny2xB8u",
        "outputId": "7b8ab024-8b68-4fac-9a04-1b8acb41cea9"
      },
      "execution_count": 70,
      "outputs": [
        {
          "output_type": "execute_result",
          "data": {
            "text/plain": [
              "0.79974"
            ]
          },
          "metadata": {},
          "execution_count": 70
        }
      ]
    },
    {
      "cell_type": "markdown",
      "source": [
        "# try another dataset"
      ],
      "metadata": {
        "id": "UJA8XGUFv-E1"
      }
    },
    {
      "cell_type": "code",
      "source": [
        "!wget 'https://data.cityofnewyork.us/resource/erm2-nwe9.csv?$$app_token=5uY6Dy7N0wt19j4Pe9PBQ1y6C&$select=borough,incident_zip,latitude,longitude&$limit=50000'  -O data4.csv\n",
        "!ls"
      ],
      "metadata": {
        "colab": {
          "base_uri": "https://localhost:8080/"
        },
        "id": "PHWturnsn4KD",
        "outputId": "0cd05702-8ce6-4d95-a2b4-6282aa5098be"
      },
      "execution_count": 73,
      "outputs": [
        {
          "output_type": "stream",
          "name": "stdout",
          "text": [
            "--2021-12-11 00:09:38--  https://data.cityofnewyork.us/resource/erm2-nwe9.csv?$$app_token=5uY6Dy7N0wt19j4Pe9PBQ1y6C&$select=borough,incident_zip,latitude,longitude&$limit=50000\n",
            "Resolving data.cityofnewyork.us (data.cityofnewyork.us)... 52.206.68.26, 52.206.140.199, 52.206.140.205\n",
            "Connecting to data.cityofnewyork.us (data.cityofnewyork.us)|52.206.68.26|:443... connected.\n",
            "HTTP request sent, awaiting response... 200 OK\n",
            "Length: unspecified [text/csv]\n",
            "Saving to: ‘data4.csv’\n",
            "\n",
            "data4.csv               [   <=>              ]   2.79M  4.97MB/s    in 0.6s    \n",
            "\n",
            "2021-12-11 00:09:40 (4.97 MB/s) - ‘data4.csv’ saved [2921337]\n",
            "\n",
            "cleanGeo.py  data2.csv\tdata3.csv  data4.csv  __pycache__  sample_data\n"
          ]
        }
      ]
    },
    {
      "cell_type": "code",
      "source": [
        "data = pd.read_csv('data4.csv')\n",
        "data[\"empty\"] = \"\"\n",
        "print(data.head())\n",
        "print(dataset_profile(data).stats())\n",
        "data = locationToZip(data, \"empty\", \"latitude\", \"longitude\")\n",
        "print(dataset_profile(data).stats())\n",
        "data.dropna(subset=['incident_zip', 'latitude', 'longitude'], inplace=True)\n",
        "data['incident_zip'] = data['incident_zip'].astype(np.int64)\n",
        "data['empty'] = data['empty'].astype(np.int64)\n",
        "data['bool'] = np.where(data['incident_zip'] == data['empty'], 1, 0)\n",
        "print(data['bool'].sum() - data['bool'].count())"
      ],
      "metadata": {
        "colab": {
          "base_uri": "https://localhost:8080/"
        },
        "id": "jZs01g_kyc82",
        "outputId": "b0017650-7129-4498-f79f-a9038ac48042"
      },
      "execution_count": 74,
      "outputs": [
        {
          "output_type": "stream",
          "name": "stdout",
          "text": [
            "     borough  incident_zip   latitude  longitude empty\n",
            "0  MANHATTAN       10128.0  40.780909 -73.951005      \n",
            "1   BROOKLYN       11222.0  40.723881 -73.932210      \n",
            "2  MANHATTAN       10033.0  40.846261 -73.938834      \n",
            "3     QUEENS       11374.0  40.729537 -73.863468      \n",
            "4  MANHATTAN       10040.0  40.855188 -73.931061      \n",
            "              total  empty  distinct  uniqueness    entropy\n",
            "borough       50000     13         6    0.000120   2.169537\n",
            "incident_zip  50000    920       200    0.004075   7.192096\n",
            "latitude      50000   1188     31088    0.636893  14.467497\n",
            "longitude     50000   1188     31088    0.636893  14.467497\n",
            "empty         50000  50000         0         NaN        NaN\n",
            "              total  empty  distinct  uniqueness    entropy\n",
            "borough       50000     13         6    0.000120   2.169537\n",
            "incident_zip  50000    920       200    0.004075   7.192096\n",
            "latitude      50000   1188     31088    0.636893  14.467497\n",
            "longitude     50000   1188     31088    0.636893  14.467497\n",
            "empty         50000      0       208    0.004160   7.257407\n",
            "-10516\n"
          ]
        }
      ]
    },
    {
      "cell_type": "code",
      "source": [
        "1 - 10516 / 50000"
      ],
      "metadata": {
        "colab": {
          "base_uri": "https://localhost:8080/"
        },
        "id": "RjlekO9r0sOT",
        "outputId": "ac4b04a7-d166-4244-8aa0-f6d7515d42fc"
      },
      "execution_count": 75,
      "outputs": [
        {
          "output_type": "execute_result",
          "data": {
            "text/plain": [
              "0.7896799999999999"
            ]
          },
          "metadata": {},
          "execution_count": 75
        }
      ]
    },
    {
      "cell_type": "markdown",
      "source": [
        "# try another dataset"
      ],
      "metadata": {
        "id": "nlY1w7i31-w6"
      }
    },
    {
      "cell_type": "code",
      "source": [
        "!wget 'https://data.cityofnewyork.us/resource/43nn-pn8j.csv?$$app_token=5uY6Dy7N0wt19j4Pe9PBQ1y6C&$select=zipcode,latitude,longitude&$limit=50000'  -O data5.csv\n",
        "!ls"
      ],
      "metadata": {
        "colab": {
          "base_uri": "https://localhost:8080/"
        },
        "id": "EDrX1YrY05Ud",
        "outputId": "a7f371d6-5331-446e-d2b9-0fcd3eab79d9"
      },
      "execution_count": 76,
      "outputs": [
        {
          "output_type": "stream",
          "name": "stdout",
          "text": [
            "--2021-12-11 00:23:15--  https://data.cityofnewyork.us/resource/43nn-pn8j.csv?$$app_token=5uY6Dy7N0wt19j4Pe9PBQ1y6C&$select=zipcode,latitude,longitude&$limit=50000\n",
            "Resolving data.cityofnewyork.us (data.cityofnewyork.us)... 52.206.68.26, 52.206.140.199, 52.206.140.205\n",
            "Connecting to data.cityofnewyork.us (data.cityofnewyork.us)|52.206.68.26|:443... connected.\n",
            "HTTP request sent, awaiting response... 200 OK\n",
            "Length: unspecified [text/csv]\n",
            "Saving to: ‘data5.csv’\n",
            "\n",
            "data5.csv               [  <=>               ]   2.11M  5.51MB/s    in 0.4s    \n",
            "\n",
            "2021-12-11 00:23:16 (5.51 MB/s) - ‘data5.csv’ saved [2210615]\n",
            "\n",
            "cleanGeo.py  data3.csv\tdata5.csv    sample_data\n",
            "data2.csv    data4.csv\t__pycache__\n"
          ]
        }
      ]
    },
    {
      "cell_type": "code",
      "source": [
        "data = pd.read_csv('data5.csv')\n",
        "data[\"empty\"] = \"\"\n",
        "zipcode = 'zipcode'\n",
        "print(data.head())\n",
        "print(dataset_profile(data).stats())\n",
        "data = locationToZip(data, \"empty\", \"latitude\", \"longitude\")\n",
        "print(dataset_profile(data).stats())\n",
        "data.dropna(subset=[zipcode, 'latitude', 'longitude'], inplace=True)\n",
        "data[zipcode] = data[zipcode].astype(np.int64)\n",
        "data['empty'] = data['empty'].astype(np.int64)\n",
        "data['bool'] = np.where(data[zipcode] == data['empty'], 1, 0)\n",
        "print(data['bool'].sum() - data['bool'].count())"
      ],
      "metadata": {
        "colab": {
          "base_uri": "https://localhost:8080/"
        },
        "id": "yM7vmSKD31ex",
        "outputId": "ab891da8-e4d0-47fc-b736-7737b49a8764"
      },
      "execution_count": 77,
      "outputs": [
        {
          "output_type": "stream",
          "name": "stdout",
          "text": [
            "   zipcode   latitude  longitude empty\n",
            "0  11103.0  40.768484 -73.911229      \n",
            "1  11209.0  40.633865 -74.026798      \n",
            "2  10065.0  40.766363 -73.962502      \n",
            "3  11222.0  40.725973 -73.940596      \n",
            "4  11232.0  40.654388 -74.004343      \n",
            "           total  empty  distinct  uniqueness    entropy\n",
            "zipcode    50000    751       218    0.004426   7.023235\n",
            "latitude   50000     48     16660    0.333520  13.540632\n",
            "longitude  50000     48     16660    0.333520  13.540632\n",
            "empty      50000  50000         0         NaN        NaN\n",
            "           total  empty  distinct  uniqueness    entropy\n",
            "zipcode    50000    751       218    0.004426   7.023235\n",
            "latitude   50000     48     16660    0.333520  13.540632\n",
            "longitude  50000     48     16660    0.333520  13.540632\n",
            "empty      50000      0       206    0.004120   7.217605\n",
            "-12447\n"
          ]
        }
      ]
    },
    {
      "cell_type": "code",
      "source": [
        "1 - 12447 / 50000"
      ],
      "metadata": {
        "colab": {
          "base_uri": "https://localhost:8080/"
        },
        "id": "v_8Jkooa4DST",
        "outputId": "fdffeb2f-5f9a-4918-8acf-c554baccf37c"
      },
      "execution_count": 78,
      "outputs": [
        {
          "output_type": "execute_result",
          "data": {
            "text/plain": [
              "0.7510600000000001"
            ]
          },
          "metadata": {},
          "execution_count": 78
        }
      ]
    },
    {
      "cell_type": "markdown",
      "source": [
        "# try another data set"
      ],
      "metadata": {
        "id": "s4bTuUNj42yY"
      }
    },
    {
      "cell_type": "code",
      "source": [
        "!wget 'https://data.cityofnewyork.us/resource/59kj-x8nc.csv?$$app_token=5uY6Dy7N0wt19j4Pe9PBQ1y6C&$select=zip,latitude,longitude&$limit=50000'  -O data6.csv\n",
        "!ls"
      ],
      "metadata": {
        "colab": {
          "base_uri": "https://localhost:8080/"
        },
        "id": "WR2Edjic4N9j",
        "outputId": "3ceb3e64-3e95-443a-a964-d80fb517970d"
      },
      "execution_count": 79,
      "outputs": [
        {
          "output_type": "stream",
          "name": "stdout",
          "text": [
            "--2021-12-11 00:29:42--  https://data.cityofnewyork.us/resource/59kj-x8nc.csv?$$app_token=5uY6Dy7N0wt19j4Pe9PBQ1y6C&$select=zip,latitude,longitude&$limit=50000\n",
            "Resolving data.cityofnewyork.us (data.cityofnewyork.us)... 52.206.140.199, 52.206.140.205, 52.206.68.26\n",
            "Connecting to data.cityofnewyork.us (data.cityofnewyork.us)|52.206.140.199|:443... connected.\n",
            "HTTP request sent, awaiting response... 200 OK\n",
            "Length: unspecified [text/csv]\n",
            "Saving to: ‘data6.csv’\n",
            "\n",
            "data6.csv               [  <=>               ]   1.57M  4.93MB/s    in 0.3s    \n",
            "\n",
            "2021-12-11 00:29:43 (4.93 MB/s) - ‘data6.csv’ saved [1649248]\n",
            "\n",
            "cleanGeo.py  data3.csv\tdata5.csv  __pycache__\n",
            "data2.csv    data4.csv\tdata6.csv  sample_data\n"
          ]
        }
      ]
    },
    {
      "cell_type": "code",
      "source": [
        "data = pd.read_csv('data6.csv')\n",
        "data[\"empty\"] = \"\"\n",
        "zipcode = 'zip'\n",
        "print(data.head())\n",
        "print(dataset_profile(data).stats())\n",
        "data = locationToZip(data, \"empty\", \"latitude\", \"longitude\")\n",
        "print(dataset_profile(data).stats())\n",
        "data.dropna(subset=[zipcode, 'latitude', 'longitude'], inplace=True)\n",
        "data[zipcode] = data[zipcode].astype(np.int64)\n",
        "data['empty'] = data['empty'].astype(np.int64)\n",
        "data['bool'] = np.where(data[zipcode] == data['empty'], 1, 0)\n",
        "print(data['bool'].sum() - data['bool'].count())"
      ],
      "metadata": {
        "colab": {
          "base_uri": "https://localhost:8080/"
        },
        "id": "0ae9abak5UG_",
        "outputId": "6a856731-2873-47fe-8fa6-f9cdd3dc63c9"
      },
      "execution_count": 80,
      "outputs": [
        {
          "output_type": "stream",
          "name": "stdout",
          "text": [
            "       zip   latitude  longitude empty\n",
            "0  11226.0  40.639709 -73.953068      \n",
            "1  10065.0  40.767250 -73.970415      \n",
            "2  11222.0  40.731788 -73.952751      \n",
            "3  10457.0  40.856598 -73.900434      \n",
            "4  10455.0  40.811197 -73.908810      \n",
            "           total  empty  distinct  uniqueness    entropy\n",
            "zip        50000     13       178    0.003561   6.646155\n",
            "latitude   50000     30     26375    0.527817  14.271455\n",
            "longitude  50000     30     26039    0.521093  14.245269\n",
            "empty      50000  50000         0         NaN        NaN\n",
            "           total  empty  distinct  uniqueness    entropy\n",
            "zip        50000     13       178    0.003561   6.646155\n",
            "latitude   50000     30     26375    0.527817  14.271455\n",
            "longitude  50000     30     26039    0.521093  14.245269\n",
            "empty      50000      0       202    0.004040   6.676660\n",
            "-10168\n"
          ]
        }
      ]
    },
    {
      "cell_type": "code",
      "source": [
        "1 - 10168 / 50000"
      ],
      "metadata": {
        "colab": {
          "base_uri": "https://localhost:8080/"
        },
        "id": "7wSmRHP75Vzf",
        "outputId": "bb24878b-dc63-46aa-cae9-6e012afed84e"
      },
      "execution_count": 81,
      "outputs": [
        {
          "output_type": "execute_result",
          "data": {
            "text/plain": [
              "0.79664"
            ]
          },
          "metadata": {},
          "execution_count": 81
        }
      ]
    },
    {
      "cell_type": "markdown",
      "source": [
        "# try another data set"
      ],
      "metadata": {
        "id": "RQ0v5RLH6o7h"
      }
    },
    {
      "cell_type": "code",
      "source": [
        "!wget 'https://data.cityofnewyork.us/resource/9a87-6m4x.csv?$$app_token=5uY6Dy7N0wt19j4Pe9PBQ1y6C&$select=zip_code,latitude,longitude&$limit=50000'  -O data7.csv\n",
        "!ls\n"
      ],
      "metadata": {
        "colab": {
          "base_uri": "https://localhost:8080/"
        },
        "id": "o9g8-J-m50jM",
        "outputId": "c971b8a3-9e2b-495d-e149-5f23f3857bac"
      },
      "execution_count": 82,
      "outputs": [
        {
          "output_type": "stream",
          "name": "stdout",
          "text": [
            "--2021-12-11 00:36:29--  https://data.cityofnewyork.us/resource/9a87-6m4x.csv?$$app_token=5uY6Dy7N0wt19j4Pe9PBQ1y6C&$select=zip_code,latitude,longitude&$limit=50000\n",
            "Resolving data.cityofnewyork.us (data.cityofnewyork.us)... 52.206.140.205, 52.206.68.26, 52.206.140.199\n",
            "Connecting to data.cityofnewyork.us (data.cityofnewyork.us)|52.206.140.205|:443... connected.\n",
            "HTTP request sent, awaiting response... 200 OK\n",
            "Length: unspecified [text/csv]\n",
            "Saving to: ‘data7.csv’\n",
            "\n",
            "data7.csv               [ <=>                ]  16.01K  --.-KB/s    in 0s      \n",
            "\n",
            "2021-12-11 00:36:29 (139 MB/s) - ‘data7.csv’ saved [16399]\n",
            "\n",
            "cleanGeo.py  data3.csv\tdata5.csv  data7.csv\tsample_data\n",
            "data2.csv    data4.csv\tdata6.csv  __pycache__\n"
          ]
        }
      ]
    },
    {
      "cell_type": "code",
      "source": [
        "data = pd.read_csv('data7.csv')\n",
        "data[\"empty\"] = \"\"\n",
        "zipcode = 'zip_code'\n",
        "print(data.head())\n",
        "print(dataset_profile(data).stats())\n",
        "data = locationToZip(data, \"empty\", \"latitude\", \"longitude\")\n",
        "print(dataset_profile(data).stats())\n",
        "data.dropna(subset=[zipcode, 'latitude', 'longitude'], inplace=True)\n",
        "data[zipcode] = data[zipcode].astype(np.int64)\n",
        "data['empty'] = data['empty'].astype(np.int64)\n",
        "data['bool'] = np.where(data[zipcode] == data['empty'], 1, 0)\n",
        "print(data['bool'].sum() - data['bool'].count())\n"
      ],
      "metadata": {
        "colab": {
          "base_uri": "https://localhost:8080/"
        },
        "id": "f08SKgQo63Wo",
        "outputId": "68460a4a-fb09-4dc8-a818-9045c4b5a375"
      },
      "execution_count": 89,
      "outputs": [
        {
          "output_type": "stream",
          "name": "stdout",
          "text": [
            "   zip_code   latitude  longitude empty\n",
            "0   11354.0  40.760612 -73.833642      \n",
            "1   11437.0  40.668289 -73.795990      \n",
            "2   11373.0  40.732880 -73.888332      \n",
            "3   11224.0  40.576052 -73.985756      \n",
            "4   11354.0        NaN        NaN      \n",
            "           total  empty  distinct  uniqueness   entropy\n",
            "zip_code     545      4       136    0.251386  6.429949\n",
            "latitude     545     69       458    0.962185  8.803411\n",
            "longitude    545     69       462    0.970588  8.820217\n",
            "empty        545    545         0         NaN       NaN\n",
            "           total  empty  distinct  uniqueness   entropy\n",
            "zip_code     545      4       136    0.251386  6.429949\n",
            "latitude     545     69       458    0.962185  8.803411\n",
            "longitude    545     69       462    0.970588  8.820217\n",
            "empty        545      0       136    0.249541  6.290450\n",
            "-165\n"
          ]
        }
      ]
    },
    {
      "cell_type": "code",
      "source": [
        "1 - 165 / 545"
      ],
      "metadata": {
        "colab": {
          "base_uri": "https://localhost:8080/"
        },
        "id": "l3jJjVB967NT",
        "outputId": "ce2d0588-9a57-400a-e77e-eb0944db04f8"
      },
      "execution_count": 88,
      "outputs": [
        {
          "output_type": "execute_result",
          "data": {
            "text/plain": [
              "0.6972477064220184"
            ]
          },
          "metadata": {},
          "execution_count": 88
        }
      ]
    },
    {
      "cell_type": "code",
      "source": [
        ""
      ],
      "metadata": {
        "id": "oqNCS7kr69of"
      },
      "execution_count": null,
      "outputs": []
    }
  ]
}