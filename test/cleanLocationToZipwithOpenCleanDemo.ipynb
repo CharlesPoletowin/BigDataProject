{
  "nbformat": 4,
  "nbformat_minor": 0,
  "metadata": {
    "colab": {
      "name": "cleanLocationToZipwithOpenCleanDemo.ipynb",
      "provenance": [],
      "authorship_tag": "ABX9TyN19LWVxhIAjghuZqHft6YV",
      "include_colab_link": true
    },
    "kernelspec": {
      "name": "python3",
      "display_name": "Python 3"
    },
    "language_info": {
      "name": "python"
    }
  },
  "cells": [
    {
      "cell_type": "markdown",
      "metadata": {
        "id": "view-in-github",
        "colab_type": "text"
      },
      "source": [
        "<a href=\"https://colab.research.google.com/github/CharlesPoletowin/BigDataProject/blob/main/cleanLocationToZipwithOpenCleanDemo.ipynb\" target=\"_parent\"><img src=\"https://colab.research.google.com/assets/colab-badge.svg\" alt=\"Open In Colab\"/></a>"
      ]
    },
    {
      "cell_type": "markdown",
      "source": [
        "# pip install"
      ],
      "metadata": {
        "id": "m6PMu3NKtzG6"
      }
    },
    {
      "cell_type": "code",
      "metadata": {
        "colab": {
          "base_uri": "https://localhost:8080/"
        },
        "id": "4KcAeaCCYC3f",
        "outputId": "3562572b-999f-4eb7-9061-c395abcfd003"
      },
      "source": [
        "!pip install openclean[full]"
      ],
      "execution_count": 1,
      "outputs": [
        {
          "output_type": "stream",
          "name": "stdout",
          "text": [
            "Collecting openclean[full]\n",
            "  Downloading openclean-0.2.1-py3-none-any.whl (5.2 kB)\n",
            "Collecting openclean-core==0.4.1\n",
            "  Downloading openclean_core-0.4.1-py3-none-any.whl (267 kB)\n",
            "\u001b[K     |████████████████████████████████| 267 kB 27.3 MB/s \n",
            "\u001b[?25hCollecting docker\n",
            "  Downloading docker-5.0.3-py2.py3-none-any.whl (146 kB)\n",
            "\u001b[K     |████████████████████████████████| 146 kB 46.6 MB/s \n",
            "\u001b[?25hCollecting openclean-pattern==0.0.1\n",
            "  Downloading openclean_pattern-0.0.1-py3-none-any.whl (58 kB)\n",
            "\u001b[K     |████████████████████████████████| 58 kB 3.7 MB/s \n",
            "\u001b[?25hCollecting openclean-notebook==0.1.7\n",
            "  Downloading openclean_notebook-0.1.7-py3-none-any.whl (1.4 MB)\n",
            "\u001b[K     |████████████████████████████████| 1.4 MB 41.3 MB/s \n",
            "\u001b[?25hCollecting openclean-metanome==0.2.0\n",
            "  Downloading openclean_metanome-0.2.0-py3-none-any.whl (16 kB)\n",
            "Collecting openclean-geo==0.1.0\n",
            "  Downloading openclean_geo-0.1.0-py3-none-any.whl (10 kB)\n",
            "Requirement already satisfied: requests in /usr/local/lib/python3.7/dist-packages (from openclean-core==0.4.1->openclean[full]) (2.23.0)\n",
            "Collecting refdata>=0.2.0\n",
            "  Downloading refdata-0.2.0-py3-none-any.whl (37 kB)\n",
            "Requirement already satisfied: pandas>=1.0.0 in /usr/local/lib/python3.7/dist-packages (from openclean-core==0.4.1->openclean[full]) (1.1.5)\n",
            "Requirement already satisfied: scikit-learn in /usr/local/lib/python3.7/dist-packages (from openclean-core==0.4.1->openclean[full]) (1.0.1)\n",
            "Requirement already satisfied: scipy in /usr/local/lib/python3.7/dist-packages (from openclean-core==0.4.1->openclean[full]) (1.4.1)\n",
            "Collecting histore>=0.4.0\n",
            "  Downloading histore-0.4.1-py3-none-any.whl (109 kB)\n",
            "\u001b[K     |████████████████████████████████| 109 kB 44.5 MB/s \n",
            "\u001b[?25hRequirement already satisfied: python-dateutil in /usr/local/lib/python3.7/dist-packages (from openclean-core==0.4.1->openclean[full]) (2.8.2)\n",
            "Collecting jellyfish\n",
            "  Downloading jellyfish-0.8.9.tar.gz (137 kB)\n",
            "\u001b[K     |████████████████████████████████| 137 kB 51.1 MB/s \n",
            "\u001b[?25hCollecting jsonschema>=3.2.0\n",
            "  Downloading jsonschema-4.2.1-py3-none-any.whl (69 kB)\n",
            "\u001b[K     |████████████████████████████████| 69 kB 5.3 MB/s \n",
            "\u001b[?25hRequirement already satisfied: future in /usr/local/lib/python3.7/dist-packages (from openclean-core==0.4.1->openclean[full]) (0.16.0)\n",
            "Requirement already satisfied: dill in /usr/local/lib/python3.7/dist-packages (from openclean-core==0.4.1->openclean[full]) (0.3.4)\n",
            "Collecting flowserv-core>=0.8.0\n",
            "  Downloading flowserv_core-0.9.2-py3-none-any.whl (260 kB)\n",
            "\u001b[K     |████████████████████████████████| 260 kB 43.4 MB/s \n",
            "\u001b[?25hRequirement already satisfied: appdirs>=1.4.4 in /usr/local/lib/python3.7/dist-packages (from openclean-core==0.4.1->openclean[full]) (1.4.4)\n",
            "Requirement already satisfied: Shapely>=1.7.1 in /usr/local/lib/python3.7/dist-packages (from openclean-geo==0.1.0->openclean[full]) (1.8.0)\n",
            "Collecting datamart-profiler==0.9\n",
            "  Downloading datamart_profiler-0.9-py3-none-any.whl (29 kB)\n",
            "Collecting jsonschema>=3.2.0\n",
            "  Downloading jsonschema-3.2.0-py2.py3-none-any.whl (56 kB)\n",
            "\u001b[K     |████████████████████████████████| 56 kB 3.7 MB/s \n",
            "\u001b[?25hRequirement already satisfied: numpy in /usr/local/lib/python3.7/dist-packages (from datamart-profiler==0.9->openclean-notebook==0.1.7->openclean[full]) (1.19.5)\n",
            "Collecting scikit-learn\n",
            "  Downloading scikit_learn-0.23.2-cp37-cp37m-manylinux1_x86_64.whl (6.8 MB)\n",
            "\u001b[K     |████████████████████████████████| 6.8 MB 33.1 MB/s \n",
            "\u001b[?25hCollecting datamart-geo==0.2.1\n",
            "  Downloading datamart_geo-0.2.1-py3-none-any.whl (6.2 kB)\n",
            "Requirement already satisfied: prometheus-client in /usr/local/lib/python3.7/dist-packages (from datamart-profiler==0.9->openclean-notebook==0.1.7->openclean[full]) (0.12.0)\n",
            "Requirement already satisfied: regex in /usr/local/lib/python3.7/dist-packages (from datamart-profiler==0.9->openclean-notebook==0.1.7->openclean[full]) (2019.12.20)\n",
            "Requirement already satisfied: setuptools in /usr/local/lib/python3.7/dist-packages (from jsonschema>=3.2.0->openclean-core==0.4.1->openclean[full]) (57.4.0)\n",
            "Requirement already satisfied: importlib-metadata in /usr/local/lib/python3.7/dist-packages (from jsonschema>=3.2.0->openclean-core==0.4.1->openclean[full]) (4.8.2)\n",
            "Requirement already satisfied: pyrsistent>=0.14.0 in /usr/local/lib/python3.7/dist-packages (from jsonschema>=3.2.0->openclean-core==0.4.1->openclean[full]) (0.18.0)\n",
            "Requirement already satisfied: attrs>=17.4.0 in /usr/local/lib/python3.7/dist-packages (from jsonschema>=3.2.0->openclean-core==0.4.1->openclean[full]) (21.2.0)\n",
            "Requirement already satisfied: six>=1.11.0 in /usr/local/lib/python3.7/dist-packages (from jsonschema>=3.2.0->openclean-core==0.4.1->openclean[full]) (1.15.0)\n",
            "Collecting pygtrie==2.3.3\n",
            "  Downloading pygtrie-2.3.3.tar.gz (34 kB)\n",
            "Collecting scikit-bio\n",
            "  Downloading scikit-bio-0.5.6.tar.gz (8.4 MB)\n",
            "\u001b[K     |████████████████████████████████| 8.4 MB 46.3 MB/s \n",
            "\u001b[?25hCollecting gitpython\n",
            "  Downloading GitPython-3.1.24-py3-none-any.whl (180 kB)\n",
            "\u001b[K     |████████████████████████████████| 180 kB 57.3 MB/s \n",
            "\u001b[?25hCollecting pyyaml>=5.1\n",
            "  Downloading PyYAML-6.0-cp37-cp37m-manylinux_2_5_x86_64.manylinux1_x86_64.manylinux_2_12_x86_64.manylinux2010_x86_64.whl (596 kB)\n",
            "\u001b[K     |████████████████████████████████| 596 kB 43.3 MB/s \n",
            "\u001b[?25hRequirement already satisfied: SQLAlchemy>=1.3.18 in /usr/local/lib/python3.7/dist-packages (from flowserv-core>=0.8.0->openclean-core==0.4.1->openclean[full]) (1.4.27)\n",
            "Collecting pyyaml-include\n",
            "  Downloading pyyaml_include-1.2.post2-py3-none-any.whl (20 kB)\n",
            "Requirement already satisfied: Click in /usr/local/lib/python3.7/dist-packages (from flowserv-core>=0.8.0->openclean-core==0.4.1->openclean[full]) (7.1.2)\n",
            "Collecting passlib\n",
            "  Downloading passlib-1.7.4-py2.py3-none-any.whl (525 kB)\n",
            "\u001b[K     |████████████████████████████████| 525 kB 42.8 MB/s \n",
            "\u001b[?25hCollecting paramiko\n",
            "  Downloading paramiko-2.8.1-py2.py3-none-any.whl (206 kB)\n",
            "\u001b[K     |████████████████████████████████| 206 kB 58.7 MB/s \n",
            "\u001b[?25hRequirement already satisfied: psutil in /usr/local/lib/python3.7/dist-packages (from histore>=0.4.0->openclean-core==0.4.1->openclean[full]) (5.4.8)\n",
            "Requirement already satisfied: pytz>=2017.2 in /usr/local/lib/python3.7/dist-packages (from pandas>=1.0.0->openclean-core==0.4.1->openclean[full]) (2018.9)\n",
            "Requirement already satisfied: pooch>=1.3.0 in /usr/local/lib/python3.7/dist-packages (from refdata>=0.2.0->openclean-core==0.4.1->openclean[full]) (1.5.2)\n",
            "Collecting tableprint\n",
            "  Downloading tableprint-0.9.1-py3-none-any.whl (6.8 kB)\n",
            "Collecting datasize>=1.0.0\n",
            "  Downloading datasize-1.0.0.tar.gz (149 kB)\n",
            "\u001b[K     |████████████████████████████████| 149 kB 37.0 MB/s \n",
            "\u001b[?25hRequirement already satisfied: packaging in /usr/local/lib/python3.7/dist-packages (from pooch>=1.3.0->refdata>=0.2.0->openclean-core==0.4.1->openclean[full]) (21.3)\n",
            "Requirement already satisfied: threadpoolctl>=2.0.0 in /usr/local/lib/python3.7/dist-packages (from scikit-learn->openclean-core==0.4.1->openclean[full]) (3.0.0)\n",
            "Requirement already satisfied: joblib>=0.11 in /usr/local/lib/python3.7/dist-packages (from scikit-learn->openclean-core==0.4.1->openclean[full]) (1.1.0)\n",
            "Requirement already satisfied: greenlet!=0.4.17 in /usr/local/lib/python3.7/dist-packages (from SQLAlchemy>=1.3.18->flowserv-core>=0.8.0->openclean-core==0.4.1->openclean[full]) (1.1.2)\n",
            "Collecting websocket-client>=0.32.0\n",
            "  Downloading websocket_client-1.2.3-py3-none-any.whl (53 kB)\n",
            "\u001b[K     |████████████████████████████████| 53 kB 2.4 MB/s \n",
            "\u001b[?25hRequirement already satisfied: certifi>=2017.4.17 in /usr/local/lib/python3.7/dist-packages (from requests->openclean-core==0.4.1->openclean[full]) (2021.10.8)\n",
            "Requirement already satisfied: chardet<4,>=3.0.2 in /usr/local/lib/python3.7/dist-packages (from requests->openclean-core==0.4.1->openclean[full]) (3.0.4)\n",
            "Requirement already satisfied: urllib3!=1.25.0,!=1.25.1,<1.26,>=1.21.1 in /usr/local/lib/python3.7/dist-packages (from requests->openclean-core==0.4.1->openclean[full]) (1.24.3)\n",
            "Requirement already satisfied: idna<3,>=2.5 in /usr/local/lib/python3.7/dist-packages (from requests->openclean-core==0.4.1->openclean[full]) (2.10)\n",
            "Requirement already satisfied: typing-extensions>=3.7.4.3 in /usr/local/lib/python3.7/dist-packages (from gitpython->flowserv-core>=0.8.0->openclean-core==0.4.1->openclean[full]) (3.10.0.2)\n",
            "Collecting gitdb<5,>=4.0.1\n",
            "  Downloading gitdb-4.0.9-py3-none-any.whl (63 kB)\n",
            "\u001b[K     |████████████████████████████████| 63 kB 2.1 MB/s \n",
            "\u001b[?25hCollecting smmap<6,>=3.0.1\n",
            "  Downloading smmap-5.0.0-py3-none-any.whl (24 kB)\n",
            "Requirement already satisfied: zipp>=0.5 in /usr/local/lib/python3.7/dist-packages (from importlib-metadata->jsonschema>=3.2.0->openclean-core==0.4.1->openclean[full]) (3.6.0)\n",
            "Requirement already satisfied: pyparsing!=3.0.5,>=2.0.2 in /usr/local/lib/python3.7/dist-packages (from packaging->pooch>=1.3.0->refdata>=0.2.0->openclean-core==0.4.1->openclean[full]) (3.0.6)\n",
            "Collecting cryptography>=2.5\n",
            "  Downloading cryptography-36.0.0-cp36-abi3-manylinux_2_24_x86_64.whl (3.6 MB)\n",
            "\u001b[K     |████████████████████████████████| 3.6 MB 45.3 MB/s \n",
            "\u001b[?25hCollecting bcrypt>=3.1.3\n",
            "  Downloading bcrypt-3.2.0-cp36-abi3-manylinux2010_x86_64.whl (63 kB)\n",
            "\u001b[K     |████████████████████████████████| 63 kB 3.1 MB/s \n",
            "\u001b[?25hCollecting pynacl>=1.0.1\n",
            "  Downloading PyNaCl-1.4.0-cp35-abi3-manylinux1_x86_64.whl (961 kB)\n",
            "\u001b[K     |████████████████████████████████| 961 kB 39.9 MB/s \n",
            "\u001b[?25hRequirement already satisfied: cffi>=1.1 in /usr/local/lib/python3.7/dist-packages (from bcrypt>=3.1.3->paramiko->flowserv-core>=0.8.0->openclean-core==0.4.1->openclean[full]) (1.15.0)\n",
            "Requirement already satisfied: pycparser in /usr/local/lib/python3.7/dist-packages (from cffi>=1.1->bcrypt>=3.1.3->paramiko->flowserv-core>=0.8.0->openclean-core==0.4.1->openclean[full]) (2.21)\n",
            "Collecting pyyaml>=5.1\n",
            "  Downloading PyYAML-5.4.1-cp37-cp37m-manylinux1_x86_64.whl (636 kB)\n",
            "\u001b[K     |████████████████████████████████| 636 kB 42.8 MB/s \n",
            "\u001b[?25hCollecting lockfile>=0.10.2\n",
            "  Downloading lockfile-0.12.2-py2.py3-none-any.whl (13 kB)\n",
            "Requirement already satisfied: CacheControl>=0.11.5 in /usr/local/lib/python3.7/dist-packages (from scikit-bio->openclean-pattern==0.0.1->openclean[full]) (0.12.10)\n",
            "Requirement already satisfied: decorator>=3.4.2 in /usr/local/lib/python3.7/dist-packages (from scikit-bio->openclean-pattern==0.0.1->openclean[full]) (4.4.2)\n",
            "Requirement already satisfied: IPython>=3.2.0 in /usr/local/lib/python3.7/dist-packages (from scikit-bio->openclean-pattern==0.0.1->openclean[full]) (5.5.0)\n",
            "Requirement already satisfied: matplotlib>=1.4.3 in /usr/local/lib/python3.7/dist-packages (from scikit-bio->openclean-pattern==0.0.1->openclean[full]) (3.2.2)\n",
            "Requirement already satisfied: natsort>=4.0.3 in /usr/local/lib/python3.7/dist-packages (from scikit-bio->openclean-pattern==0.0.1->openclean[full]) (5.5.0)\n",
            "Collecting hdmedians>=0.13\n",
            "  Downloading hdmedians-0.14.2.tar.gz (7.6 kB)\n",
            "  Installing build dependencies ... \u001b[?25l\u001b[?25hdone\n",
            "  Getting requirements to build wheel ... \u001b[?25l\u001b[?25hdone\n",
            "  Installing backend dependencies ... \u001b[?25l\u001b[?25hdone\n",
            "    Preparing wheel metadata ... \u001b[?25l\u001b[?25hdone\n",
            "Requirement already satisfied: msgpack>=0.5.2 in /usr/local/lib/python3.7/dist-packages (from CacheControl>=0.11.5->scikit-bio->openclean-pattern==0.0.1->openclean[full]) (1.0.3)\n",
            "Requirement already satisfied: Cython>=0.23 in /usr/local/lib/python3.7/dist-packages (from hdmedians>=0.13->scikit-bio->openclean-pattern==0.0.1->openclean[full]) (0.29.24)\n",
            "Requirement already satisfied: pickleshare in /usr/local/lib/python3.7/dist-packages (from IPython>=3.2.0->scikit-bio->openclean-pattern==0.0.1->openclean[full]) (0.7.5)\n",
            "Requirement already satisfied: pexpect in /usr/local/lib/python3.7/dist-packages (from IPython>=3.2.0->scikit-bio->openclean-pattern==0.0.1->openclean[full]) (4.8.0)\n",
            "Requirement already satisfied: simplegeneric>0.8 in /usr/local/lib/python3.7/dist-packages (from IPython>=3.2.0->scikit-bio->openclean-pattern==0.0.1->openclean[full]) (0.8.1)\n",
            "Requirement already satisfied: prompt-toolkit<2.0.0,>=1.0.4 in /usr/local/lib/python3.7/dist-packages (from IPython>=3.2.0->scikit-bio->openclean-pattern==0.0.1->openclean[full]) (1.0.18)\n",
            "Requirement already satisfied: pygments in /usr/local/lib/python3.7/dist-packages (from IPython>=3.2.0->scikit-bio->openclean-pattern==0.0.1->openclean[full]) (2.6.1)\n",
            "Requirement already satisfied: traitlets>=4.2 in /usr/local/lib/python3.7/dist-packages (from IPython>=3.2.0->scikit-bio->openclean-pattern==0.0.1->openclean[full]) (5.1.1)\n",
            "Requirement already satisfied: kiwisolver>=1.0.1 in /usr/local/lib/python3.7/dist-packages (from matplotlib>=1.4.3->scikit-bio->openclean-pattern==0.0.1->openclean[full]) (1.3.2)\n",
            "Requirement already satisfied: cycler>=0.10 in /usr/local/lib/python3.7/dist-packages (from matplotlib>=1.4.3->scikit-bio->openclean-pattern==0.0.1->openclean[full]) (0.11.0)\n",
            "Requirement already satisfied: wcwidth in /usr/local/lib/python3.7/dist-packages (from prompt-toolkit<2.0.0,>=1.0.4->IPython>=3.2.0->scikit-bio->openclean-pattern==0.0.1->openclean[full]) (0.2.5)\n",
            "Requirement already satisfied: ptyprocess>=0.5 in /usr/local/lib/python3.7/dist-packages (from pexpect->IPython>=3.2.0->scikit-bio->openclean-pattern==0.0.1->openclean[full]) (0.7.0)\n",
            "Building wheels for collected packages: pygtrie, datasize, jellyfish, scikit-bio, hdmedians\n",
            "  Building wheel for pygtrie (setup.py) ... \u001b[?25l\u001b[?25hdone\n",
            "  Created wheel for pygtrie: filename=pygtrie-2.3.3-py3-none-any.whl size=19106 sha256=330d975d6d19c0bb7b00d7d128806a4b435a67f68541378496450e9912f0e752\n",
            "  Stored in directory: /root/.cache/pip/wheels/4e/a4/89/dbadf3de7aa13a81a4dfeb67a9fca04bf9050bd710eb295a32\n",
            "  Building wheel for datasize (setup.py) ... \u001b[?25l\u001b[?25hdone\n",
            "  Created wheel for datasize: filename=datasize-1.0.0-py2.py3-none-any.whl size=155047 sha256=5f2de68d9c866c278d5d4b291a23ae48ec3c894ac1c8041aad62d97a571b7770\n",
            "  Stored in directory: /root/.cache/pip/wheels/f7/b5/32/d8836896da6aca7f9c5748670ea6110d1385c262bf3abcca30\n",
            "  Building wheel for jellyfish (setup.py) ... \u001b[?25l\u001b[?25hdone\n",
            "  Created wheel for jellyfish: filename=jellyfish-0.8.9-cp37-cp37m-linux_x86_64.whl size=73208 sha256=f6da6e06ebd3c0dda0cf6df5b58115e6c67d9c410d4e15c48be82baedf6dc9c0\n",
            "  Stored in directory: /root/.cache/pip/wheels/32/a9/ef/5d8742e72deaf0d1de327a180d008c2c0299367581800ea73f\n",
            "  Building wheel for scikit-bio (setup.py) ... \u001b[?25l\u001b[?25hdone\n",
            "  Created wheel for scikit-bio: filename=scikit_bio-0.5.6-cp37-cp37m-linux_x86_64.whl size=1456866 sha256=09d80577cb7ade339cc001ec923af7436aefcbc339ec6515668bee6b5dce1dd1\n",
            "  Stored in directory: /root/.cache/pip/wheels/7e/fa/86/a8b3b3b1187f0b0997fca40cdb7dd0d81a57ff061010e4464d\n",
            "  Building wheel for hdmedians (PEP 517) ... \u001b[?25l\u001b[?25hdone\n",
            "  Created wheel for hdmedians: filename=hdmedians-0.14.2-cp37-cp37m-linux_x86_64.whl size=453187 sha256=ba394cba98964a8d0797b29f85feebffcd51eec822fca8d6d5ded2de78334132\n",
            "  Stored in directory: /root/.cache/pip/wheels/56/5d/28/fb40426fbf6a8c3af88376a227130bbdf81e00177123e1398e\n",
            "Successfully built pygtrie datasize jellyfish scikit-bio hdmedians\n",
            "Installing collected packages: smmap, pyyaml, pynacl, gitdb, cryptography, bcrypt, tableprint, pyyaml-include, passlib, paramiko, jsonschema, gitpython, datasize, scikit-learn, refdata, lockfile, jellyfish, histore, hdmedians, flowserv-core, datamart-geo, websocket-client, scikit-bio, pygtrie, openclean-core, datamart-profiler, openclean-pattern, openclean-notebook, openclean-metanome, openclean-geo, openclean, docker\n",
            "  Attempting uninstall: pyyaml\n",
            "    Found existing installation: PyYAML 3.13\n",
            "    Uninstalling PyYAML-3.13:\n",
            "      Successfully uninstalled PyYAML-3.13\n",
            "  Attempting uninstall: jsonschema\n",
            "    Found existing installation: jsonschema 2.6.0\n",
            "    Uninstalling jsonschema-2.6.0:\n",
            "      Successfully uninstalled jsonschema-2.6.0\n",
            "  Attempting uninstall: scikit-learn\n",
            "    Found existing installation: scikit-learn 1.0.1\n",
            "    Uninstalling scikit-learn-1.0.1:\n",
            "      Successfully uninstalled scikit-learn-1.0.1\n",
            "\u001b[31mERROR: pip's dependency resolver does not currently take into account all the packages that are installed. This behaviour is the source of the following dependency conflicts.\n",
            "nbclient 0.5.9 requires jupyter-client>=6.1.5, but you have jupyter-client 5.3.5 which is incompatible.\n",
            "imbalanced-learn 0.8.1 requires scikit-learn>=0.24, but you have scikit-learn 0.23.2 which is incompatible.\u001b[0m\n",
            "Successfully installed bcrypt-3.2.0 cryptography-36.0.0 datamart-geo-0.2.1 datamart-profiler-0.9 datasize-1.0.0 docker-5.0.3 flowserv-core-0.9.2 gitdb-4.0.9 gitpython-3.1.24 hdmedians-0.14.2 histore-0.4.1 jellyfish-0.8.9 jsonschema-3.2.0 lockfile-0.12.2 openclean-0.2.1 openclean-core-0.4.1 openclean-geo-0.1.0 openclean-metanome-0.2.0 openclean-notebook-0.1.7 openclean-pattern-0.0.1 paramiko-2.8.1 passlib-1.7.4 pygtrie-2.3.3 pynacl-1.4.0 pyyaml-5.4.1 pyyaml-include-1.2.post2 refdata-0.2.0 scikit-bio-0.5.6 scikit-learn-0.23.2 smmap-5.0.0 tableprint-0.9.1 websocket-client-1.2.3\n"
          ]
        }
      ]
    },
    {
      "cell_type": "markdown",
      "source": [
        "# import file from nyc opendata"
      ],
      "metadata": {
        "id": "sJDeVexvuDVK"
      }
    },
    {
      "cell_type": "code",
      "source": [
        "!wget 'https://data.cityofnewyork.us/resource/hg8x-zxpr.csv?$$app_token=5uY6Dy7N0wt19j4Pe9PBQ1y6C&$select=borough,postcode,latitude,longitude&$limit=7000'  -O data2.csv\n",
        "!ls"
      ],
      "metadata": {
        "colab": {
          "base_uri": "https://localhost:8080/"
        },
        "id": "8Z5wj2s8uJUq",
        "outputId": "56bc0331-5994-4b3c-be1d-38331fa2a0c5"
      },
      "execution_count": 14,
      "outputs": [
        {
          "output_type": "stream",
          "name": "stdout",
          "text": [
            "--2021-12-10 06:45:05--  https://data.cityofnewyork.us/resource/hg8x-zxpr.csv?$$app_token=5uY6Dy7N0wt19j4Pe9PBQ1y6C&$select=borough,postcode,latitude,longitude&$limit=7000\n",
            "Resolving data.cityofnewyork.us (data.cityofnewyork.us)... 52.206.140.199, 52.206.140.205, 52.206.68.26\n",
            "Connecting to data.cityofnewyork.us (data.cityofnewyork.us)|52.206.140.199|:443... connected.\n",
            "HTTP request sent, awaiting response... 200 OK\n",
            "Length: unspecified [text/csv]\n",
            "Saving to: ‘data2.csv’\n",
            "\n",
            "\rdata2.csv               [<=>                 ]       0  --.-KB/s               \rdata2.csv               [ <=>                ] 194.80K  --.-KB/s    in 0.02s   \n",
            "\n",
            "2021-12-10 06:45:05 (10.1 MB/s) - ‘data2.csv’ saved [199479]\n",
            "\n",
            "cleanGeo.py  data1.csv\tdata2.csv  sample_data\n"
          ]
        }
      ]
    },
    {
      "cell_type": "markdown",
      "source": [
        "# how to use cleanGeo.py file ?"
      ],
      "metadata": {
        "id": "t6We5cLzt7Nr"
      }
    },
    {
      "cell_type": "code",
      "source": [
        "!wget https://github.com/CharlesPoletowin/BigDataProject/raw/main/cleanGeo.py -O cleanGeo.py\n",
        "!ls"
      ],
      "metadata": {
        "colab": {
          "base_uri": "https://localhost:8080/"
        },
        "id": "NRThDUQRvaVh",
        "outputId": "095871f8-7773-46d1-f065-2d2cbafdad86"
      },
      "execution_count": 3,
      "outputs": [
        {
          "output_type": "stream",
          "name": "stdout",
          "text": [
            "--2021-12-10 06:24:56--  https://github.com/CharlesPoletowin/BigDataProject/raw/main/cleanGeo.py\n",
            "Resolving github.com (github.com)... 140.82.113.4\n",
            "Connecting to github.com (github.com)|140.82.113.4|:443... connected.\n",
            "HTTP request sent, awaiting response... 302 Found\n",
            "Location: https://raw.githubusercontent.com/CharlesPoletowin/BigDataProject/main/cleanGeo.py [following]\n",
            "--2021-12-10 06:24:57--  https://raw.githubusercontent.com/CharlesPoletowin/BigDataProject/main/cleanGeo.py\n",
            "Resolving raw.githubusercontent.com (raw.githubusercontent.com)... 185.199.108.133, 185.199.109.133, 185.199.110.133, ...\n",
            "Connecting to raw.githubusercontent.com (raw.githubusercontent.com)|185.199.108.133|:443... connected.\n",
            "HTTP request sent, awaiting response... 200 OK\n",
            "Length: 1658 (1.6K) [text/plain]\n",
            "Saving to: ‘cleanGeo.py’\n",
            "\n",
            "cleanGeo.py         100%[===================>]   1.62K  --.-KB/s    in 0s      \n",
            "\n",
            "2021-12-10 06:24:57 (21.1 MB/s) - ‘cleanGeo.py’ saved [1658/1658]\n",
            "\n",
            "cleanGeo.py  data1.csv\tsample_data\n"
          ]
        }
      ]
    },
    {
      "cell_type": "code",
      "source": [
        "import pandas as pd\n",
        "from openclean.profiling.dataset import dataset_profile\n",
        "data = pd.read_csv('data2.csv')\n",
        "print(data.head())\n",
        "print(dataset_profile(data).stats())"
      ],
      "metadata": {
        "colab": {
          "base_uri": "https://localhost:8080/"
        },
        "id": "tZZAHpppwH13",
        "outputId": "ce93acc1-2be9-41e3-cea6-253af459de98"
      },
      "execution_count": 15,
      "outputs": [
        {
          "output_type": "stream",
          "name": "stdout",
          "text": [
            "    borough  postcode   latitude  longitude\n",
            "0  Brooklyn   11233.0  40.677644 -73.921745\n",
            "1  Brooklyn   11233.0  40.677925 -73.927466\n",
            "2  Brooklyn   11233.0  40.677823 -73.926554\n",
            "3  Brooklyn       NaN        NaN        NaN\n",
            "4     Bronx   10452.0  40.831229 -73.921325\n",
            "           total  empty  distinct  uniqueness    entropy\n",
            "borough     5362      0         5    0.000932   2.041637\n",
            "postcode    5362   1083       143    0.033419   6.174280\n",
            "latitude    5362   1083      4135    0.966347  11.991752\n",
            "longitude   5362   1083      4128    0.964711  11.988242\n"
          ]
        }
      ]
    },
    {
      "cell_type": "code",
      "source": [
        "from cleanGeo import locationToZip, zipToBorough\n",
        "# this function is used to solve the problem that we have latitude and longtitude but not hava zip code\n",
        "data = locationToZip(data, \"postcode\", \"latitude\", \"longitude\")\n",
        "print(dataset_profile(data).stats())"
      ],
      "metadata": {
        "colab": {
          "base_uri": "https://localhost:8080/"
        },
        "id": "tkFKpl9BBK96",
        "outputId": "3a62cef3-21f2-4c93-e999-1feae04d88d6"
      },
      "execution_count": 16,
      "outputs": [
        {
          "output_type": "stream",
          "name": "stdout",
          "text": [
            "           total  empty  distinct  uniqueness    entropy\n",
            "borough     5362      0         5    0.000932   2.041637\n",
            "postcode    5362   1083       143    0.033419   6.174280\n",
            "latitude    5362   1083      4135    0.966347  11.991752\n",
            "longitude   5362   1083      4128    0.964711  11.988242\n"
          ]
        }
      ]
    }
  ]
}