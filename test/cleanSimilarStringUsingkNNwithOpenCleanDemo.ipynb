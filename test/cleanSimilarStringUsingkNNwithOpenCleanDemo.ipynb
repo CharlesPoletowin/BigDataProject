{
  "nbformat": 4,
  "nbformat_minor": 0,
  "metadata": {
    "colab": {
      "name": "cleanSimilarStringUsingkNNwithOpenCleanDemo.ipynb",
      "provenance": [],
      "include_colab_link": true
    },
    "kernelspec": {
      "name": "python3",
      "display_name": "Python 3"
    },
    "language_info": {
      "name": "python"
    }
  },
  "cells": [
    {
      "cell_type": "markdown",
      "metadata": {
        "id": "view-in-github",
        "colab_type": "text"
      },
      "source": [
        "<a href=\"https://colab.research.google.com/github/CharlesPoletowin/BigDataProject/blob/main/cleanSimilarStringUsingkNNwithOpenCleanDemo.ipynb\" target=\"_parent\"><img src=\"https://colab.research.google.com/assets/colab-badge.svg\" alt=\"Open In Colab\"/></a>"
      ]
    },
    {
      "cell_type": "markdown",
      "source": [
        "# pip install"
      ],
      "metadata": {
        "id": "m6PMu3NKtzG6"
      }
    },
    {
      "cell_type": "code",
      "metadata": {
        "colab": {
          "base_uri": "https://localhost:8080/"
        },
        "id": "4KcAeaCCYC3f",
        "outputId": "744bb60c-5de2-4662-e48f-cd79c10139b5"
      },
      "source": [
        "!pip install openclean[full]"
      ],
      "execution_count": 1,
      "outputs": [
        {
          "output_type": "stream",
          "name": "stdout",
          "text": [
            "Collecting openclean[full]\n",
            "  Downloading openclean-0.2.1-py3-none-any.whl (5.2 kB)\n",
            "Collecting openclean-core==0.4.1\n",
            "  Downloading openclean_core-0.4.1-py3-none-any.whl (267 kB)\n",
            "\u001b[K     |████████████████████████████████| 267 kB 11.1 MB/s \n",
            "\u001b[?25hCollecting openclean-geo==0.1.0\n",
            "  Downloading openclean_geo-0.1.0-py3-none-any.whl (10 kB)\n",
            "Collecting openclean-notebook==0.1.7\n",
            "  Downloading openclean_notebook-0.1.7-py3-none-any.whl (1.4 MB)\n",
            "\u001b[K     |████████████████████████████████| 1.4 MB 46.4 MB/s \n",
            "\u001b[?25hCollecting openclean-pattern==0.0.1\n",
            "  Downloading openclean_pattern-0.0.1-py3-none-any.whl (58 kB)\n",
            "\u001b[K     |████████████████████████████████| 58 kB 4.7 MB/s \n",
            "\u001b[?25hCollecting docker\n",
            "  Downloading docker-5.0.3-py2.py3-none-any.whl (146 kB)\n",
            "\u001b[K     |████████████████████████████████| 146 kB 36.3 MB/s \n",
            "\u001b[?25hCollecting openclean-metanome==0.2.0\n",
            "  Downloading openclean_metanome-0.2.0-py3-none-any.whl (16 kB)\n",
            "Requirement already satisfied: future in /usr/local/lib/python3.7/dist-packages (from openclean-core==0.4.1->openclean[full]) (0.16.0)\n",
            "Requirement already satisfied: scikit-learn in /usr/local/lib/python3.7/dist-packages (from openclean-core==0.4.1->openclean[full]) (1.0.1)\n",
            "Collecting flowserv-core>=0.8.0\n",
            "  Downloading flowserv_core-0.9.2-py3-none-any.whl (260 kB)\n",
            "\u001b[K     |████████████████████████████████| 260 kB 36.7 MB/s \n",
            "\u001b[?25hCollecting refdata>=0.2.0\n",
            "  Downloading refdata-0.2.0-py3-none-any.whl (37 kB)\n",
            "Requirement already satisfied: requests in /usr/local/lib/python3.7/dist-packages (from openclean-core==0.4.1->openclean[full]) (2.23.0)\n",
            "Requirement already satisfied: dill in /usr/local/lib/python3.7/dist-packages (from openclean-core==0.4.1->openclean[full]) (0.3.4)\n",
            "Collecting histore>=0.4.0\n",
            "  Downloading histore-0.4.1-py3-none-any.whl (109 kB)\n",
            "\u001b[K     |████████████████████████████████| 109 kB 25.5 MB/s \n",
            "\u001b[?25hRequirement already satisfied: appdirs>=1.4.4 in /usr/local/lib/python3.7/dist-packages (from openclean-core==0.4.1->openclean[full]) (1.4.4)\n",
            "Collecting jsonschema>=3.2.0\n",
            "  Downloading jsonschema-4.2.1-py3-none-any.whl (69 kB)\n",
            "\u001b[K     |████████████████████████████████| 69 kB 4.7 MB/s \n",
            "\u001b[?25hRequirement already satisfied: scipy in /usr/local/lib/python3.7/dist-packages (from openclean-core==0.4.1->openclean[full]) (1.4.1)\n",
            "Requirement already satisfied: python-dateutil in /usr/local/lib/python3.7/dist-packages (from openclean-core==0.4.1->openclean[full]) (2.8.2)\n",
            "Requirement already satisfied: pandas>=1.0.0 in /usr/local/lib/python3.7/dist-packages (from openclean-core==0.4.1->openclean[full]) (1.1.5)\n",
            "Collecting jellyfish\n",
            "  Downloading jellyfish-0.8.9.tar.gz (137 kB)\n",
            "\u001b[K     |████████████████████████████████| 137 kB 53.0 MB/s \n",
            "\u001b[?25hRequirement already satisfied: Shapely>=1.7.1 in /usr/local/lib/python3.7/dist-packages (from openclean-geo==0.1.0->openclean[full]) (1.8.0)\n",
            "Collecting datamart-profiler==0.9\n",
            "  Downloading datamart_profiler-0.9-py3-none-any.whl (29 kB)\n",
            "Collecting jsonschema>=3.2.0\n",
            "  Downloading jsonschema-3.2.0-py2.py3-none-any.whl (56 kB)\n",
            "\u001b[K     |████████████████████████████████| 56 kB 4.8 MB/s \n",
            "\u001b[?25hCollecting datamart-geo==0.2.1\n",
            "  Downloading datamart_geo-0.2.1-py3-none-any.whl (6.2 kB)\n",
            "Collecting scikit-learn\n",
            "  Downloading scikit_learn-0.23.2-cp37-cp37m-manylinux1_x86_64.whl (6.8 MB)\n",
            "\u001b[K     |████████████████████████████████| 6.8 MB 44.2 MB/s \n",
            "\u001b[?25hRequirement already satisfied: regex in /usr/local/lib/python3.7/dist-packages (from datamart-profiler==0.9->openclean-notebook==0.1.7->openclean[full]) (2019.12.20)\n",
            "Requirement already satisfied: prometheus-client in /usr/local/lib/python3.7/dist-packages (from datamart-profiler==0.9->openclean-notebook==0.1.7->openclean[full]) (0.12.0)\n",
            "Requirement already satisfied: numpy in /usr/local/lib/python3.7/dist-packages (from datamart-profiler==0.9->openclean-notebook==0.1.7->openclean[full]) (1.19.5)\n",
            "Requirement already satisfied: attrs>=17.4.0 in /usr/local/lib/python3.7/dist-packages (from jsonschema>=3.2.0->openclean-core==0.4.1->openclean[full]) (21.2.0)\n",
            "Requirement already satisfied: six>=1.11.0 in /usr/local/lib/python3.7/dist-packages (from jsonschema>=3.2.0->openclean-core==0.4.1->openclean[full]) (1.15.0)\n",
            "Requirement already satisfied: setuptools in /usr/local/lib/python3.7/dist-packages (from jsonschema>=3.2.0->openclean-core==0.4.1->openclean[full]) (57.4.0)\n",
            "Requirement already satisfied: importlib-metadata in /usr/local/lib/python3.7/dist-packages (from jsonschema>=3.2.0->openclean-core==0.4.1->openclean[full]) (4.8.2)\n",
            "Requirement already satisfied: pyrsistent>=0.14.0 in /usr/local/lib/python3.7/dist-packages (from jsonschema>=3.2.0->openclean-core==0.4.1->openclean[full]) (0.18.0)\n",
            "Collecting pygtrie==2.3.3\n",
            "  Downloading pygtrie-2.3.3.tar.gz (34 kB)\n",
            "Collecting scikit-bio\n",
            "  Downloading scikit-bio-0.5.6.tar.gz (8.4 MB)\n",
            "\u001b[K     |████████████████████████████████| 8.4 MB 10.2 MB/s \n",
            "\u001b[?25hCollecting pyyaml-include\n",
            "  Downloading pyyaml_include-1.2.post2-py3-none-any.whl (20 kB)\n",
            "Collecting pyyaml>=5.1\n",
            "  Downloading PyYAML-6.0-cp37-cp37m-manylinux_2_5_x86_64.manylinux1_x86_64.manylinux_2_12_x86_64.manylinux2010_x86_64.whl (596 kB)\n",
            "\u001b[K     |████████████████████████████████| 596 kB 71.3 MB/s \n",
            "\u001b[?25hCollecting passlib\n",
            "  Downloading passlib-1.7.4-py2.py3-none-any.whl (525 kB)\n",
            "\u001b[K     |████████████████████████████████| 525 kB 66.2 MB/s \n",
            "\u001b[?25hRequirement already satisfied: SQLAlchemy>=1.3.18 in /usr/local/lib/python3.7/dist-packages (from flowserv-core>=0.8.0->openclean-core==0.4.1->openclean[full]) (1.4.27)\n",
            "Collecting gitpython\n",
            "  Downloading GitPython-3.1.24-py3-none-any.whl (180 kB)\n",
            "\u001b[K     |████████████████████████████████| 180 kB 75.9 MB/s \n",
            "\u001b[?25hRequirement already satisfied: Click in /usr/local/lib/python3.7/dist-packages (from flowserv-core>=0.8.0->openclean-core==0.4.1->openclean[full]) (7.1.2)\n",
            "Collecting paramiko\n",
            "  Downloading paramiko-2.8.1-py2.py3-none-any.whl (206 kB)\n",
            "\u001b[K     |████████████████████████████████| 206 kB 64.7 MB/s \n",
            "\u001b[?25hRequirement already satisfied: psutil in /usr/local/lib/python3.7/dist-packages (from histore>=0.4.0->openclean-core==0.4.1->openclean[full]) (5.4.8)\n",
            "Requirement already satisfied: pytz>=2017.2 in /usr/local/lib/python3.7/dist-packages (from pandas>=1.0.0->openclean-core==0.4.1->openclean[full]) (2018.9)\n",
            "Requirement already satisfied: pooch>=1.3.0 in /usr/local/lib/python3.7/dist-packages (from refdata>=0.2.0->openclean-core==0.4.1->openclean[full]) (1.5.2)\n",
            "Collecting datasize>=1.0.0\n",
            "  Downloading datasize-1.0.0.tar.gz (149 kB)\n",
            "\u001b[K     |████████████████████████████████| 149 kB 29.8 MB/s \n",
            "\u001b[?25hCollecting tableprint\n",
            "  Downloading tableprint-0.9.1-py3-none-any.whl (6.8 kB)\n",
            "Requirement already satisfied: packaging in /usr/local/lib/python3.7/dist-packages (from pooch>=1.3.0->refdata>=0.2.0->openclean-core==0.4.1->openclean[full]) (21.3)\n",
            "Requirement already satisfied: joblib>=0.11 in /usr/local/lib/python3.7/dist-packages (from scikit-learn->openclean-core==0.4.1->openclean[full]) (1.1.0)\n",
            "Requirement already satisfied: threadpoolctl>=2.0.0 in /usr/local/lib/python3.7/dist-packages (from scikit-learn->openclean-core==0.4.1->openclean[full]) (3.0.0)\n",
            "Requirement already satisfied: greenlet!=0.4.17 in /usr/local/lib/python3.7/dist-packages (from SQLAlchemy>=1.3.18->flowserv-core>=0.8.0->openclean-core==0.4.1->openclean[full]) (1.1.2)\n",
            "Collecting websocket-client>=0.32.0\n",
            "  Downloading websocket_client-1.2.3-py3-none-any.whl (53 kB)\n",
            "\u001b[K     |████████████████████████████████| 53 kB 2.2 MB/s \n",
            "\u001b[?25hRequirement already satisfied: chardet<4,>=3.0.2 in /usr/local/lib/python3.7/dist-packages (from requests->openclean-core==0.4.1->openclean[full]) (3.0.4)\n",
            "Requirement already satisfied: certifi>=2017.4.17 in /usr/local/lib/python3.7/dist-packages (from requests->openclean-core==0.4.1->openclean[full]) (2021.10.8)\n",
            "Requirement already satisfied: urllib3!=1.25.0,!=1.25.1,<1.26,>=1.21.1 in /usr/local/lib/python3.7/dist-packages (from requests->openclean-core==0.4.1->openclean[full]) (1.24.3)\n",
            "Requirement already satisfied: idna<3,>=2.5 in /usr/local/lib/python3.7/dist-packages (from requests->openclean-core==0.4.1->openclean[full]) (2.10)\n",
            "Collecting gitdb<5,>=4.0.1\n",
            "  Downloading gitdb-4.0.9-py3-none-any.whl (63 kB)\n",
            "\u001b[K     |████████████████████████████████| 63 kB 1.7 MB/s \n",
            "\u001b[?25hRequirement already satisfied: typing-extensions>=3.7.4.3 in /usr/local/lib/python3.7/dist-packages (from gitpython->flowserv-core>=0.8.0->openclean-core==0.4.1->openclean[full]) (3.10.0.2)\n",
            "Collecting smmap<6,>=3.0.1\n",
            "  Downloading smmap-5.0.0-py3-none-any.whl (24 kB)\n",
            "Requirement already satisfied: zipp>=0.5 in /usr/local/lib/python3.7/dist-packages (from importlib-metadata->jsonschema>=3.2.0->openclean-core==0.4.1->openclean[full]) (3.6.0)\n",
            "Requirement already satisfied: pyparsing!=3.0.5,>=2.0.2 in /usr/local/lib/python3.7/dist-packages (from packaging->pooch>=1.3.0->refdata>=0.2.0->openclean-core==0.4.1->openclean[full]) (3.0.6)\n",
            "Collecting cryptography>=2.5\n",
            "  Downloading cryptography-36.0.0-cp36-abi3-manylinux_2_24_x86_64.whl (3.6 MB)\n",
            "\u001b[K     |████████████████████████████████| 3.6 MB 37.7 MB/s \n",
            "\u001b[?25hCollecting pynacl>=1.0.1\n",
            "  Downloading PyNaCl-1.4.0-cp35-abi3-manylinux1_x86_64.whl (961 kB)\n",
            "\u001b[K     |████████████████████████████████| 961 kB 78.3 MB/s \n",
            "\u001b[?25hCollecting bcrypt>=3.1.3\n",
            "  Downloading bcrypt-3.2.0-cp36-abi3-manylinux2010_x86_64.whl (63 kB)\n",
            "\u001b[K     |████████████████████████████████| 63 kB 2.9 MB/s \n",
            "\u001b[?25hRequirement already satisfied: cffi>=1.1 in /usr/local/lib/python3.7/dist-packages (from bcrypt>=3.1.3->paramiko->flowserv-core>=0.8.0->openclean-core==0.4.1->openclean[full]) (1.15.0)\n",
            "Requirement already satisfied: pycparser in /usr/local/lib/python3.7/dist-packages (from cffi>=1.1->bcrypt>=3.1.3->paramiko->flowserv-core>=0.8.0->openclean-core==0.4.1->openclean[full]) (2.21)\n",
            "Collecting pyyaml>=5.1\n",
            "  Downloading PyYAML-5.4.1-cp37-cp37m-manylinux1_x86_64.whl (636 kB)\n",
            "\u001b[K     |████████████████████████████████| 636 kB 81.5 MB/s \n",
            "\u001b[?25hCollecting lockfile>=0.10.2\n",
            "  Downloading lockfile-0.12.2-py2.py3-none-any.whl (13 kB)\n",
            "Requirement already satisfied: CacheControl>=0.11.5 in /usr/local/lib/python3.7/dist-packages (from scikit-bio->openclean-pattern==0.0.1->openclean[full]) (0.12.10)\n",
            "Requirement already satisfied: decorator>=3.4.2 in /usr/local/lib/python3.7/dist-packages (from scikit-bio->openclean-pattern==0.0.1->openclean[full]) (4.4.2)\n",
            "Requirement already satisfied: IPython>=3.2.0 in /usr/local/lib/python3.7/dist-packages (from scikit-bio->openclean-pattern==0.0.1->openclean[full]) (5.5.0)\n",
            "Requirement already satisfied: matplotlib>=1.4.3 in /usr/local/lib/python3.7/dist-packages (from scikit-bio->openclean-pattern==0.0.1->openclean[full]) (3.2.2)\n",
            "Requirement already satisfied: natsort>=4.0.3 in /usr/local/lib/python3.7/dist-packages (from scikit-bio->openclean-pattern==0.0.1->openclean[full]) (5.5.0)\n",
            "Collecting hdmedians>=0.13\n",
            "  Downloading hdmedians-0.14.2.tar.gz (7.6 kB)\n",
            "  Installing build dependencies ... \u001b[?25l\u001b[?25hdone\n",
            "  Getting requirements to build wheel ... \u001b[?25l\u001b[?25hdone\n",
            "  Installing backend dependencies ... \u001b[?25l\u001b[?25hdone\n",
            "    Preparing wheel metadata ... \u001b[?25l\u001b[?25hdone\n",
            "Requirement already satisfied: msgpack>=0.5.2 in /usr/local/lib/python3.7/dist-packages (from CacheControl>=0.11.5->scikit-bio->openclean-pattern==0.0.1->openclean[full]) (1.0.3)\n",
            "Requirement already satisfied: Cython>=0.23 in /usr/local/lib/python3.7/dist-packages (from hdmedians>=0.13->scikit-bio->openclean-pattern==0.0.1->openclean[full]) (0.29.24)\n",
            "Requirement already satisfied: simplegeneric>0.8 in /usr/local/lib/python3.7/dist-packages (from IPython>=3.2.0->scikit-bio->openclean-pattern==0.0.1->openclean[full]) (0.8.1)\n",
            "Requirement already satisfied: pygments in /usr/local/lib/python3.7/dist-packages (from IPython>=3.2.0->scikit-bio->openclean-pattern==0.0.1->openclean[full]) (2.6.1)\n",
            "Requirement already satisfied: pickleshare in /usr/local/lib/python3.7/dist-packages (from IPython>=3.2.0->scikit-bio->openclean-pattern==0.0.1->openclean[full]) (0.7.5)\n",
            "Requirement already satisfied: prompt-toolkit<2.0.0,>=1.0.4 in /usr/local/lib/python3.7/dist-packages (from IPython>=3.2.0->scikit-bio->openclean-pattern==0.0.1->openclean[full]) (1.0.18)\n",
            "Requirement already satisfied: traitlets>=4.2 in /usr/local/lib/python3.7/dist-packages (from IPython>=3.2.0->scikit-bio->openclean-pattern==0.0.1->openclean[full]) (5.1.1)\n",
            "Requirement already satisfied: pexpect in /usr/local/lib/python3.7/dist-packages (from IPython>=3.2.0->scikit-bio->openclean-pattern==0.0.1->openclean[full]) (4.8.0)\n",
            "Requirement already satisfied: cycler>=0.10 in /usr/local/lib/python3.7/dist-packages (from matplotlib>=1.4.3->scikit-bio->openclean-pattern==0.0.1->openclean[full]) (0.11.0)\n",
            "Requirement already satisfied: kiwisolver>=1.0.1 in /usr/local/lib/python3.7/dist-packages (from matplotlib>=1.4.3->scikit-bio->openclean-pattern==0.0.1->openclean[full]) (1.3.2)\n",
            "Requirement already satisfied: wcwidth in /usr/local/lib/python3.7/dist-packages (from prompt-toolkit<2.0.0,>=1.0.4->IPython>=3.2.0->scikit-bio->openclean-pattern==0.0.1->openclean[full]) (0.2.5)\n",
            "Requirement already satisfied: ptyprocess>=0.5 in /usr/local/lib/python3.7/dist-packages (from pexpect->IPython>=3.2.0->scikit-bio->openclean-pattern==0.0.1->openclean[full]) (0.7.0)\n",
            "Building wheels for collected packages: pygtrie, datasize, jellyfish, scikit-bio, hdmedians\n",
            "  Building wheel for pygtrie (setup.py) ... \u001b[?25l\u001b[?25hdone\n",
            "  Created wheel for pygtrie: filename=pygtrie-2.3.3-py3-none-any.whl size=19106 sha256=58587a406190e6d45ade0e727a8c18497e54ae70c44d31d5d65a3519aff361a3\n",
            "  Stored in directory: /root/.cache/pip/wheels/4e/a4/89/dbadf3de7aa13a81a4dfeb67a9fca04bf9050bd710eb295a32\n",
            "  Building wheel for datasize (setup.py) ... \u001b[?25l\u001b[?25hdone\n",
            "  Created wheel for datasize: filename=datasize-1.0.0-py2.py3-none-any.whl size=155047 sha256=406781f5bc69c4e10c3a9d83f0a603938e28766f7a3f9a6f7a72785510afd0f3\n",
            "  Stored in directory: /root/.cache/pip/wheels/f7/b5/32/d8836896da6aca7f9c5748670ea6110d1385c262bf3abcca30\n",
            "  Building wheel for jellyfish (setup.py) ... \u001b[?25l\u001b[?25hdone\n",
            "  Created wheel for jellyfish: filename=jellyfish-0.8.9-cp37-cp37m-linux_x86_64.whl size=73216 sha256=04ee6b30fdaca57a37b6d958720d63ea6390b459ae62133f3472772d52d22397\n",
            "  Stored in directory: /root/.cache/pip/wheels/32/a9/ef/5d8742e72deaf0d1de327a180d008c2c0299367581800ea73f\n",
            "  Building wheel for scikit-bio (setup.py) ... \u001b[?25l\u001b[?25hdone\n",
            "  Created wheel for scikit-bio: filename=scikit_bio-0.5.6-cp37-cp37m-linux_x86_64.whl size=1456848 sha256=a526900c155791b9afead53404a3ff62d98b1b1b89e91144ea23b20aa5ae746a\n",
            "  Stored in directory: /root/.cache/pip/wheels/7e/fa/86/a8b3b3b1187f0b0997fca40cdb7dd0d81a57ff061010e4464d\n",
            "  Building wheel for hdmedians (PEP 517) ... \u001b[?25l\u001b[?25hdone\n",
            "  Created wheel for hdmedians: filename=hdmedians-0.14.2-cp37-cp37m-linux_x86_64.whl size=453191 sha256=75aac556b74de2a8ea5b808d971ff0bb9140b992502d4b2f91fbfbbaaee897d8\n",
            "  Stored in directory: /root/.cache/pip/wheels/56/5d/28/fb40426fbf6a8c3af88376a227130bbdf81e00177123e1398e\n",
            "Successfully built pygtrie datasize jellyfish scikit-bio hdmedians\n",
            "Installing collected packages: smmap, pyyaml, pynacl, gitdb, cryptography, bcrypt, tableprint, pyyaml-include, passlib, paramiko, jsonschema, gitpython, datasize, scikit-learn, refdata, lockfile, jellyfish, histore, hdmedians, flowserv-core, datamart-geo, websocket-client, scikit-bio, pygtrie, openclean-core, datamart-profiler, openclean-pattern, openclean-notebook, openclean-metanome, openclean-geo, openclean, docker\n",
            "  Attempting uninstall: pyyaml\n",
            "    Found existing installation: PyYAML 3.13\n",
            "    Uninstalling PyYAML-3.13:\n",
            "      Successfully uninstalled PyYAML-3.13\n",
            "  Attempting uninstall: jsonschema\n",
            "    Found existing installation: jsonschema 2.6.0\n",
            "    Uninstalling jsonschema-2.6.0:\n",
            "      Successfully uninstalled jsonschema-2.6.0\n",
            "  Attempting uninstall: scikit-learn\n",
            "    Found existing installation: scikit-learn 1.0.1\n",
            "    Uninstalling scikit-learn-1.0.1:\n",
            "      Successfully uninstalled scikit-learn-1.0.1\n",
            "\u001b[31mERROR: pip's dependency resolver does not currently take into account all the packages that are installed. This behaviour is the source of the following dependency conflicts.\n",
            "nbclient 0.5.9 requires jupyter-client>=6.1.5, but you have jupyter-client 5.3.5 which is incompatible.\n",
            "imbalanced-learn 0.8.1 requires scikit-learn>=0.24, but you have scikit-learn 0.23.2 which is incompatible.\u001b[0m\n",
            "Successfully installed bcrypt-3.2.0 cryptography-36.0.0 datamart-geo-0.2.1 datamart-profiler-0.9 datasize-1.0.0 docker-5.0.3 flowserv-core-0.9.2 gitdb-4.0.9 gitpython-3.1.24 hdmedians-0.14.2 histore-0.4.1 jellyfish-0.8.9 jsonschema-3.2.0 lockfile-0.12.2 openclean-0.2.1 openclean-core-0.4.1 openclean-geo-0.1.0 openclean-metanome-0.2.0 openclean-notebook-0.1.7 openclean-pattern-0.0.1 paramiko-2.8.1 passlib-1.7.4 pygtrie-2.3.3 pynacl-1.4.0 pyyaml-5.4.1 pyyaml-include-1.2.post2 refdata-0.2.0 scikit-bio-0.5.6 scikit-learn-0.23.2 smmap-5.0.0 tableprint-0.9.1 websocket-client-1.2.3\n"
          ]
        }
      ]
    },
    {
      "cell_type": "markdown",
      "source": [
        "# import file from nyc opendata"
      ],
      "metadata": {
        "id": "sJDeVexvuDVK"
      }
    },
    {
      "cell_type": "code",
      "source": [
        "!wget 'https://data.cityofnewyork.us/resource/59kj-x8nc.csv?$$app_token=5uY6Dy7N0wt19j4Pe9PBQ1y6C&$select=boroid,zip,latitude,longitude,casetype,casestatus&$limit=100000'  -O data1.csv\n",
        "!ls"
      ],
      "metadata": {
        "colab": {
          "base_uri": "https://localhost:8080/"
        },
        "id": "8Z5wj2s8uJUq",
        "outputId": "562a9d24-bbc9-4115-acee-47e66a4a4426"
      },
      "execution_count": 8,
      "outputs": [
        {
          "output_type": "stream",
          "name": "stdout",
          "text": [
            "--2021-12-10 21:28:08--  https://data.cityofnewyork.us/resource/59kj-x8nc.csv?$$app_token=5uY6Dy7N0wt19j4Pe9PBQ1y6C&$select=boroid,zip,latitude,longitude,casetype,casestatus&$limit=100000\n",
            "Resolving data.cityofnewyork.us (data.cityofnewyork.us)... 52.206.140.205, 52.206.140.199, 52.206.68.26\n",
            "Connecting to data.cityofnewyork.us (data.cityofnewyork.us)|52.206.140.205|:443... connected.\n",
            "HTTP request sent, awaiting response... 200 OK\n",
            "Length: unspecified [text/csv]\n",
            "Saving to: ‘data1.csv’\n",
            "\n",
            "data1.csv               [    <=>             ]   6.31M  7.63MB/s    in 0.8s    \n",
            "\n",
            "2021-12-10 21:28:10 (7.63 MB/s) - ‘data1.csv’ saved [6613394]\n",
            "\n",
            "cleanSimilarString.py  data1.csv  sample_data\n"
          ]
        }
      ]
    },
    {
      "cell_type": "markdown",
      "source": [
        "# how to use cleanSimilarString.py file ?\n",
        "this file use kNN method to deal with similarity"
      ],
      "metadata": {
        "id": "t6We5cLzt7Nr"
      }
    },
    {
      "cell_type": "code",
      "source": [
        "!wget https://github.com/CharlesPoletowin/BigDataProject/raw/main/cleanSimilarString.py -O cleanSimilarString.py\n",
        "!ls"
      ],
      "metadata": {
        "colab": {
          "base_uri": "https://localhost:8080/"
        },
        "id": "NRThDUQRvaVh",
        "outputId": "45ac747a-b293-4883-ea6d-e619fd5a8fe5"
      },
      "execution_count": 9,
      "outputs": [
        {
          "output_type": "stream",
          "name": "stdout",
          "text": [
            "--2021-12-10 21:28:12--  https://github.com/CharlesPoletowin/BigDataProject/raw/main/cleanSimilarString.py\n",
            "Resolving github.com (github.com)... 192.30.255.112\n",
            "Connecting to github.com (github.com)|192.30.255.112|:443... connected.\n",
            "HTTP request sent, awaiting response... 302 Found\n",
            "Location: https://raw.githubusercontent.com/CharlesPoletowin/BigDataProject/main/cleanSimilarString.py [following]\n",
            "--2021-12-10 21:28:12--  https://raw.githubusercontent.com/CharlesPoletowin/BigDataProject/main/cleanSimilarString.py\n",
            "Resolving raw.githubusercontent.com (raw.githubusercontent.com)... 185.199.111.133, 185.199.109.133, 185.199.110.133, ...\n",
            "Connecting to raw.githubusercontent.com (raw.githubusercontent.com)|185.199.111.133|:443... connected.\n",
            "HTTP request sent, awaiting response... 200 OK\n",
            "Length: 1066 (1.0K) [text/plain]\n",
            "Saving to: ‘cleanSimilarString.py’\n",
            "\n",
            "\rcleanSimilarString.   0%[                    ]       0  --.-KB/s               \rcleanSimilarString. 100%[===================>]   1.04K  --.-KB/s    in 0s      \n",
            "\n",
            "2021-12-10 21:28:12 (67.0 MB/s) - ‘cleanSimilarString.py’ saved [1066/1066]\n",
            "\n",
            "cleanSimilarString.py  data1.csv  sample_data\n"
          ]
        }
      ]
    },
    {
      "cell_type": "code",
      "source": [
        "import pandas as pd\n",
        "from openclean.profiling.dataset import dataset_profile\n",
        "data = pd.read_csv('data1.csv')\n",
        "print(data.head())\n",
        "print(dataset_profile(data).stats())"
      ],
      "metadata": {
        "colab": {
          "base_uri": "https://localhost:8080/"
        },
        "id": "tZZAHpppwH13",
        "outputId": "d2eed79e-9e85-4eea-c244-ec42840f7c4d"
      },
      "execution_count": 10,
      "outputs": [
        {
          "output_type": "stream",
          "name": "stdout",
          "text": [
            "   boroid      zip   latitude  longitude                   casetype casestatus\n",
            "0       3  11226.0  40.639709 -73.953068              Comprehensive     CLOSED\n",
            "1       1  10065.0  40.767250 -73.970415         Heat and Hot Water     CLOSED\n",
            "2       3  11222.0  40.731788 -73.952751         Heat and Hot Water     CLOSED\n",
            "3       2  10457.0  40.856598 -73.900434         Heat and Hot Water     CLOSED\n",
            "4       2  10455.0  40.811197 -73.908810  Access Warrant - Non-Lead     CLOSED\n",
            "             total  empty  distinct  uniqueness    entropy\n",
            "boroid      100000      0         5    0.000050   2.030148\n",
            "zip         100000     29       181    0.001811   6.646043\n",
            "latitude    100000     64     38981    0.390060  14.635096\n",
            "longitude   100000     64     38397    0.384216  14.601727\n",
            "casetype    100000      0        14    0.000140   2.296520\n",
            "casestatus  100000      0       744    0.007440   0.316097\n"
          ]
        }
      ]
    },
    {
      "cell_type": "code",
      "source": [
        "print(data.casetype.unique().tolist())\n",
        "print(\"----\")\n",
        "print(data['casestatus'].unique().tolist())"
      ],
      "metadata": {
        "colab": {
          "base_uri": "https://localhost:8080/"
        },
        "id": "xrSTzDEJxHoa",
        "outputId": "adeecee6-488c-4489-ad1d-2a7390ff5781"
      },
      "execution_count": 11,
      "outputs": [
        {
          "output_type": "stream",
          "name": "stdout",
          "text": [
            "['Comprehensive', 'Heat and Hot Water', 'Access Warrant - Non-Lead', 'Tenant Action', 'Tenant Action/Harrassment', 'False Certification Non-Lead', 'Heat Supplemental Cases', 'CONH', 'Access Warrant - lead', 'Comp Supplemental Cases', 'Lead False Certification', '7A', 'Failure to Register Only', 'HLD - Other Case Type']\n",
            "----\n",
            "['CLOSED', 'PENDING', 'GRANTED -', 'GRANTED - 05/16/2017', 'GRANTED - 06/20/2012', 'GRANTED - 11/10/2006', 'GRANTED - 10/29/2008', 'Exempt- 02/19/2014', 'Exempt- 12/15/2009', 'GRANTED - 04/25/2014', 'GRANTED - 07/24/2009', 'GRANTED - 09/10/2015', 'GRANTED - 10/06/2020', 'GRANTED - 04/11/2007', 'GRANTED - 01/31/2012', 'GRANTED - 09/12/2008', 'GRANTED - 03/24/2010', 'APPLICATION PENDING', 'GRANTED - 12/03/2012', 'GRANTED - 11/20/2013', 'GRANTED - 01/27/2010', 'GRANTED - 11/25/2013', 'GRANTED - 02/08/2007', 'GRANTED - 01/18/2008', 'GRANTED - 07/13/2007', 'GRANTED - 06/20/2016', 'DENIED , 07/08/2008', 'GRANTED - 02/19/2014', 'GRANTED - 07/01/2009', 'GRANTED - 07/10/2014', 'GRANTED - 01/04/2008', 'GRANTED - 05/24/2010', 'Exempt- 07/17/2006', 'GRANTED - 05/16/2012', 'Exempt- 05/22/2007', 'GRANTED - 04/17/2012', 'WithDrawn/Abandoned- 08/23/2012', 'GRANTED - 04/24/2017', 'Rejected- 03/22/2013', 'Exempt- 10/21/2020', 'Exempt- 02/25/2013', 'GRANTED - 06/13/2013', 'DENIED , 04/08/2008', 'GRANTED - 07/20/2010', 'GRANTED - 10/01/2010', 'GRANTED - 10/20/2006', 'GRANTED - 10/23/2015', 'GRANTED - 10/16/2014', 'GRANTED - 02/12/2009', 'GRANTED - 10/12/2007', 'GRANTED - 01/16/2017', 'GRANTED - 01/23/2008', 'Exempt- 04/19/2011', 'GRANTED - 09/20/2007', 'DENIED , 01/23/2017', 'GRANTED - 05/02/2008', 'GRANTED - 04/30/2013', 'Exempt- 04/02/2014', 'Exempt- 06/14/2021', 'GRANTED - 05/20/2008', 'Exempt- 07/21/2006', 'GRANTED - 02/24/2017', 'GRANTED - 08/02/2010', 'GRANTED - 07/26/2010', 'GRANTED - 11/24/2014', 'GRANTED - 01/09/2009', 'GRANTED - 08/05/2015', 'GRANTED - 04/28/2017', 'GRANTED - 10/28/2010', 'GRANTED - 03/17/2008', 'WithDrawn/Abandoned-', 'GRANTED - 07/06/2011', 'GRANTED - 01/02/2013', 'Exempt- 02/08/2007', 'GRANTED - 11/06/2013', 'Exempt- 10/05/2017', 'GRANTED - 02/13/2017', 'GRANTED - 10/18/2007', 'GRANTED - 08/23/2016', 'GRANTED - 11/27/2015', 'GRANTED - 06/28/2006', 'GRANTED - 07/25/2011', 'WithDrawn/Abandoned- 10/21/2020', 'GRANTED - 02/28/2011', 'GRANTED - 08/10/2007', 'GRANTED - 09/15/2016', 'GRANTED - 02/27/2012', 'Exempt- 10/02/2012', 'GRANTED - 12/17/2008', 'GRANTED - 07/10/2009', 'GRANTED - 07/13/2006', 'GRANTED - 05/30/2007', 'GRANTED - 11/01/2010', 'GRANTED - 01/23/2012', 'GRANTED - 06/06/2017', 'GRANTED - 04/28/2014', 'GRANTED - 01/23/2020', 'DENIED , 09/12/2007', 'GRANTED - 08/29/2016', 'GRANTED - 01/03/2012', 'GRANTED - 05/12/2016', 'GRANTED - 06/28/2011', 'GRANTED - 04/19/2011', 'GRANTED - 03/28/2017', 'GRANTED - 06/26/2006', 'GRANTED - 02/09/2016', 'GRANTED - 05/11/2010', 'GRANTED - 11/01/2016', 'GRANTED - 04/21/2008', 'GRANTED - 10/03/2012', 'GRANTED - 05/04/2010', 'GRANTED - 06/14/2021', 'GRANTED - 02/13/2015', 'GRANTED - 04/02/2014', 'GRANTED - 06/30/2016', 'GRANTED - 09/07/2007', 'GRANTED - 10/02/2015', 'GRANTED - 11/09/2015', 'GRANTED - 02/08/2013', 'GRANTED - 01/13/2009', 'GRANTED - 01/13/2020', 'GRANTED - 12/04/2007', 'GRANTED - 03/09/2017', 'GRANTED - 01/23/2017', 'GRANTED - 05/25/2006', 'GRANTED - 11/01/2013', 'GRANTED - 05/13/2009', 'GRANTED - 10/03/2011', 'GRANTED - 02/11/2015', 'GRANTED - 09/01/2019', 'GRANTED - 08/31/2010', 'GRANTED - 04/02/2009', 'GRANTED - 02/23/2007', 'GRANTED - 02/05/2009', 'GRANTED - 10/13/2017', 'GRANTED - 07/29/2014', 'GRANTED - 03/01/2010', 'GRANTED - 11/06/2014', 'GRANTED - 06/05/2006', 'GRANTED - 12/30/2009', 'GRANTED - 10/04/2012', 'GRANTED - 01/15/2014', 'GRANTED - 02/20/2007', 'GRANTED - 12/29/2020', 'GRANTED - 12/31/2014', 'GRANTED - 12/24/2008', 'Exempt- 09/03/2013', 'GRANTED - 03/11/2016', 'GRANTED - 09/21/2009', 'GRANTED - 02/16/2011', 'GRANTED - 05/26/2016', 'Exempt- 05/03/2006', 'GRANTED - 11/20/2006', 'Rescinded- 10/05/2010', 'GRANTED - 07/23/2007', 'GRANTED - 08/28/2015', 'GRANTED - 04/30/2015', 'GRANTED - 05/24/2013', 'GRANTED - 05/05/2016', 'GRANTED - 01/26/2007', 'GRANTED - 12/05/2012', 'GRANTED - 12/15/2017', 'GRANTED - 10/28/2008', 'GRANTED - 02/01/2019', 'GRANTED - 12/26/2007', 'GRANTED - 03/09/2007', 'GRANTED - 08/20/2007', 'GRANTED - 10/18/2017', 'GRANTED - 05/23/2014', 'GRANTED - 02/08/2011', 'GRANTED - 01/10/2008', 'GRANTED - 06/04/2012', 'GRANTED - 12/08/2011', 'GRANTED - 02/17/2017', 'GRANTED - 01/15/2016', 'Exempt- 08/06/2009', 'GRANTED - 04/19/2006', 'GRANTED - 03/27/2013', 'GRANTED - 07/20/2007', 'GRANTED - 01/21/2009', 'GRANTED - 10/03/2014', 'GRANTED - 05/07/2008', 'WithDrawn/Abandoned- 03/27/2014', 'GRANTED - 04/24/2007', 'GRANTED - 10/15/2008', 'GRANTED - 01/26/2011', 'GRANTED - 03/28/2007', 'GRANTED - 09/15/2015', 'GRANTED - 08/04/2015', 'GRANTED - 11/20/2007', 'Exempt- 12/21/2012', 'GRANTED - 01/03/2020', 'GRANTED - 04/27/2015', 'GRANTED - 03/25/2013', 'Exempt- 10/10/2008', 'GRANTED - 12/16/2013', 'GRANTED - 07/31/2014', 'GRANTED - 03/06/2015', 'GRANTED - 11/09/2011', 'GRANTED - 04/29/2011', 'GRANTED - 06/15/2012', 'GRANTED - 10/10/2006', 'Exempt- 04/01/2016', 'GRANTED - 05/13/2016', 'GRANTED - 02/26/2007', 'GRANTED - 07/12/2013', 'GRANTED - 12/21/2007', 'GRANTED - 09/19/2013', 'GRANTED - 03/26/2009', 'GRANTED - 09/24/2012', 'GRANTED - 07/21/2015', 'GRANTED - 04/20/2010', 'Rejected- 11/29/2017', 'GRANTED - 12/14/2015', 'GRANTED - 11/24/2010', 'Exempt- 11/23/2020', 'GRANTED - 10/27/2016', 'Exempt- 09/12/2013', 'Exempt- 02/05/2013', 'GRANTED - 10/16/2009', 'Exempt- 04/01/2014', 'GRANTED - 05/24/2021', 'DENIED , 09/12/2013', 'GRANTED - 03/12/2014', 'GRANTED - 10/29/2009', 'GRANTED - 06/02/2006', 'GRANTED - 11/23/2020', 'GRANTED - 02/09/2011', 'DENIED , 02/01/2007', 'GRANTED - 05/07/2015', 'Rejected- 06/11/2012', 'Exempt- 06/11/2007', 'GRANTED - 08/05/2016', 'GRANTED - 02/22/2008', 'GRANTED - 05/30/2013', 'GRANTED - 06/14/2012', 'GRANTED - 02/05/2013', 'GRANTED - 06/20/2006', 'GRANTED - 08/21/2007', 'GRANTED - 02/02/2009', 'GRANTED - 06/24/2008', 'GRANTED - 05/31/2007', 'GRANTED - 02/28/2008', 'GRANTED - 04/19/2007', 'GRANTED - 08/09/2016', 'GRANTED - 09/13/2012', 'GRANTED - 07/17/2006', 'Exempt- 08/22/2017', 'GRANTED - 10/10/2008', 'Exempt- 02/06/2007', 'DENIED , 10/12/2012', 'GRANTED - 02/14/2007', 'WithDrawn/Abandoned- 09/21/2006', 'GRANTED - 04/04/2014', 'GRANTED - 07/08/2014', 'GRANTED - 04/10/2007', 'Exempt- 06/20/2007', 'GRANTED - 11/09/2020', 'GRANTED - 06/08/2015', 'GRANTED - 11/18/2019', 'GRANTED - 06/01/2016', 'GRANTED - 10/06/2011', 'GRANTED - 07/07/2014', 'GRANTED - 11/01/2017', 'GRANTED - 12/29/2008', 'GRANTED - 09/29/2006', 'GRANTED - 11/08/2013', 'GRANTED - 12/28/2016', 'GRANTED - 06/16/2016', 'GRANTED - 11/14/2012', 'GRANTED - 07/13/2009', 'GRANTED - 11/06/2015', 'GRANTED - 07/09/2015', 'GRANTED - 05/06/2011', 'GRANTED - 02/13/2009', 'GRANTED - 11/10/2011', 'Exempt- 12/17/2009', 'DENIED , 01/18/2012', 'GRANTED - 11/13/2015', 'GRANTED - 05/14/2008', 'Exempt- 12/28/2016', 'GRANTED - 02/23/2015', 'GRANTED - 03/05/2015', 'GRANTED - 05/13/2010', 'Exempt-', 'GRANTED - 07/05/2011', 'GRANTED - 11/17/2016', 'GRANTED - 01/09/2008', 'GRANTED - 02/12/2015', 'GRANTED - 07/29/2008', 'GRANTED - 08/23/2011', 'GRANTED - 06/02/2010', 'GRANTED - 11/28/2007', 'Exempt- 02/25/2008', 'GRANTED - 04/18/2013', 'GRANTED - 01/28/2010', 'GRANTED - 10/10/2013', 'GRANTED - 04/23/2007', 'GRANTED - 01/08/2020', 'GRANTED - 06/01/2007', 'Exempt- 05/04/2010', 'GRANTED - 02/06/2013', 'GRANTED - 09/10/2012', 'GRANTED - 09/06/2016', 'Exempt- 01/08/2008', 'GRANTED - 12/07/2012', 'DENIED , 04/29/2021', 'Exempt- 03/17/2011', 'GRANTED - 02/18/2016', 'GRANTED - 06/02/2015', 'GRANTED - 05/26/2011', 'GRANTED - 11/25/2014', 'GRANTED - 08/03/2015', 'GRANTED - 01/04/2006', 'GRANTED - 01/17/2007', 'GRANTED - 05/03/2016', 'GRANTED - 08/05/2011', 'GRANTED - 02/23/2017', 'GRANTED - 04/11/2008', 'Exempt- 02/12/2015', 'GRANTED - 12/16/2009', 'GRANTED - 10/31/2011', 'GRANTED - 11/07/2013', 'DENIED , 06/07/2017', 'GRANTED - 07/08/2011', 'GRANTED - 11/23/2016', 'Exempt- 07/13/2006', 'GRANTED - 09/26/2012', 'GRANTED - 06/12/2017', 'GRANTED - 09/25/2015', 'GRANTED - 05/05/2017', 'GRANTED - 10/14/2011', 'Exempt- 03/26/2007', 'GRANTED - 11/04/2013', 'GRANTED - 02/10/2012', 'GRANTED - 03/17/2015', 'GRANTED - 02/26/2009', 'GRANTED - 01/05/2007', 'GRANTED - 07/08/2015', 'GRANTED - 04/10/2012', 'GRANTED - 02/25/2008', 'GRANTED - 05/06/2013', 'GRANTED - 06/22/2006', 'GRANTED - 05/04/2009', 'GRANTED - 05/07/2009', 'GRANTED - 11/23/2010', 'GRANTED - 09/23/2013', 'GRANTED - 01/12/2011', 'Exempt- 11/12/2009', 'GRANTED - 03/15/2007', 'GRANTED - 05/12/2021', 'GRANTED - 11/19/2007', 'GRANTED - 03/16/2021', 'GRANTED - 08/25/2015', 'GRANTED - 02/19/2016', 'GRANTED - 12/04/2020', 'Exempt- 03/17/2006', 'GRANTED - 09/13/2013', 'GRANTED - 03/28/2008', 'GRANTED - 06/05/2009', 'GRANTED - 03/07/2012', 'GRANTED - 09/09/2016', 'GRANTED - 11/21/2011', 'GRANTED - 07/23/2010', 'Exempt- 06/30/2016', 'GRANTED - 02/27/2008', 'GRANTED - 01/04/2021', 'GRANTED - 07/24/2007', 'WithDrawn/Abandoned- 08/07/2015', 'GRANTED - 08/30/2011', 'DENIED , 05/24/2012', 'GRANTED - 08/30/2016', 'GRANTED - 04/12/2011', 'GRANTED - 08/12/2015', 'GRANTED - 09/01/2016', 'GRANTED - 02/20/2015', 'GRANTED - 12/21/2016', 'GRANTED - 08/02/2011', 'GRANTED - 01/29/2016', 'GRANTED - 07/20/2015', 'GRANTED - 05/31/2016', 'GRANTED - 04/06/2016', 'Rejected- 04/20/2011', 'Settlement With Cure- 10/24/2007', 'GRANTED - 12/18/2015', 'GRANTED - 02/12/2013', 'GRANTED - 04/15/2014', 'GRANTED - 01/26/2015', 'Exempt- 06/27/2017', 'GRANTED - 12/11/2013', 'GRANTED - 10/04/2010', 'GRANTED - 07/03/2012', 'GRANTED - 11/13/2008', 'GRANTED - 10/28/2016', 'GRANTED - 02/04/2011', 'GRANTED - 11/16/2007', 'GRANTED - 05/28/2015', 'GRANTED - 12/20/2016', 'GRANTED - 07/28/2014', 'GRANTED - 05/29/2017', 'GRANTED - 04/15/2016', 'GRANTED - 02/22/2016', 'GRANTED - 06/07/2016', 'GRANTED - 05/12/2010', 'GRANTED - 05/06/2015', 'GRANTED - 04/25/2007', 'GRANTED - 02/25/2019', 'GRANTED - 02/04/2021', 'WithDrawn/Abandoned- 01/03/2020', 'GRANTED - 02/03/2017', 'GRANTED - 07/27/2010', 'GRANTED - 02/26/2016', 'GRANTED - 07/17/2015', 'GRANTED - 07/01/2013', 'GRANTED - 08/18/2006', 'GRANTED - 08/19/2014', 'Exempt- 11/14/2013', 'GRANTED - 01/06/2020', 'GRANTED - 03/31/2016', 'Exempt- 08/01/2017', 'GRANTED - 02/25/2016', 'GRANTED - 02/09/2021', 'GRANTED - 10/29/2010', 'GRANTED - 06/18/2014', 'GRANTED - 12/23/2013', 'GRANTED - 02/28/2017', 'GRANTED - 10/16/2012', 'GRANTED - 10/01/2012', 'Exempt- 03/03/2011', 'Exempt- 07/31/2014', 'GRANTED - 05/15/2006', 'GRANTED - 09/11/2013', 'GRANTED - 01/20/2017', 'GRANTED - 08/13/2010', 'GRANTED - 04/12/2017', 'GRANTED - 04/11/2011', 'GRANTED - 03/10/2011', 'GRANTED - 05/09/2016', 'WithDrawn/Abandoned- 06/08/2010', 'GRANTED - 04/11/2012', 'GRANTED - 12/29/2010', 'GRANTED - 06/03/2010', 'GRANTED - 07/14/2017', 'GRANTED - 06/14/2017', 'GRANTED - 06/18/2012', 'Exempt- 07/20/2010', 'GRANTED - 12/19/2012', 'GRANTED - 08/07/2012', 'GRANTED - 03/23/2015', 'Exempt- 03/30/2017', 'GRANTED - 10/06/2016', 'GRANTED - 08/12/2016', 'GRANTED - 02/16/2016', 'GRANTED - 10/12/2011', 'DENIED ,', 'GRANTED - 08/26/2015', 'GRANTED - 12/08/2006', 'GRANTED - 08/03/2009', 'GRANTED - 04/06/2009', 'GRANTED - 12/15/2014', 'GRANTED - 04/01/2014', 'GRANTED - 05/20/2011', 'GRANTED - 04/15/2009', 'GRANTED - 04/17/2007', 'GRANTED - 12/21/2012', 'GRANTED - 06/20/2007', 'GRANTED - 11/09/2016', 'GRANTED - 04/12/2007', 'GRANTED - 06/13/2012', 'Exempt- 12/08/2017', 'GRANTED - 01/16/2014', 'GRANTED - 12/07/2016', 'GRANTED - 06/13/2006', 'WithDrawn/Abandoned- 03/07/2008', 'GRANTED - 06/12/2015', 'GRANTED - 10/13/2009', 'Exempt- 10/06/2014', 'GRANTED - 12/03/2010', 'GRANTED - 10/31/2007', 'GRANTED - 09/12/2013', 'GRANTED - 07/22/2021', 'Exempt- 05/22/2014', 'GRANTED - 03/27/2016', 'GRANTED - 08/15/2017', 'GRANTED - 10/25/2010', 'GRANTED - 12/10/2013', 'GRANTED - 12/31/2019', 'GRANTED - 12/21/2009', 'GRANTED - 01/12/2007', 'GRANTED - 09/07/2016', 'GRANTED - 06/27/2008', 'Exempt- 11/24/2015', 'GRANTED - 05/19/2016', 'GRANTED - 08/22/2007', 'Exempt- 05/02/2016', 'GRANTED - 11/17/2006', 'GRANTED - 01/05/2015', 'GRANTED - 03/27/2007', 'GRANTED - 03/14/2013', 'GRANTED - 11/12/2009', 'GRANTED - 06/11/2007', 'Exempt- 06/13/2011', 'GRANTED - 01/28/2015', 'WithDrawn/Abandoned- 09/17/2012', 'GRANTED - 05/13/2013', 'GRANTED - 08/10/2011', 'GRANTED - 10/10/2014', 'GRANTED - 05/10/2016', 'GRANTED - 01/31/2020', 'GRANTED - 09/06/2007', 'WithDrawn/Abandoned- 02/12/2020', 'GRANTED - 09/30/2014', 'Exempt- 04/24/2017', 'Exempt- 01/23/2007', 'GRANTED - 11/16/2009', 'GRANTED - 12/28/2007', 'DENIED , 04/08/2010', 'GRANTED - 09/03/2013', 'Exempt- 02/10/2017', 'GRANTED - 12/02/2016', 'GRANTED - 03/26/2008', 'GRANTED - 10/31/2016', 'GRANTED - 07/28/2006', 'GRANTED - 03/27/2017', 'GRANTED - 03/10/2017', 'GRANTED - 04/01/2009', 'DENIED , 11/25/2013', 'Exempt- 02/07/2020', 'GRANTED - 09/15/2006', 'Exempt- 02/18/2020', 'GRANTED - 08/13/2015', 'GRANTED - 07/07/2017', 'GRANTED - 02/05/2016', 'Exempt- 12/22/2006', 'GRANTED - 02/18/2020', 'Exempt- 12/28/2017', 'GRANTED - 10/26/2012', 'GRANTED - 11/28/2006', 'GRANTED - 08/15/2007', 'GRANTED - 12/10/2007', 'GRANTED - 08/10/2010', 'GRANTED - 11/12/2008', 'GRANTED - 10/19/2012', 'GRANTED - 07/18/2011', 'GRANTED - 05/03/2011', 'GRANTED - 05/23/2017', 'GRANTED - 02/17/2009', 'GRANTED - 11/06/2006', 'GRANTED - 08/10/2015', 'GRANTED - 12/19/2011', 'GRANTED - 08/05/2014', 'GRANTED - 07/09/2010', 'GRANTED - 10/26/2009', 'Exempt- 12/07/2012', 'WithDrawn/Abandoned- 02/19/2020', 'GRANTED - 03/24/2015', 'GRANTED - 05/02/2017', 'Exempt- 04/09/2007', 'GRANTED - 03/25/2021', 'GRANTED - 05/16/2007', 'GRANTED - 08/18/2017', 'GRANTED - 06/29/2012', 'GRANTED - 05/20/2015', 'GRANTED - 06/29/2017', 'GRANTED - 05/29/2014', 'GRANTED - 04/21/2016', 'Exempt- 03/25/2021', 'GRANTED - 09/28/2007', 'GRANTED - 10/03/2007', 'GRANTED - 04/04/2013', 'GRANTED - 06/11/2013', 'GRANTED - 12/16/2014', 'GRANTED - 08/07/2009', 'GRANTED - 04/15/2015', 'GRANTED - 11/15/2007', 'GRANTED - 12/15/2015', 'GRANTED - 08/14/2015', 'GRANTED - 09/18/2008', 'GRANTED - 08/06/2008', 'GRANTED - 07/26/2011', 'DENIED , 01/17/2007', 'Exempt- 09/03/2010', 'GRANTED - 02/20/2013', 'GRANTED - 05/15/2008', 'Exempt- 05/11/2007', 'GRANTED - 10/04/2011', 'GRANTED - 07/27/2015', 'GRANTED - 02/19/2020', 'GRANTED - 10/17/2012', 'DENIED , 10/19/2009', 'Exempt- 02/14/2017', 'GRANTED - 09/25/2012', 'GRANTED - 01/04/2007', 'GRANTED - 03/03/2011', 'GRANTED - 04/05/2021', 'GRANTED - 11/22/2013', 'DENIED , 04/19/2021', 'GRANTED - 08/17/2015', 'GRANTED - 10/14/2014', 'GRANTED - 06/06/2013', 'GRANTED - 07/10/2006', 'GRANTED - 04/10/2015', 'Exempt- 10/14/2014', 'GRANTED - 08/06/2009', 'GRANTED - 06/02/2009', 'GRANTED - 06/22/2007', 'GRANTED - 03/18/2016', 'GRANTED - 06/28/2016', 'GRANTED - 05/17/2021', 'GRANTED - 01/17/2013', 'GRANTED - 08/31/2011', 'GRANTED - 11/29/2016', 'GRANTED - 08/24/2006', 'GRANTED - 06/07/2007', 'GRANTED - 02/13/2007', 'GRANTED - 12/27/2016', 'GRANTED - 03/07/2016', 'GRANTED - 12/20/2019', 'GRANTED - 06/07/2012', 'GRANTED - 03/21/2016', 'GRANTED - 06/16/2006', 'Exempt- 02/12/2007', 'GRANTED - 04/18/2011', 'GRANTED - 10/17/2013', 'GRANTED - 11/19/2010', 'GRANTED - 03/21/2012', 'GRANTED - 08/04/2011', 'DENIED , 11/25/2008', 'GRANTED - 11/14/2011', 'GRANTED - 01/27/2012', 'GRANTED - 03/04/2021', 'GRANTED - 03/25/2010', 'GRANTED - 10/24/2016', 'GRANTED - 10/02/2014', 'Exempt- 05/17/2021', 'GRANTED - 02/15/2013', 'Exempt- 10/01/2014', 'GRANTED - 08/09/2007', 'GRANTED - 10/01/2014', 'Exempt- 07/24/2006', 'GRANTED - 10/26/2006', 'GRANTED - 06/24/2016', 'GRANTED - 12/23/2015', 'GRANTED - 08/03/2006', 'GRANTED - 05/22/2015', 'GRANTED - 07/19/2006', 'Rejected- 02/17/2017', 'GRANTED - 12/22/2008', 'Exempt- 06/28/2011', 'GRANTED - 10/27/2017', 'Exempt- 08/13/2012', 'GRANTED - 06/07/2010', 'GRANTED - 03/30/2007', 'GRANTED - 10/06/2010', 'Exempt- 07/31/2015', 'GRANTED - 06/25/2012', 'GRANTED - 09/26/2008', 'GRANTED - 11/16/2015', 'DENIED , 04/02/2009', 'GRANTED - 04/05/2017', 'GRANTED - 04/18/2016', 'Exempt- 03/14/2013', 'GRANTED - 01/20/2015', 'GRANTED - 02/29/2016', 'GRANTED - 07/12/2016', 'Exempt- 02/26/2016', 'GRANTED - 02/09/2015', 'GRANTED - 05/16/2021', 'GRANTED - 01/09/2015', 'GRANTED - 03/05/2021', 'GRANTED - 04/19/2012', 'WithDrawn/Abandoned- 11/04/2010', 'Rescinded- 05/22/2007', 'GRANTED - 07/18/2016', 'GRANTED - 09/06/2012', 'DENIED , 07/15/2008', 'DENIED , 06/09/2019', 'GRANTED - 02/23/2021', 'GRANTED - 05/08/2016', 'GRANTED - 05/09/2008', 'Exempt- 09/21/2009', 'GRANTED - 04/12/2021', 'GRANTED - 09/10/2013', 'GRANTED - 12/15/2008', 'Rejected- 05/16/2011', 'GRANTED - 10/26/2015', 'GRANTED - 02/23/2016', 'Exempt- 03/26/2008', 'Exempt- 07/02/2015', 'GRANTED - 11/15/2017', 'GRANTED - 01/13/2017', 'GRANTED - 09/30/2011', 'DENIED , 08/28/2008', 'GRANTED - 09/17/2007', 'GRANTED - 09/03/2015', 'GRANTED - 07/01/2021', 'GRANTED - 10/30/2015', 'DENIED , 03/09/2012', 'GRANTED - 01/05/2016', 'GRANTED - 10/18/2013', 'Exempt- 09/19/2008', 'DENIED , 11/22/2006', 'GRANTED - 09/05/2014', 'GRANTED - 09/08/2008', 'GRANTED - 01/06/2015', 'DENIED , 03/18/2015', 'GRANTED - 07/16/2012', 'GRANTED - 01/20/2016', 'GRANTED - 05/11/2009', 'GRANTED - 06/21/2011', 'Exempt- 03/31/2015', 'GRANTED - 07/07/2015', 'GRANTED - 04/14/2016', 'GRANTED - 09/16/2010', 'GRANTED - 04/07/2015', 'GRANTED - 07/17/2012', 'GRANTED - 01/16/2009', 'GRANTED - 01/12/2017', 'GRANTED - 08/01/2016', 'Exempt- 05/31/2012', 'Exempt- 09/29/2017', 'Exempt- 10/29/2010', 'GRANTED - 04/20/2009', 'GRANTED - 05/18/2016', 'GRANTED - 12/29/2016', 'DENIED , 02/13/2013', 'GRANTED - 06/22/2009', 'WithDrawn/Abandoned- 05/16/2012', 'GRANTED - 06/29/2007', 'GRANTED - 01/22/2013', 'GRANTED - 02/28/2013', 'GRANTED - 12/01/2008', 'GRANTED - 01/27/2009', 'GRANTED - 04/09/2009', 'GRANTED - 03/04/2020', 'GRANTED - 05/09/2006', 'DENIED , 07/18/2007', 'GRANTED - 05/05/2015', 'GRANTED - 04/11/2017', 'GRANTED - 09/25/2014', 'GRANTED - 02/01/2007', 'GRANTED - 03/20/2017', 'GRANTED - 07/30/2012', 'Exempt- 09/11/2013']\n"
          ]
        }
      ]
    },
    {
      "cell_type": "code",
      "source": [
        "from cleanSimilarString import cleanSimilarStringEvaluate, updateSimilarStringWithMapping\n",
        "\n",
        "print(dataset_profile(data).stats()[-1:])\n",
        "colName = \"casestatus\"\n",
        "print(cleanSimilarStringEvaluate(data, colName))\n",
        "data = updateSimilarStringWithMapping(data, colName, cleanSimilarStringEvaluate(data, colName))\n",
        "print(dataset_profile(data).stats()[-1:])\n"
      ],
      "metadata": {
        "colab": {
          "base_uri": "https://localhost:8080/"
        },
        "id": "ac0MdYsCzyCY",
        "outputId": "753156b1-ce42-47e7-ec76-f5041b63c65b"
      },
      "execution_count": 12,
      "outputs": [
        {
          "output_type": "stream",
          "name": "stdout",
          "text": [
            "             total  empty  distinct  uniqueness   entropy\n",
            "casestatus  100000      0       744     0.00744  0.316097\n",
            "{'GRANTED - 04/11/2007': 'GRANTED - 09/10/2015', 'GRANTED - 07/13/2007': 'GRANTED - 02/08/2007', 'GRANTED - 02/19/2014': 'GRANTED - 06/20/2016', 'GRANTED - 07/10/2014': 'GRANTED - 02/19/2014', 'GRANTED - 05/24/2010': 'GRANTED - 03/24/2010', 'GRANTED - 05/16/2012': 'GRANTED - 12/03/2012', 'GRANTED - 04/17/2012': 'GRANTED - 11/20/2013', 'GRANTED - 04/24/2017': 'GRANTED - 03/24/2010', 'GRANTED - 06/13/2013': 'GRANTED - 01/27/2010', 'GRANTED - 10/16/2014': 'GRANTED - 10/01/2010', 'GRANTED - 01/16/2017': 'GRANTED - 01/27/2010', 'GRANTED - 02/24/2017': 'GRANTED - 01/23/2008', 'GRANTED - 07/26/2010': 'GRANTED - 02/08/2007', 'GRANTED - 04/28/2017': 'GRANTED - 02/08/2007', 'GRANTED - 07/06/2011': 'GRANTED - 08/05/2015', 'GRANTED - 02/13/2017': 'GRANTED - 01/23/2008', 'GRANTED - 08/10/2007': 'GRANTED - 02/08/2007', 'GRANTED - 09/15/2016': 'GRANTED - 06/20/2016', 'GRANTED - 05/30/2007': 'GRANTED - 02/08/2007', 'GRANTED - 06/06/2017': 'GRANTED - 05/02/2008', 'GRANTED - 05/12/2016': 'GRANTED - 05/02/2008', 'GRANTED - 04/19/2011': 'GRANTED - 05/02/2008', 'GRANTED - 03/28/2017': 'GRANTED - 02/08/2007', 'GRANTED - 05/11/2010': 'GRANTED - 02/19/2014', 'GRANTED - 05/04/2010': 'GRANTED - 05/02/2008', 'GRANTED - 02/13/2015': 'GRANTED - 01/23/2008', 'GRANTED - 03/09/2017': 'GRANTED - 08/05/2015', 'GRANTED - 01/23/2017': 'GRANTED - 01/23/2008', 'GRANTED - 05/13/2009': 'GRANTED - 02/08/2007', 'GRANTED - 02/11/2015': 'GRANTED - 02/19/2014', 'GRANTED - 10/13/2017': 'GRANTED - 10/01/2010', 'GRANTED - 01/15/2014': 'GRANTED - 02/19/2014', 'GRANTED - 03/11/2016': 'GRANTED - 06/20/2016', 'GRANTED - 02/16/2011': 'GRANTED - 05/02/2008', 'GRANTED - 05/26/2016': 'GRANTED - 06/20/2016', 'GRANTED - 05/24/2013': 'GRANTED - 11/20/2013', 'GRANTED - 05/05/2016': 'GRANTED - 08/05/2015', 'GRANTED - 01/26/2007': 'GRANTED - 03/24/2010', 'GRANTED - 12/15/2017': 'GRANTED - 10/01/2010', 'GRANTED - 10/18/2017': 'GRANTED - 10/01/2010', 'GRANTED - 05/23/2014': 'GRANTED - 01/23/2008', 'GRANTED - 02/17/2017': 'GRANTED - 02/19/2014', 'GRANTED - 01/15/2016': 'GRANTED - 06/20/2016', 'GRANTED - 01/26/2011': 'GRANTED - 05/02/2008', 'GRANTED - 09/15/2015': 'GRANTED - 09/10/2015', 'GRANTED - 12/16/2013': 'GRANTED - 10/01/2010', 'GRANTED - 03/06/2015': 'GRANTED - 08/05/2015', 'GRANTED - 06/15/2012': 'GRANTED - 06/13/2013', 'GRANTED - 05/13/2016': 'GRANTED - 06/20/2016', 'GRANTED - 02/26/2007': 'GRANTED - 01/23/2008', 'GRANTED - 07/12/2013': 'GRANTED - 05/02/2008', 'GRANTED - 09/19/2013': 'GRANTED - 02/19/2014', 'GRANTED - 03/12/2014': 'GRANTED - 05/02/2008', 'GRANTED - 05/07/2015': 'GRANTED - 05/02/2008', 'GRANTED - 05/30/2013': 'GRANTED - 12/03/2012', 'GRANTED - 06/14/2012': 'GRANTED - 10/01/2010', 'GRANTED - 05/31/2007': 'GRANTED - 02/08/2007', 'GRANTED - 04/19/2007': 'GRANTED - 02/19/2014', 'GRANTED - 09/13/2012': 'GRANTED - 01/27/2010', 'GRANTED - 02/14/2007': 'GRANTED - 06/13/2013', 'GRANTED - 04/10/2007': 'GRANTED - 04/11/2007', 'GRANTED - 06/16/2016': 'GRANTED - 06/13/2013', 'GRANTED - 05/06/2011': 'GRANTED - 08/05/2015', 'GRANTED - 05/14/2008': 'GRANTED - 06/13/2013', 'GRANTED - 05/13/2010': 'GRANTED - 02/19/2014', 'GRANTED - 02/12/2015': 'GRANTED - 05/02/2008', 'GRANTED - 04/18/2013': 'GRANTED - 02/08/2007', 'GRANTED - 02/06/2013': 'GRANTED - 05/02/2008', 'GRANTED - 09/10/2012': 'GRANTED - 12/03/2012', 'GRANTED - 09/06/2016': 'GRANTED - 05/02/2008', 'GRANTED - 02/18/2016': 'GRANTED - 02/19/2014', 'GRANTED - 05/26/2011': 'GRANTED - 05/02/2008', 'GRANTED - 01/17/2007': 'GRANTED - 01/27/2010', 'GRANTED - 05/03/2016': 'GRANTED - 05/02/2008', 'GRANTED - 02/23/2017': 'GRANTED - 01/23/2008', 'GRANTED - 09/26/2012': 'GRANTED - 09/10/2015', 'GRANTED - 06/12/2017': 'GRANTED - 05/02/2008', 'GRANTED - 05/05/2017': 'GRANTED - 08/05/2015', 'GRANTED - 02/10/2012': 'GRANTED - 02/19/2014', 'GRANTED - 03/17/2015': 'GRANTED - 11/20/2013', 'GRANTED - 04/10/2012': 'GRANTED - 12/03/2012', 'GRANTED - 05/06/2013': 'GRANTED - 05/02/2008', 'GRANTED - 01/12/2011': 'GRANTED - 05/02/2008', 'GRANTED - 03/15/2007': 'GRANTED - 08/05/2015', 'GRANTED - 05/12/2021': 'GRANTED - 08/05/2015', 'GRANTED - 03/16/2021': 'GRANTED - 08/05/2015', 'GRANTED - 02/19/2016': 'GRANTED - 02/19/2014', 'GRANTED - 09/13/2013': 'GRANTED - 01/27/2010', 'GRANTED - 04/12/2011': 'GRANTED - 05/02/2008', 'GRANTED - 08/12/2015': 'GRANTED - 05/02/2008', 'GRANTED - 05/31/2016': 'GRANTED - 06/20/2016', 'GRANTED - 04/06/2016': 'GRANTED - 05/02/2008', 'GRANTED - 02/12/2013': 'GRANTED - 05/02/2008', 'GRANTED - 04/15/2014': 'GRANTED - 02/19/2014', 'GRANTED - 01/26/2015': 'GRANTED - 11/20/2013', 'GRANTED - 11/16/2007': 'GRANTED - 12/03/2012', 'GRANTED - 05/28/2015': 'GRANTED - 02/08/2007', 'GRANTED - 05/29/2017': 'GRANTED - 06/20/2016', 'GRANTED - 04/15/2016': 'GRANTED - 06/20/2016', 'GRANTED - 05/12/2010': 'GRANTED - 05/02/2008', 'GRANTED - 05/06/2015': 'GRANTED - 05/02/2008', 'GRANTED - 02/03/2017': 'GRANTED - 05/02/2008', 'GRANTED - 02/26/2016': 'GRANTED - 01/23/2008', 'GRANTED - 07/17/2015': 'GRANTED - 02/08/2007', 'GRANTED - 08/19/2014': 'GRANTED - 05/02/2008', 'GRANTED - 06/18/2014': 'GRANTED - 06/13/2013', 'GRANTED - 02/28/2017': 'GRANTED - 01/23/2008', 'GRANTED - 10/16/2012': 'GRANTED - 10/01/2010', 'GRANTED - 05/15/2006': 'GRANTED - 02/08/2007', 'GRANTED - 09/11/2013': 'GRANTED - 11/20/2013', 'GRANTED - 01/20/2017': 'GRANTED - 11/20/2013', 'GRANTED - 08/13/2010': 'GRANTED - 05/02/2008', 'GRANTED - 04/12/2017': 'GRANTED - 05/02/2008', 'GRANTED - 04/11/2011': 'GRANTED - 05/02/2008', 'GRANTED - 03/10/2011': 'GRANTED - 08/05/2015', 'GRANTED - 05/09/2016': 'GRANTED - 05/02/2008', 'GRANTED - 04/11/2012': 'GRANTED - 12/03/2012', 'GRANTED - 07/14/2017': 'GRANTED - 10/01/2010', 'GRANTED - 06/14/2017': 'GRANTED - 10/01/2010', 'GRANTED - 06/18/2012': 'GRANTED - 06/13/2013', 'GRANTED - 08/12/2016': 'GRANTED - 05/02/2008', 'GRANTED - 02/16/2016': 'GRANTED - 02/19/2014', 'GRANTED - 08/26/2015': 'GRANTED - 05/02/2008', 'GRANTED - 05/20/2011': 'GRANTED - 05/02/2008', 'GRANTED - 04/17/2007': 'GRANTED - 09/12/2008', 'GRANTED - 04/12/2007': 'GRANTED - 09/12/2008', 'GRANTED - 06/13/2012': 'GRANTED - 06/13/2013', 'GRANTED - 01/16/2014': 'GRANTED - 02/19/2014', 'GRANTED - 06/12/2015': 'GRANTED - 05/02/2008', 'GRANTED - 09/12/2013': 'GRANTED - 05/02/2008', 'GRANTED - 08/15/2017': 'GRANTED - 05/02/2008', 'GRANTED - 01/12/2007': 'GRANTED - 01/27/2010', 'GRANTED - 05/19/2016': 'GRANTED - 02/19/2014', 'GRANTED - 03/14/2013': 'GRANTED - 10/01/2010', 'GRANTED - 06/11/2007': 'GRANTED - 06/13/2013', 'GRANTED - 05/13/2013': 'GRANTED - 01/27/2010', 'GRANTED - 08/10/2011': 'GRANTED - 05/02/2008', 'GRANTED - 05/10/2016': 'GRANTED - 06/20/2016', 'GRANTED - 09/06/2007': 'GRANTED - 02/08/2007', 'GRANTED - 03/27/2017': 'GRANTED - 11/20/2013', 'GRANTED - 03/10/2017': 'GRANTED - 03/24/2010', 'GRANTED - 08/13/2015': 'GRANTED - 05/02/2008', 'GRANTED - 07/07/2017': 'GRANTED - 05/02/2008', 'GRANTED - 08/15/2007': 'GRANTED - 02/08/2007', 'GRANTED - 08/10/2010': 'GRANTED - 05/02/2008', 'GRANTED - 07/18/2011': 'GRANTED - 05/02/2008', 'GRANTED - 05/03/2011': 'GRANTED - 08/05/2015', 'GRANTED - 05/23/2017': 'GRANTED - 01/23/2008', 'GRANTED - 08/10/2015': 'GRANTED - 05/02/2008', 'GRANTED - 05/02/2017': 'GRANTED - 05/02/2008', 'GRANTED - 05/16/2007': 'GRANTED - 02/08/2007', 'GRANTED - 08/18/2017': 'GRANTED - 05/02/2008', 'GRANTED - 05/20/2015': 'GRANTED - 11/20/2013', 'GRANTED - 06/29/2017': 'GRANTED - 06/20/2016', 'GRANTED - 05/29/2014': 'GRANTED - 06/20/2016', 'GRANTED - 06/11/2013': 'GRANTED - 06/13/2013', 'GRANTED - 12/16/2014': 'GRANTED - 10/01/2010', 'GRANTED - 04/15/2015': 'GRANTED - 04/11/2007', 'GRANTED - 08/14/2015': 'GRANTED - 05/02/2008', 'GRANTED - 07/26/2011': 'GRANTED - 05/02/2008', 'GRANTED - 05/15/2008': 'GRANTED - 02/08/2007', 'GRANTED - 08/17/2015': 'GRANTED - 05/02/2008', 'GRANTED - 06/06/2013': 'GRANTED - 05/02/2008', 'GRANTED - 04/10/2015': 'GRANTED - 04/11/2007', 'GRANTED - 03/18/2016': 'GRANTED - 06/20/2016', 'GRANTED - 05/17/2021': 'GRANTED - 08/05/2015', 'GRANTED - 01/17/2013': 'GRANTED - 01/27/2010', 'GRANTED - 02/13/2007': 'GRANTED - 01/23/2008', 'GRANTED - 06/16/2006': 'GRANTED - 06/13/2013', 'GRANTED - 04/18/2011': 'GRANTED - 05/02/2008', 'GRANTED - 02/15/2013': 'GRANTED - 02/19/2014', 'GRANTED - 05/22/2015': 'GRANTED - 05/02/2008', 'GRANTED - 11/16/2015': 'GRANTED - 10/01/2010', 'GRANTED - 04/05/2017': 'GRANTED - 08/05/2015', 'GRANTED - 04/18/2016': 'GRANTED - 06/20/2016', 'GRANTED - 07/12/2016': 'GRANTED - 05/02/2008', 'GRANTED - 05/16/2021': 'GRANTED - 08/05/2015', 'GRANTED - 04/19/2012': 'GRANTED - 02/19/2014', 'GRANTED - 07/18/2016': 'GRANTED - 06/20/2016', 'GRANTED - 09/06/2012': 'GRANTED - 05/02/2008', 'GRANTED - 05/08/2016': 'GRANTED - 05/02/2008', 'GRANTED - 09/10/2013': 'GRANTED - 11/20/2013', 'GRANTED - 11/15/2017': 'GRANTED - 10/01/2010', 'GRANTED - 01/13/2017': 'GRANTED - 01/27/2010', 'GRANTED - 09/17/2007': 'GRANTED - 09/12/2008', 'GRANTED - 01/06/2015': 'GRANTED - 05/02/2008', 'GRANTED - 07/16/2012': 'GRANTED - 02/08/2007', 'GRANTED - 05/11/2009': 'GRANTED - 02/08/2007', 'GRANTED - 04/14/2016': 'GRANTED - 10/01/2010', 'GRANTED - 09/16/2010': 'GRANTED - 02/19/2014', 'GRANTED - 07/17/2012': 'GRANTED - 02/08/2007', 'GRANTED - 01/16/2009': 'GRANTED - 01/27/2010', 'GRANTED - 01/12/2017': 'GRANTED - 05/02/2008', 'GRANTED - 05/18/2016': 'GRANTED - 06/20/2016', 'GRANTED - 05/05/2015': 'GRANTED - 08/05/2015', 'GRANTED - 04/11/2017': 'GRANTED - 12/03/2012', 'GRANTED - 03/20/2017': 'GRANTED - 03/24/2010', 'GRANTED - 05/16/2017': 'GRANTED - 09/10/2015', 'GRANTED - 06/20/2012': 'GRANTED - 04/25/2014', 'GRANTED - 09/12/2008': 'GRANTED - 04/11/2007', 'GRANTED - 06/20/2016': 'GRANTED - 02/08/2007', 'GRANTED - 07/20/2010': 'GRANTED - 02/08/2007', 'GRANTED - 09/20/2007': 'GRANTED - 09/12/2008', 'GRANTED - 04/30/2013': 'GRANTED - 12/03/2012', 'GRANTED - 08/05/2015': 'GRANTED - 05/02/2008', 'GRANTED - 07/10/2009': 'GRANTED - 04/11/2007', 'GRANTED - 06/30/2016': 'GRANTED - 06/20/2016', 'GRANTED - 09/01/2019': 'GRANTED - 05/02/2008', 'GRANTED - 08/28/2015': 'GRANTED - 05/02/2008', 'GRANTED - 04/30/2015': 'GRANTED - 01/31/2012', 'GRANTED - 01/10/2008': 'GRANTED - 01/27/2010', 'GRANTED - 08/04/2015': 'GRANTED - 05/02/2008', 'GRANTED - 04/27/2015': 'GRANTED - 11/20/2013', 'GRANTED - 09/24/2012': 'GRANTED - 03/24/2010', 'GRANTED - 07/21/2015': 'GRANTED - 07/01/2009', 'GRANTED - 04/20/2010': 'GRANTED - 03/24/2010', 'GRANTED - 12/14/2015': 'GRANTED - 10/01/2010', 'GRANTED - 06/08/2015': 'GRANTED - 05/02/2008', 'GRANTED - 07/09/2015': 'GRANTED - 05/02/2008', 'GRANTED - 11/10/2011': 'GRANTED - 10/01/2010', 'GRANTED - 11/13/2015': 'GRANTED - 10/01/2010', 'GRANTED - 02/23/2015': 'GRANTED - 01/23/2008', 'GRANTED - 03/05/2015': 'GRANTED - 08/05/2015', 'GRANTED - 10/10/2013': 'GRANTED - 10/01/2010', 'GRANTED - 06/02/2015': 'GRANTED - 05/02/2008', 'GRANTED - 08/03/2015': 'GRANTED - 05/02/2008', 'GRANTED - 09/25/2015': 'GRANTED - 11/20/2013', 'GRANTED - 07/08/2015': 'GRANTED - 05/02/2008', 'GRANTED - 09/23/2013': 'GRANTED - 01/23/2008', 'GRANTED - 08/25/2015': 'GRANTED - 05/02/2008', 'GRANTED - 09/09/2016': 'GRANTED - 05/02/2008', 'GRANTED - 08/30/2011': 'GRANTED - 05/02/2008', 'GRANTED - 08/30/2016': 'GRANTED - 05/02/2008', 'GRANTED - 09/01/2016': 'GRANTED - 05/02/2008', 'GRANTED - 02/20/2015': 'GRANTED - 01/23/2008', 'GRANTED - 07/20/2015': 'GRANTED - 02/08/2007', 'GRANTED - 12/18/2015': 'GRANTED - 10/01/2010', 'GRANTED - 03/23/2015': 'GRANTED - 01/23/2008', 'GRANTED - 12/10/2013': 'GRANTED - 10/01/2010', 'GRANTED - 09/07/2016': 'GRANTED - 05/02/2008', 'GRANTED - 01/05/2015': 'GRANTED - 08/05/2015', 'GRANTED - 01/28/2015': 'GRANTED - 02/08/2007', 'GRANTED - 10/10/2014': 'GRANTED - 10/01/2010', 'GRANTED - 09/30/2014': 'GRANTED - 01/31/2012', 'GRANTED - 09/03/2013': 'GRANTED - 05/02/2008', 'GRANTED - 09/15/2006': 'GRANTED - 02/08/2007', 'GRANTED - 03/24/2015': 'GRANTED - 11/20/2013', 'GRANTED - 12/15/2015': 'GRANTED - 10/01/2010', 'GRANTED - 09/18/2008': 'GRANTED - 02/08/2007', 'GRANTED - 02/20/2013': 'GRANTED - 01/23/2008', 'GRANTED - 07/27/2015': 'GRANTED - 02/08/2007', 'GRANTED - 09/25/2012': 'GRANTED - 12/03/2012', 'GRANTED - 07/10/2006': 'GRANTED - 02/08/2007', 'GRANTED - 01/20/2015': 'GRANTED - 11/20/2013', 'GRANTED - 02/09/2015': 'GRANTED - 05/02/2008', 'GRANTED - 01/09/2015': 'GRANTED - 05/02/2008', 'GRANTED - 09/30/2011': 'GRANTED - 05/02/2008', 'GRANTED - 09/03/2015': 'GRANTED - 05/02/2008', 'GRANTED - 10/30/2015': 'GRANTED - 10/01/2010', 'GRANTED - 09/05/2014': 'GRANTED - 08/05/2015', 'GRANTED - 01/20/2016': 'GRANTED - 06/20/2016', 'GRANTED - 07/07/2015': 'GRANTED - 05/02/2008', 'GRANTED - 04/07/2015': 'GRANTED - 05/02/2008', 'GRANTED - 09/25/2014': 'GRANTED - 09/10/2015', 'GRANTED - 07/30/2012': 'GRANTED - 02/08/2007', 'GRANTED - 09/10/2015': 'GRANTED - 04/25/2014', 'GRANTED - 02/08/2007': 'GRANTED - 12/03/2012', 'GRANTED - 01/18/2008': 'GRANTED - 02/08/2007', 'GRANTED - 07/01/2009': 'GRANTED - 02/08/2007', 'GRANTED - 02/12/2009': 'GRANTED - 02/19/2014', 'GRANTED - 10/12/2007': 'GRANTED - 10/01/2010', 'GRANTED - 03/17/2008': 'GRANTED - 03/24/2010', 'GRANTED - 10/18/2007': 'GRANTED - 10/01/2010', 'GRANTED - 07/13/2006': 'GRANTED - 02/08/2007', 'GRANTED - 04/21/2008': 'GRANTED - 09/12/2008', 'GRANTED - 09/07/2007': 'GRANTED - 02/08/2007', 'GRANTED - 01/13/2009': 'GRANTED - 02/08/2007', 'GRANTED - 04/02/2009': 'GRANTED - 05/02/2008', 'GRANTED - 02/23/2007': 'GRANTED - 01/23/2008', 'GRANTED - 02/20/2007': 'GRANTED - 01/23/2008', 'GRANTED - 09/21/2009': 'GRANTED - 09/12/2008', 'GRANTED - 07/23/2007': 'GRANTED - 01/23/2008', 'GRANTED - 03/09/2007': 'GRANTED - 08/05/2015', 'GRANTED - 08/20/2007': 'GRANTED - 02/08/2007', 'GRANTED - 04/19/2006': 'GRANTED - 02/19/2014', 'GRANTED - 07/20/2007': 'GRANTED - 04/11/2007', 'GRANTED - 01/21/2009': 'GRANTED - 03/24/2010', 'GRANTED - 04/24/2007': 'GRANTED - 12/03/2012', 'GRANTED - 03/28/2007': 'GRANTED - 09/12/2008', 'GRANTED - 12/21/2007': 'GRANTED - 12/03/2012', 'GRANTED - 08/21/2007': 'GRANTED - 02/08/2007', 'GRANTED - 07/17/2006': 'GRANTED - 02/08/2007', 'GRANTED - 07/13/2009': 'GRANTED - 02/08/2007', 'GRANTED - 02/13/2009': 'GRANTED - 01/23/2008', 'GRANTED - 04/23/2007': 'GRANTED - 01/23/2008', 'GRANTED - 06/01/2007': 'GRANTED - 07/01/2009', 'GRANTED - 04/11/2008': 'GRANTED - 09/12/2008', 'GRANTED - 01/05/2007': 'GRANTED - 08/05/2015', 'GRANTED - 11/19/2007': 'GRANTED - 12/03/2012', 'GRANTED - 07/24/2007': 'GRANTED - 12/03/2012', 'GRANTED - 04/25/2007': 'GRANTED - 02/08/2007', 'GRANTED - 08/18/2006': 'GRANTED - 06/20/2016', 'GRANTED - 04/06/2009': 'GRANTED - 02/08/2007', 'GRANTED - 04/01/2014': 'GRANTED - 05/02/2008', 'GRANTED - 04/15/2009': 'GRANTED - 02/08/2007', 'GRANTED - 06/20/2007': 'GRANTED - 02/08/2007', 'GRANTED - 06/13/2006': 'GRANTED - 06/13/2013', 'GRANTED - 10/31/2007': 'GRANTED - 12/03/2012', 'GRANTED - 08/22/2007': 'GRANTED - 05/02/2008', 'GRANTED - 03/27/2007': 'GRANTED - 03/24/2010', 'GRANTED - 04/01/2009': 'GRANTED - 07/01/2009', 'GRANTED - 12/10/2007': 'GRANTED - 12/03/2012', 'GRANTED - 02/17/2009': 'GRANTED - 02/19/2014', 'GRANTED - 04/21/2016': 'GRANTED - 06/20/2016', 'GRANTED - 09/28/2007': 'GRANTED - 09/12/2008', 'GRANTED - 11/15/2007': 'GRANTED - 12/03/2012', 'GRANTED - 01/04/2007': 'GRANTED - 01/04/2008', 'GRANTED - 06/22/2007': 'GRANTED - 02/08/2007', 'GRANTED - 06/07/2007': 'GRANTED - 02/08/2007', 'GRANTED - 08/09/2007': 'GRANTED - 05/02/2008', 'GRANTED - 07/19/2006': 'GRANTED - 02/19/2014', 'GRANTED - 03/30/2007': 'GRANTED - 01/31/2012', 'GRANTED - 04/12/2021': 'GRANTED - 08/05/2015', 'GRANTED - 04/20/2009': 'GRANTED - 04/11/2007', 'GRANTED - 06/29/2007': 'GRANTED - 02/08/2007', 'GRANTED - 04/09/2009': 'GRANTED - 06/20/2016', 'GRANTED - 02/01/2007': 'GRANTED - 07/01/2009', 'GRANTED - 07/24/2009': 'GRANTED - 03/24/2010', 'GRANTED - 01/23/2008': 'GRANTED - 02/08/2007', 'GRANTED - 01/13/2020': 'GRANTED - 01/23/2008', 'GRANTED - 07/29/2008': 'GRANTED - 02/08/2007', 'GRANTED - 07/23/2010': 'GRANTED - 01/23/2008', 'GRANTED - 07/03/2012': 'GRANTED - 05/02/2008', 'GRANTED - 11/13/2008': 'GRANTED - 01/27/2010', 'GRANTED - 08/03/2009': 'GRANTED - 05/02/2008', 'GRANTED - 10/13/2009': 'GRANTED - 10/01/2010', 'GRANTED - 07/28/2006': 'GRANTED - 02/08/2007', 'GRANTED - 10/03/2007': 'GRANTED - 02/08/2007', 'GRANTED - 08/03/2006': 'GRANTED - 05/02/2008', 'GRANTED - 04/25/2014': 'GRANTED - 10/29/2008', 'GRANTED - 02/28/2011': 'GRANTED - 05/02/2008', 'GRANTED - 02/27/2012': 'GRANTED - 01/23/2008', 'GRANTED - 04/28/2014': 'GRANTED - 02/08/2007', 'GRANTED - 08/29/2016': 'GRANTED - 05/02/2008', 'GRANTED - 02/09/2016': 'GRANTED - 05/02/2008', 'GRANTED - 04/02/2014': 'GRANTED - 05/02/2008', 'GRANTED - 02/08/2013': 'GRANTED - 05/02/2008', 'GRANTED - 07/29/2014': 'GRANTED - 06/20/2016', 'GRANTED - 12/31/2014': 'GRANTED - 02/19/2014', 'GRANTED - 02/01/2019': 'GRANTED - 05/02/2008', 'GRANTED - 02/08/2011': 'GRANTED - 08/05/2015', 'GRANTED - 07/31/2014': 'GRANTED - 07/01/2009', 'GRANTED - 04/29/2011': 'GRANTED - 05/02/2008', 'GRANTED - 02/09/2011': 'GRANTED - 08/05/2015', 'GRANTED - 02/05/2013': 'GRANTED - 08/05/2015', 'GRANTED - 08/09/2016': 'GRANTED - 05/02/2008', 'GRANTED - 04/04/2014': 'GRANTED - 05/02/2008', 'GRANTED - 07/08/2014': 'GRANTED - 05/02/2008', 'GRANTED - 07/07/2014': 'GRANTED - 05/02/2008', 'GRANTED - 01/29/2016': 'GRANTED - 06/20/2016', 'GRANTED - 12/11/2013': 'GRANTED - 10/01/2010', 'GRANTED - 02/04/2011': 'GRANTED - 08/05/2015', 'GRANTED - 07/28/2014': 'GRANTED - 02/08/2007', 'GRANTED - 02/22/2016': 'GRANTED - 05/02/2008', 'GRANTED - 02/25/2019': 'GRANTED - 01/23/2008', 'GRANTED - 02/25/2016': 'GRANTED - 01/23/2008', 'GRANTED - 02/09/2021': 'GRANTED - 08/05/2015', 'GRANTED - 12/29/2010': 'GRANTED - 02/19/2014', 'GRANTED - 12/19/2012': 'GRANTED - 10/01/2010', 'GRANTED - 12/15/2014': 'GRANTED - 10/01/2010', 'GRANTED - 02/05/2016': 'GRANTED - 08/05/2015', 'GRANTED - 02/18/2020': 'GRANTED - 01/23/2008', 'GRANTED - 10/19/2012': 'GRANTED - 10/01/2010', 'GRANTED - 12/19/2011': 'GRANTED - 10/01/2010', 'GRANTED - 08/05/2014': 'GRANTED - 08/05/2015', 'GRANTED - 07/09/2010': 'GRANTED - 05/02/2008', 'GRANTED - 06/29/2012': 'GRANTED - 06/20/2016', 'GRANTED - 02/19/2020': 'GRANTED - 01/23/2008', 'GRANTED - 10/14/2014': 'GRANTED - 10/01/2010', 'GRANTED - 11/19/2010': 'GRANTED - 10/01/2010', 'GRANTED - 02/29/2016': 'GRANTED - 01/23/2008', 'GRANTED - 02/23/2016': 'GRANTED - 01/23/2008', 'GRANTED - 12/29/2016': 'GRANTED - 06/20/2016', 'GRANTED - 02/28/2013': 'GRANTED - 01/23/2008', 'GRANTED - 07/25/2011': 'GRANTED - 08/05/2015', 'GRANTED - 07/05/2011': 'GRANTED - 08/05/2015', 'GRANTED - 07/08/2011': 'GRANTED - 08/05/2015', 'GRANTED - 07/27/2010': 'GRANTED - 02/08/2007', 'GRANTED - 07/01/2013': 'GRANTED - 05/02/2008', 'GRANTED - 03/24/2010': 'GRANTED - 01/31/2012', 'GRANTED - 01/27/2010': 'GRANTED - 11/20/2013', 'GRANTED - 05/20/2008': 'GRANTED - 02/08/2007', 'GRANTED - 08/02/2010': 'GRANTED - 05/02/2008', 'GRANTED - 11/24/2014': 'GRANTED - 10/01/2010', 'GRANTED - 10/28/2010': 'GRANTED - 10/01/2010', 'GRANTED - 08/23/2016': 'GRANTED - 05/02/2008', 'GRANTED - 01/23/2012': 'GRANTED - 01/23/2008', 'GRANTED - 01/23/2020': 'GRANTED - 01/23/2008', 'GRANTED - 06/28/2011': 'GRANTED - 05/02/2008', 'GRANTED - 05/25/2006': 'GRANTED - 02/08/2007', 'GRANTED - 08/31/2010': 'GRANTED - 05/02/2008', 'GRANTED - 03/01/2010': 'GRANTED - 08/05/2015', 'GRANTED - 06/04/2012': 'GRANTED - 05/02/2008', 'GRANTED - 03/27/2013': 'GRANTED - 11/20/2013', 'GRANTED - 03/25/2013': 'GRANTED - 08/05/2015', 'GRANTED - 11/24/2010': 'GRANTED - 10/01/2010', 'GRANTED - 05/24/2021': 'GRANTED - 08/05/2015', 'GRANTED - 06/24/2008': 'GRANTED - 06/13/2013', 'GRANTED - 08/23/2011': 'GRANTED - 05/02/2008', 'GRANTED - 06/02/2010': 'GRANTED - 05/02/2008', 'GRANTED - 01/28/2010': 'GRANTED - 02/08/2007', 'GRANTED - 05/04/2009': 'GRANTED - 01/04/2008', 'GRANTED - 11/23/2010': 'GRANTED - 01/27/2010', 'GRANTED - 10/04/2010': 'GRANTED - 10/01/2010', 'GRANTED - 10/29/2010': 'GRANTED - 10/01/2010', 'GRANTED - 06/03/2010': 'GRANTED - 05/02/2008', 'GRANTED - 03/27/2016': 'GRANTED - 06/20/2016', 'GRANTED - 10/25/2010': 'GRANTED - 10/01/2010', 'GRANTED - 04/04/2013': 'GRANTED - 05/02/2008', 'GRANTED - 06/28/2016': 'GRANTED - 06/20/2016', 'GRANTED - 08/24/2006': 'GRANTED - 06/20/2016', 'GRANTED - 03/21/2016': 'GRANTED - 06/20/2016', 'GRANTED - 03/21/2012': 'GRANTED - 12/03/2012', 'GRANTED - 08/04/2011': 'GRANTED - 08/05/2015', 'GRANTED - 01/27/2012': 'GRANTED - 11/20/2013', 'GRANTED - 03/25/2010': 'GRANTED - 08/05/2015', 'GRANTED - 10/24/2016': 'GRANTED - 10/01/2010', 'GRANTED - 06/24/2016': 'GRANTED - 06/13/2013', 'GRANTED - 06/07/2010': 'GRANTED - 05/02/2008', 'GRANTED - 06/25/2012': 'GRANTED - 02/08/2007', 'GRANTED - 06/21/2011': 'GRANTED - 05/02/2008', 'GRANTED - 01/22/2013': 'GRANTED - 05/02/2008', 'GRANTED - 03/04/2020': 'GRANTED - 08/05/2015', 'GRANTED - 01/31/2012': 'GRANTED - 10/06/2020', 'GRANTED - 01/03/2012': 'GRANTED - 05/02/2008', 'GRANTED - 11/14/2012': 'GRANTED - 10/01/2010', 'GRANTED - 03/07/2012': 'GRANTED - 08/05/2015', 'GRANTED - 08/07/2012': 'GRANTED - 05/02/2008', 'GRANTED - 10/26/2012': 'GRANTED - 10/01/2010', 'GRANTED - 10/17/2012': 'GRANTED - 10/01/2010', 'GRANTED - 06/07/2012': 'GRANTED - 05/02/2008', 'GRANTED - 11/17/2016': 'GRANTED - 10/01/2010', 'GRANTED - 12/07/2012': 'GRANTED - 11/20/2013', 'GRANTED - 06/07/2016': 'GRANTED - 05/02/2008', 'GRANTED - 03/07/2016': 'GRANTED - 08/05/2015', 'GRANTED - 10/17/2013': 'GRANTED - 10/01/2010', 'GRANTED - 10/27/2017': 'GRANTED - 10/01/2010', 'GRANTED - 01/02/2013': 'GRANTED - 05/02/2008', 'GRANTED - 06/14/2021': 'GRANTED - 08/05/2015', 'GRANTED - 06/01/2016': 'GRANTED - 05/02/2008', 'GRANTED - 12/23/2013': 'GRANTED - 01/23/2008', 'GRANTED - 03/03/2011': 'GRANTED - 08/05/2015', 'GRANTED - 10/18/2013': 'GRANTED - 10/01/2010', 'GRANTED - 10/06/2020': 'GRANTED - 10/01/2010', 'GRANTED - 10/01/2010': 'GRANTED - 02/19/2014', 'GRANTED - 10/23/2015': 'GRANTED - 10/01/2010', 'GRANTED - 11/06/2013': 'GRANTED - 11/20/2013', 'GRANTED - 10/03/2012': 'GRANTED - 10/01/2010', 'GRANTED - 10/02/2015': 'GRANTED - 05/02/2008', 'GRANTED - 10/03/2011': 'GRANTED - 05/02/2008', 'GRANTED - 11/06/2014': 'GRANTED - 02/19/2014', 'GRANTED - 10/04/2012': 'GRANTED - 10/01/2010', 'GRANTED - 10/03/2014': 'GRANTED - 10/01/2010', 'GRANTED - 10/15/2008': 'GRANTED - 10/01/2010', 'GRANTED - 10/10/2006': 'GRANTED - 10/01/2010', 'GRANTED - 10/27/2016': 'GRANTED - 10/01/2010', 'GRANTED - 10/16/2009': 'GRANTED - 10/01/2010', 'GRANTED - 10/10/2008': 'GRANTED - 10/01/2010', 'GRANTED - 11/18/2019': 'GRANTED - 10/01/2010', 'GRANTED - 10/06/2011': 'GRANTED - 05/02/2008', 'GRANTED - 11/06/2015': 'GRANTED - 11/20/2013', 'GRANTED - 11/25/2014': 'GRANTED - 02/19/2014', 'GRANTED - 12/16/2009': 'GRANTED - 12/03/2012', 'GRANTED - 10/31/2011': 'GRANTED - 10/01/2010', 'GRANTED - 10/14/2011': 'GRANTED - 10/01/2010', 'GRANTED - 10/28/2016': 'GRANTED - 10/01/2010', 'GRANTED - 10/01/2012': 'GRANTED - 10/01/2010', 'GRANTED - 10/06/2016': 'GRANTED - 10/01/2010', 'GRANTED - 10/12/2011': 'GRANTED - 05/02/2008', 'GRANTED - 11/16/2009': 'GRANTED - 10/06/2020', 'GRANTED - 10/31/2016': 'GRANTED - 10/01/2010', 'GRANTED - 10/26/2009': 'GRANTED - 10/06/2020', 'GRANTED - 10/04/2011': 'GRANTED - 05/02/2008', 'GRANTED - 11/14/2011': 'GRANTED - 10/01/2010', 'GRANTED - 10/02/2014': 'GRANTED - 05/02/2008', 'GRANTED - 10/01/2014': 'GRANTED - 10/01/2010', 'GRANTED - 10/26/2006': 'GRANTED - 12/03/2012', 'GRANTED - 10/06/2010': 'GRANTED - 10/01/2010', 'GRANTED - 10/26/2015': 'GRANTED - 10/01/2010', 'GRANTED - 11/01/2017': 'GRANTED - 11/20/2013', 'GRANTED - 01/06/2020': 'GRANTED - 08/05/2015', 'GRANTED - 01/05/2016': 'GRANTED - 08/05/2015', 'GRANTED - 12/04/2007': 'GRANTED - 02/08/2007', 'GRANTED - 12/24/2008': 'GRANTED - 12/03/2012', 'GRANTED - 12/26/2007': 'GRANTED - 12/03/2012', 'GRANTED - 02/22/2008': 'GRANTED - 01/23/2008', 'GRANTED - 02/28/2008': 'GRANTED - 01/23/2008', 'GRANTED - 12/28/2016': 'GRANTED - 11/20/2013', 'GRANTED - 02/26/2009': 'GRANTED - 01/23/2008', 'GRANTED - 02/25/2008': 'GRANTED - 01/23/2008', 'GRANTED - 02/27/2008': 'GRANTED - 01/23/2008', 'GRANTED - 12/21/2016': 'GRANTED - 11/20/2013', 'GRANTED - 12/20/2016': 'GRANTED - 11/20/2013', 'GRANTED - 02/04/2021': 'GRANTED - 08/05/2015', 'GRANTED - 12/21/2012': 'GRANTED - 11/20/2013', 'GRANTED - 12/28/2007': 'GRANTED - 12/03/2012', 'GRANTED - 12/27/2016': 'GRANTED - 11/20/2013', 'GRANTED - 12/20/2019': 'GRANTED - 11/20/2013', 'GRANTED - 12/23/2015': 'GRANTED - 01/23/2008', 'GRANTED - 02/23/2021': 'GRANTED - 08/05/2015', 'GRANTED - 06/26/2006': 'GRANTED - 02/08/2007', 'GRANTED - 03/26/2009': 'GRANTED - 09/12/2008', 'GRANTED - 07/22/2021': 'GRANTED - 08/05/2015', 'GRANTED - 03/26/2008': 'GRANTED - 09/12/2008', 'GRANTED - 09/26/2008': 'GRANTED - 09/12/2008', 'GRANTED - 06/28/2006': 'GRANTED - 02/08/2007', 'GRANTED - 11/28/2007': 'GRANTED - 11/20/2013', 'GRANTED - 03/28/2008': 'GRANTED - 09/12/2008', 'GRANTED - 12/08/2011': 'GRANTED - 05/02/2008', 'GRANTED - 11/09/2011': 'GRANTED - 05/02/2008', 'GRANTED - 08/05/2016': 'GRANTED - 08/05/2015', 'GRANTED - 08/05/2011': 'GRANTED - 08/05/2015', 'GRANTED - 01/04/2021': 'GRANTED - 08/05/2015', 'GRANTED - 08/02/2011': 'GRANTED - 08/05/2015', 'GRANTED - 08/06/2008': 'GRANTED - 05/02/2008', 'GRANTED - 04/05/2021': 'GRANTED - 08/05/2015', 'GRANTED - 08/06/2009': 'GRANTED - 05/02/2008', 'GRANTED - 08/31/2011': 'GRANTED - 05/02/2008', 'GRANTED - 03/04/2021': 'GRANTED - 08/05/2015', 'GRANTED - 03/05/2021': 'GRANTED - 08/05/2015', 'GRANTED - 07/01/2021': 'GRANTED - 08/05/2015', 'GRANTED - 08/01/2016': 'GRANTED - 05/02/2008', 'GRANTED - 12/03/2012': 'GRANTED - 10/01/2010', 'GRANTED - 12/03/2010': 'GRANTED - 12/03/2012', 'GRANTED - 11/10/2006': 'GRANTED - 11/20/2013', 'GRANTED - 11/20/2007': 'GRANTED - 11/20/2013', 'GRANTED - 06/20/2006': 'GRANTED - 02/08/2007', 'GRANTED - 08/07/2009': 'GRANTED - 05/02/2008', 'GRANTED - 06/05/2006': 'GRANTED - 08/05/2015', 'GRANTED - 09/29/2006': 'GRANTED - 06/20/2016', 'GRANTED - 03/31/2016': 'GRANTED - 06/20/2016', 'GRANTED - 05/02/2008': 'GRANTED - 02/08/2007', 'GRANTED - 12/30/2009': 'GRANTED - 12/03/2012', 'GRANTED - 05/07/2008': 'GRANTED - 02/08/2007', 'GRANTED - 05/07/2009': 'GRANTED - 02/08/2007', 'GRANTED - 05/09/2008': 'GRANTED - 06/20/2016', 'GRANTED - 05/09/2006': 'GRANTED - 06/20/2016', 'GRANTED - 06/02/2006': 'GRANTED - 05/02/2008', 'GRANTED - 06/05/2009': 'GRANTED - 08/05/2015', 'GRANTED - 06/02/2009': 'GRANTED - 05/02/2008', 'GRANTED - 06/22/2006': 'GRANTED - 02/08/2007', 'GRANTED - 12/02/2016': 'GRANTED - 05/02/2008', 'GRANTED - 03/25/2021': 'GRANTED - 08/05/2015', 'GRANTED - 11/01/2010': 'GRANTED - 11/20/2013', 'GRANTED - 01/31/2020': 'GRANTED - 01/04/2008', 'GRANTED - 01/04/2008': 'GRANTED - 02/08/2007', 'GRANTED - 01/03/2020': 'GRANTED - 08/05/2015', 'GRANTED - 01/08/2020': 'GRANTED - 08/05/2015', 'GRANTED - 01/04/2006': 'GRANTED - 01/04/2008', 'GRANTED - 11/04/2013': 'GRANTED - 10/01/2010', 'GRANTED - 12/04/2020': 'GRANTED - 01/04/2008', 'GRANTED - 01/09/2009': 'GRANTED - 01/04/2008', 'GRANTED - 11/09/2015': 'GRANTED - 06/20/2016', 'GRANTED - 01/09/2008': 'GRANTED - 01/04/2008', 'GRANTED - 11/09/2016': 'GRANTED - 06/20/2016', 'GRANTED - 11/20/2013': 'GRANTED - 12/03/2012', 'GRANTED - 11/25/2013': 'GRANTED - 11/20/2013', 'GRANTED - 11/27/2015': 'GRANTED - 11/20/2013', 'GRANTED - 11/23/2020': 'GRANTED - 01/23/2008', 'GRANTED - 11/23/2016': 'GRANTED - 11/20/2013', 'GRANTED - 11/21/2011': 'GRANTED - 10/01/2010', 'GRANTED - 11/22/2013': 'GRANTED - 10/01/2010', 'GRANTED - 11/29/2016': 'GRANTED - 06/20/2016', 'GRANTED - 01/27/2009': 'GRANTED - 11/20/2013', 'GRANTED - 02/05/2009': 'GRANTED - 08/05/2015', 'GRANTED - 02/02/2009': 'GRANTED - 05/02/2008', 'GRANTED - 11/12/2009': 'GRANTED - 10/01/2010', 'GRANTED - 06/22/2009': 'GRANTED - 02/08/2007', 'GRANTED - 12/31/2019': 'GRANTED - 12/03/2012', 'GRANTED - 11/01/2016': 'GRANTED - 06/20/2016', 'GRANTED - 12/05/2012': 'GRANTED - 12/03/2012', 'GRANTED - 12/07/2016': 'GRANTED - 06/20/2016', 'GRANTED - 11/20/2006': 'GRANTED - 11/20/2013', 'GRANTED - 06/27/2008': 'GRANTED - 02/08/2007', 'GRANTED - 11/28/2006': 'GRANTED - 11/20/2013', 'GRANTED - 11/06/2006': 'GRANTED - 02/08/2007', 'GRANTED - 12/17/2008': 'GRANTED - 11/20/2013', 'GRANTED - 12/15/2008': 'GRANTED - 12/03/2012', 'GRANTED - 10/28/2008': 'GRANTED - 11/20/2013', 'GRANTED - 11/08/2013': 'GRANTED - 02/08/2007', 'GRANTED - 11/17/2006': 'GRANTED - 11/20/2013', 'GRANTED - 11/01/2013': 'GRANTED - 11/20/2013', 'GRANTED - 11/07/2013': 'GRANTED - 11/20/2013', 'GRANTED - 12/29/2008': 'GRANTED - 12/03/2012', 'GRANTED - 12/21/2009': 'GRANTED - 12/03/2012', 'GRANTED - 12/22/2008': 'GRANTED - 11/20/2013', 'GRANTED - 11/12/2008': 'GRANTED - 10/01/2010', 'GRANTED - 09/08/2008': 'GRANTED - 02/08/2007', 'GRANTED - 12/08/2006': 'GRANTED - 02/08/2007', 'GRANTED - 10/20/2006': 'GRANTED - 12/03/2012', 'GRANTED - 10/29/2008': 'GRANTED - 10/20/2006', 'GRANTED - 12/29/2020': 'GRANTED - 01/23/2008', 'GRANTED - 12/01/2008': 'GRANTED - 12/03/2012', 'GRANTED - 10/29/2009': 'GRANTED - 07/24/2009', 'GRANTED - 11/09/2020': 'GRANTED - 01/04/2008', 'Exempt- 07/17/2006': 'Exempt- 07/21/2006', 'Exempt- 05/22/2007': 'Exempt- 07/21/2006', 'Exempt- 07/21/2006': 'Exempt- 04/19/2011', 'Exempt- 02/08/2007': 'Exempt- 04/02/2014', 'Exempt- 05/03/2006': 'Exempt- 02/08/2007', 'Exempt- 06/11/2007': 'Exempt- 04/02/2014', 'Exempt- 02/06/2007': 'Exempt- 02/08/2007', 'Exempt- 06/20/2007': 'Exempt- 08/22/2017', 'Exempt- 07/13/2006': 'Exempt- 05/22/2007', 'Exempt- 03/26/2007': 'Exempt- 08/22/2017', 'Exempt- 03/17/2006': 'Exempt- 05/22/2007', 'Exempt- 08/01/2017': 'Exempt- 08/22/2017', 'Exempt- 01/23/2007': 'Exempt- 02/08/2007', 'Exempt- 02/10/2017': 'Exempt- 08/22/2017', 'Exempt- 04/09/2007': 'Exempt- 02/08/2007', 'Exempt- 02/14/2017': 'Exempt- 08/22/2017', 'Exempt- 02/12/2007': 'Exempt- 05/22/2007', 'Exempt- 09/21/2009': 'Exempt- 02/08/2007', 'Exempt- 09/19/2008': 'Exempt- 02/08/2007', 'Exempt- 05/31/2012': 'Exempt- 08/22/2017', 'Exempt- 09/11/2013': 'Exempt- 04/01/2016', 'Exempt- 05/11/2007': 'Exempt- 12/21/2012', 'Exempt- 04/19/2011': 'Exempt- 05/22/2007', 'Exempt- 06/14/2021': 'Exempt- 04/19/2011', 'Exempt- 03/17/2011': 'Exempt- 08/22/2017', 'Exempt- 06/13/2011': 'Exempt- 04/01/2016', 'Exempt- 02/07/2020': 'Exempt- 10/05/2017', 'Exempt- 02/18/2020': 'Exempt- 04/19/2011', 'Exempt- 03/25/2021': 'Exempt- 04/19/2011', 'Exempt- 05/17/2021': 'Exempt- 04/19/2011', 'Exempt- 06/28/2011': 'Exempt- 04/01/2016', 'Exempt- 07/20/2010': 'Exempt- 08/22/2017', 'Exempt- 08/22/2017': 'Exempt- 04/02/2014', 'Exempt- 02/25/2008': 'Exempt- 02/08/2007', 'Exempt- 06/30/2016': 'Exempt- 08/22/2017', 'Exempt- 03/30/2017': 'Exempt- 08/22/2017', 'Exempt- 04/24/2017': 'Exempt- 08/22/2017', 'Exempt- 07/24/2006': 'Exempt- 05/22/2007', 'Exempt- 03/26/2008': 'Exempt- 02/08/2007', 'Exempt- 09/29/2017': 'Exempt- 08/22/2017', 'Exempt- 02/25/2013': 'Exempt- 10/21/2020', 'Exempt- 05/22/2014': 'Exempt- 12/21/2012', 'Exempt- 12/28/2017': 'Exempt- 12/21/2012', 'Exempt- 02/26/2016': 'Exempt- 04/01/2016', 'Exempt- 06/27/2017': 'Exempt- 08/22/2017', 'Exempt- 12/28/2016': 'Exempt- 12/21/2012', 'Exempt- 03/03/2011': 'Exempt- 08/22/2017', 'Exempt- 05/04/2010': 'Exempt- 12/21/2012', 'Exempt- 07/31/2014': 'Exempt- 08/22/2017', 'Exempt- 09/03/2010': 'Exempt- 04/02/2014', 'Exempt- 07/31/2015': 'Exempt- 08/22/2017', 'Exempt- 07/02/2015': 'Exempt- 04/01/2016', 'Exempt- 10/29/2010': 'Exempt- 12/21/2012', 'Exempt- 12/15/2009': 'Exempt- 10/10/2008', 'Exempt- 10/10/2008': 'Exempt- 12/15/2009', 'Exempt- 12/17/2009': 'Exempt- 10/05/2017', 'Exempt- 12/22/2006': 'Exempt- 02/25/2013', 'Exempt- 11/12/2009': 'Exempt- 12/15/2009', 'Exempt- 09/12/2013': 'Exempt- 04/02/2014', 'Exempt- 11/24/2015': 'Exempt- 12/21/2012', 'Exempt- 10/14/2014': 'Exempt- 12/21/2012', 'Exempt- 03/14/2013': 'Exempt- 08/22/2017', 'Exempt- 11/14/2013': 'Exempt- 12/21/2012', 'Exempt- 12/21/2012': 'Exempt- 10/05/2017', 'Exempt- 11/23/2020': 'Exempt- 12/21/2012', 'Exempt- 10/01/2014': 'Exempt- 10/05/2017', 'Exempt- 10/21/2020': 'Exempt- 10/29/2010', 'Exempt- 10/05/2017': 'Exempt- 10/02/2012', 'Exempt- 10/02/2012': 'Exempt- 10/05/2017', 'Exempt- 10/06/2014': 'Exempt- 10/05/2017', 'Exempt- 02/19/2014': 'Exempt- 04/19/2011', 'Exempt- 09/03/2013': 'Exempt- 04/02/2014', 'Exempt- 02/12/2015': 'Exempt- 04/01/2016', 'Exempt- 02/05/2013': 'Exempt- 10/05/2017', 'Exempt- 04/02/2014': 'Exempt- 04/19/2011', 'Exempt- 04/01/2014': 'Exempt- 04/01/2016', 'Exempt- 08/13/2012': 'Exempt- 12/21/2012', 'Exempt- 04/01/2016': 'Exempt- 12/21/2012', 'Exempt- 01/08/2008': 'Exempt- 02/08/2007', 'Exempt- 05/02/2016': 'Exempt- 04/01/2016', 'Exempt- 03/31/2015': 'Exempt- 08/22/2017', 'Exempt- 12/08/2017': 'Exempt- 10/05/2017', 'WithDrawn/Abandoned- 08/23/2012': 'WithDrawn/Abandoned- 02/19/2020', 'WithDrawn/Abandoned- 10/21/2020': 'WithDrawn/Abandoned- 02/19/2020', 'WithDrawn/Abandoned- 03/27/2014': 'WithDrawn/Abandoned- 02/19/2020', 'WithDrawn/Abandoned- 09/21/2006': 'WithDrawn/Abandoned- 02/19/2020', 'WithDrawn/Abandoned- 08/07/2015': 'WithDrawn/Abandoned- 02/19/2020', 'WithDrawn/Abandoned- 01/03/2020': 'WithDrawn/Abandoned- 02/19/2020', 'WithDrawn/Abandoned- 06/08/2010': 'WithDrawn/Abandoned- 02/19/2020', 'WithDrawn/Abandoned- 03/07/2008': 'WithDrawn/Abandoned- 02/19/2020', 'WithDrawn/Abandoned- 09/17/2012': 'WithDrawn/Abandoned- 02/19/2020', 'WithDrawn/Abandoned- 11/04/2010': 'WithDrawn/Abandoned- 02/19/2020', 'WithDrawn/Abandoned- 05/16/2012': 'WithDrawn/Abandoned- 02/19/2020', 'WithDrawn/Abandoned- 02/12/2020': 'WithDrawn/Abandoned- 02/19/2020', 'Exempt- 12/07/2012': 'Exempt- 10/05/2017', 'Exempt- 08/06/2009': 'Exempt- 02/08/2007', 'DENIED , 01/23/2017': 'DENIED , 01/18/2012', 'DENIED , 11/22/2006': 'DENIED , 11/25/2013', 'DENIED , 11/25/2013': 'DENIED , 01/18/2012', 'DENIED , 07/15/2008': 'DENIED , 01/23/2017', 'DENIED , 08/28/2008': 'DENIED , 07/08/2008', 'DENIED , 11/25/2008': 'DENIED , 11/25/2013', 'DENIED , 02/01/2007': 'DENIED , 01/23/2017', 'DENIED , 01/17/2007': 'DENIED , 01/23/2017', 'DENIED , 04/02/2009': 'DENIED , 06/07/2017', 'DENIED , 07/18/2007': 'DENIED , 01/23/2017', 'DENIED , 09/12/2007': 'DENIED , 01/23/2017', 'DENIED , 10/12/2012': 'DENIED , 03/18/2015', 'DENIED , 01/18/2012': 'DENIED , 01/23/2017', 'DENIED , 03/18/2015': 'DENIED , 01/18/2012', 'DENIED , 02/13/2013': 'DENIED , 01/23/2017', 'DENIED , 09/12/2013': 'DENIED , 01/23/2017', 'DENIED , 10/19/2009': 'DENIED , 10/12/2012', 'DENIED , 04/08/2010': 'DENIED , 06/07/2017', 'DENIED , 07/08/2008': 'DENIED , 01/18/2012', 'DENIED , 04/08/2008': 'DENIED , 07/08/2008', 'DENIED , 06/07/2017': 'DENIED , 01/18/2012', 'DENIED , 06/09/2019': 'DENIED , 06/07/2017', 'DENIED , 03/09/2012': 'DENIED , 06/07/2017', 'DENIED , 05/24/2012': 'DENIED , 01/18/2012', 'DENIED , 04/29/2021': 'DENIED , 04/19/2021', 'Rejected- 03/22/2013': 'Rejected- 04/20/2011', 'Rejected- 05/16/2011': 'Rejected- 06/11/2012', 'Rejected- 04/20/2011': 'Rejected- 06/11/2012', 'Rejected- 06/11/2012': 'Rejected- 02/17/2017', 'Rejected- 02/17/2017': 'Rejected- 06/11/2012'}\n",
            "             total  empty  distinct  uniqueness   entropy\n",
            "casestatus  100000      0        61     0.00061  0.260933\n"
          ]
        }
      ]
    },
    {
      "cell_type": "code",
      "source": [
        "print(data[colName].unique().tolist())"
      ],
      "metadata": {
        "id": "QZam13b0QmIz",
        "outputId": "e70c69ee-1c96-40ee-810e-b61bf1185cc6",
        "colab": {
          "base_uri": "https://localhost:8080/"
        }
      },
      "execution_count": 14,
      "outputs": [
        {
          "output_type": "stream",
          "name": "stdout",
          "text": [
            "['CLOSED', 'PENDING', 'GRANTED -', 'GRANTED - 09/10/2015', 'GRANTED - 04/25/2014', 'GRANTED - 11/20/2013', 'GRANTED - 10/20/2006', 'Exempt- 04/19/2011', 'Exempt- 10/10/2008', 'GRANTED - 10/29/2008', 'GRANTED - 03/24/2010', 'GRANTED - 10/01/2010', 'GRANTED - 10/06/2020', 'GRANTED - 04/11/2007', 'GRANTED - 01/31/2012', 'APPLICATION PENDING', 'GRANTED - 12/03/2012', 'GRANTED - 02/08/2007', 'DENIED , 01/18/2012', 'GRANTED - 06/20/2016', 'GRANTED - 02/19/2014', 'Exempt- 07/21/2006', 'WithDrawn/Abandoned- 02/19/2020', 'Rejected- 04/20/2011', 'Exempt- 10/29/2010', 'Exempt- 10/21/2020', 'GRANTED - 01/27/2010', 'DENIED , 07/08/2008', 'Exempt- 05/22/2007', 'GRANTED - 09/12/2008', 'GRANTED - 01/23/2008', 'GRANTED - 05/02/2008', 'GRANTED - 01/04/2008', 'WithDrawn/Abandoned-', 'GRANTED - 08/05/2015', 'Exempt- 04/02/2014', 'Exempt- 10/02/2012', 'Exempt- 10/05/2017', 'DENIED , 01/23/2017', 'Exempt- 02/08/2007', 'Rescinded- 10/05/2010', 'Exempt- 12/15/2009', 'GRANTED - 07/01/2009', 'GRANTED - 06/13/2013', 'Exempt- 12/21/2012', 'Rejected- 11/29/2017', 'Exempt- 04/01/2016', 'GRANTED - 07/24/2009', 'Rejected- 02/17/2017', 'DENIED , 03/18/2015', 'Exempt- 08/22/2017', 'Exempt-', 'DENIED , 04/19/2021', 'Rejected- 06/11/2012', 'Settlement With Cure- 10/24/2007', 'DENIED ,', 'DENIED , 06/07/2017', 'Exempt- 02/25/2013', 'DENIED , 10/12/2012', 'DENIED , 11/25/2013', 'Rescinded- 05/22/2007']\n"
          ]
        }
      ]
    },
    {
      "cell_type": "code",
      "source": [
        "from cleanSimilarString import cleanSimilarStringEvaluate, updateSimilarStringWithMapping\n",
        "\n",
        "colName = \"casetype\"\n",
        "print(dataset_profile(data).stats()[-2:-1])\n",
        "print(cleanSimilarStringEvaluate(data, colName))\n",
        "data = updateSimilarStringWithMapping(data, colName, cleanSimilarStringEvaluate(data, colName))\n",
        "print(dataset_profile(data).stats()[-2:-1])"
      ],
      "metadata": {
        "colab": {
          "base_uri": "https://localhost:8080/"
        },
        "id": "QBkO0ZGB0s1o",
        "outputId": "46d0aecf-3eb5-47bd-fa3d-0212da67787e"
      },
      "execution_count": 15,
      "outputs": [
        {
          "output_type": "stream",
          "name": "stdout",
          "text": [
            "           total  empty  distinct  uniqueness  entropy\n",
            "casetype  100000      0        14     0.00014  2.29652\n",
            "{'Heat Supplemental Cases': 'Comp Supplemental Cases'}\n",
            "           total  empty  distinct  uniqueness   entropy\n",
            "casetype  100000      0        13     0.00013  2.289124\n"
          ]
        }
      ]
    }
  ]
}