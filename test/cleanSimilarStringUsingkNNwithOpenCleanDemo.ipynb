{
  "nbformat": 4,
  "nbformat_minor": 0,
  "metadata": {
    "colab": {
      "name": "cleanSimilarStringUsingkNNwithOpenCleanDemo.ipynb",
      "provenance": [],
      "include_colab_link": true
    },
    "kernelspec": {
      "name": "python3",
      "display_name": "Python 3"
    },
    "language_info": {
      "name": "python"
    }
  },
  "cells": [
    {
      "cell_type": "markdown",
      "metadata": {
        "id": "view-in-github",
        "colab_type": "text"
      },
      "source": [
        "<a href=\"https://colab.research.google.com/github/CharlesPoletowin/BigDataProject/blob/main/test/cleanSimilarStringUsingkNNwithOpenCleanDemo.ipynb\" target=\"_parent\"><img src=\"https://colab.research.google.com/assets/colab-badge.svg\" alt=\"Open In Colab\"/></a>"
      ]
    },
    {
      "cell_type": "markdown",
      "source": [
        "# pip install"
      ],
      "metadata": {
        "id": "m6PMu3NKtzG6"
      }
    },
    {
      "cell_type": "code",
      "metadata": {
        "id": "4KcAeaCCYC3f"
      },
      "source": [
        "!pip install openclean[full]"
      ],
      "execution_count": null,
      "outputs": []
    },
    {
      "cell_type": "markdown",
      "source": [
        "# import file from nyc opendata"
      ],
      "metadata": {
        "id": "sJDeVexvuDVK"
      }
    },
    {
      "cell_type": "code",
      "source": [
        "!wget 'https://data.cityofnewyork.us/resource/59kj-x8nc.csv?$$app_token=5uY6Dy7N0wt19j4Pe9PBQ1y6C&$select=boroid,zip,latitude,longitude,casetype,casestatus&$limit=100000'  -O data1.csv\n",
        "!ls"
      ],
      "metadata": {
        "colab": {
          "base_uri": "https://localhost:8080/"
        },
        "id": "8Z5wj2s8uJUq",
        "outputId": "4e4f170c-6db1-4a9b-d16a-59f777512dbb"
      },
      "execution_count": 2,
      "outputs": [
        {
          "output_type": "stream",
          "name": "stdout",
          "text": [
            "--2021-12-12 02:34:23--  https://data.cityofnewyork.us/resource/59kj-x8nc.csv?$$app_token=5uY6Dy7N0wt19j4Pe9PBQ1y6C&$select=boroid,zip,latitude,longitude,casetype,casestatus&$limit=100000\n",
            "Resolving data.cityofnewyork.us (data.cityofnewyork.us)... 52.206.140.205, 52.206.140.199, 52.206.68.26\n",
            "Connecting to data.cityofnewyork.us (data.cityofnewyork.us)|52.206.140.205|:443... connected.\n",
            "HTTP request sent, awaiting response... 200 OK\n",
            "Length: unspecified [text/csv]\n",
            "Saving to: ‘data1.csv’\n",
            "\n",
            "data1.csv               [   <=>              ]   6.31M  9.20MB/s    in 0.7s    \n",
            "\n",
            "2021-12-12 02:34:25 (9.20 MB/s) - ‘data1.csv’ saved [6613394]\n",
            "\n",
            "data1.csv  sample_data\n"
          ]
        }
      ]
    },
    {
      "cell_type": "markdown",
      "source": [
        "# how to use cleanSimilarString.py file ?\n",
        "this file use kNN method to deal with similarity"
      ],
      "metadata": {
        "id": "t6We5cLzt7Nr"
      }
    },
    {
      "cell_type": "code",
      "source": [
        "!wget https://github.com/CharlesPoletowin/BigDataProject/raw/main/src/cleanSimilarString.py -O cleanSimilarString.py\n",
        "!ls"
      ],
      "metadata": {
        "colab": {
          "base_uri": "https://localhost:8080/"
        },
        "id": "NRThDUQRvaVh",
        "outputId": "bcc443b2-e0e3-41ae-ac89-4f3abb814b5c"
      },
      "execution_count": 3,
      "outputs": [
        {
          "output_type": "stream",
          "name": "stdout",
          "text": [
            "--2021-12-12 02:34:25--  https://github.com/CharlesPoletowin/BigDataProject/raw/main/src/cleanSimilarString.py\n",
            "Resolving github.com (github.com)... 140.82.121.4\n",
            "Connecting to github.com (github.com)|140.82.121.4|:443... connected.\n",
            "HTTP request sent, awaiting response... 302 Found\n",
            "Location: https://raw.githubusercontent.com/CharlesPoletowin/BigDataProject/main/src/cleanSimilarString.py [following]\n",
            "--2021-12-12 02:34:25--  https://raw.githubusercontent.com/CharlesPoletowin/BigDataProject/main/src/cleanSimilarString.py\n",
            "Resolving raw.githubusercontent.com (raw.githubusercontent.com)... 185.199.108.133, 185.199.109.133, 185.199.110.133, ...\n",
            "Connecting to raw.githubusercontent.com (raw.githubusercontent.com)|185.199.108.133|:443... connected.\n",
            "HTTP request sent, awaiting response... 200 OK\n",
            "Length: 1039 (1.0K) [text/plain]\n",
            "Saving to: ‘cleanSimilarString.py’\n",
            "\n",
            "cleanSimilarString. 100%[===================>]   1.01K  --.-KB/s    in 0s      \n",
            "\n",
            "2021-12-12 02:34:25 (85.9 MB/s) - ‘cleanSimilarString.py’ saved [1039/1039]\n",
            "\n",
            "cleanSimilarString.py  data1.csv  sample_data\n"
          ]
        }
      ]
    },
    {
      "cell_type": "code",
      "source": [
        "import pandas as pd\n",
        "from openclean.profiling.dataset import dataset_profile\n",
        "data = pd.read_csv('data1.csv')\n",
        "print(data.head())\n",
        "print(dataset_profile(data).stats())"
      ],
      "metadata": {
        "colab": {
          "base_uri": "https://localhost:8080/"
        },
        "id": "tZZAHpppwH13",
        "outputId": "afada1a3-979a-4403-b189-6ca533c3225f"
      },
      "execution_count": 4,
      "outputs": [
        {
          "output_type": "stream",
          "name": "stdout",
          "text": [
            "   boroid      zip   latitude  longitude                   casetype casestatus\n",
            "0       3  11226.0  40.639709 -73.953068              Comprehensive     CLOSED\n",
            "1       1  10065.0  40.767250 -73.970415         Heat and Hot Water     CLOSED\n",
            "2       3  11222.0  40.731788 -73.952751         Heat and Hot Water     CLOSED\n",
            "3       2  10457.0  40.856598 -73.900434         Heat and Hot Water     CLOSED\n",
            "4       2  10455.0  40.811197 -73.908810  Access Warrant - Non-Lead     CLOSED\n",
            "             total  empty  distinct  uniqueness    entropy\n",
            "boroid      100000      0         5    0.000050   2.030148\n",
            "zip         100000     29       181    0.001811   6.646043\n",
            "latitude    100000     64     38981    0.390060  14.635096\n",
            "longitude   100000     64     38397    0.384216  14.601727\n",
            "casetype    100000      0        14    0.000140   2.296520\n",
            "casestatus  100000      0       744    0.007440   0.316097\n"
          ]
        }
      ]
    },
    {
      "cell_type": "code",
      "source": [
        "print(data.casetype.unique().tolist())\n",
        "print(\"----\")\n",
        "print(data['casestatus'].unique().tolist())"
      ],
      "metadata": {
        "id": "xrSTzDEJxHoa"
      },
      "execution_count": null,
      "outputs": []
    },
    {
      "cell_type": "code",
      "source": [
        "from cleanSimilarString import cleanSimilarStringEvaluate, updateSimilarStringWithMapping\n",
        "\n",
        "print(dataset_profile(data).stats()[-1:])\n",
        "colName = \"casestatus\"\n",
        "print(cleanSimilarStringEvaluate(data, colName))\n",
        "data = updateSimilarStringWithMapping(data, colName, cleanSimilarStringEvaluate(data, colName))\n",
        "print(dataset_profile(data).stats()[-1:])\n"
      ],
      "metadata": {
        "id": "ac0MdYsCzyCY"
      },
      "execution_count": null,
      "outputs": []
    },
    {
      "cell_type": "code",
      "source": [
        "print(data[colName].unique().tolist())"
      ],
      "metadata": {
        "id": "QZam13b0QmIz"
      },
      "execution_count": null,
      "outputs": []
    },
    {
      "cell_type": "code",
      "source": [
        "from cleanSimilarString import cleanSimilarStringEvaluate, updateSimilarStringWithMapping\n",
        "\n",
        "colName = \"casetype\"\n",
        "print(dataset_profile(data).stats()[-2:-1])\n",
        "print(cleanSimilarStringEvaluate(data, colName))\n",
        "data = updateSimilarStringWithMapping(data, colName, cleanSimilarStringEvaluate(data, colName))\n",
        "print(dataset_profile(data).stats()[-2:-1])"
      ],
      "metadata": {
        "colab": {
          "base_uri": "https://localhost:8080/"
        },
        "id": "QBkO0ZGB0s1o",
        "outputId": "cdcdfe09-71ce-4f12-879b-a35c2a373dda"
      },
      "execution_count": 8,
      "outputs": [
        {
          "output_type": "stream",
          "name": "stdout",
          "text": [
            "           total  empty  distinct  uniqueness  entropy\n",
            "casetype  100000      0        14     0.00014  2.29652\n",
            "{'Heat Supplemental Cases': 'Comp Supplemental Cases'}\n",
            "           total  empty  distinct  uniqueness   entropy\n",
            "casetype  100000      0        13     0.00013  2.289124\n"
          ]
        }
      ]
    },
    {
      "cell_type": "markdown",
      "source": [
        "# dataset: 311 Service Request    \n",
        "location_type"
      ],
      "metadata": {
        "id": "-C984FAx2xEg"
      }
    },
    {
      "cell_type": "code",
      "source": [
        "!wget 'https://data.cityofnewyork.us/resource/erm2-nwe9.csv?$$app_token=5uY6Dy7N0wt19j4Pe9PBQ1y6C&$select=distinct(location_type)&$limit=100000'  -O data2.csv\n",
        "!ls"
      ],
      "metadata": {
        "colab": {
          "base_uri": "https://localhost:8080/"
        },
        "id": "o6498m0I2ydP",
        "outputId": "178391e8-766f-4fd3-8652-a0320af9681c"
      },
      "execution_count": 9,
      "outputs": [
        {
          "output_type": "stream",
          "name": "stdout",
          "text": [
            "--2021-12-12 02:35:33--  https://data.cityofnewyork.us/resource/erm2-nwe9.csv?$$app_token=5uY6Dy7N0wt19j4Pe9PBQ1y6C&$select=distinct(location_type)&$limit=100000\n",
            "Resolving data.cityofnewyork.us (data.cityofnewyork.us)... 52.206.140.199, 52.206.140.205, 52.206.68.26\n",
            "Connecting to data.cityofnewyork.us (data.cityofnewyork.us)|52.206.140.199|:443... connected.\n",
            "HTTP request sent, awaiting response... 200 OK\n",
            "Length: unspecified [text/csv]\n",
            "Saving to: ‘data2.csv’\n",
            "\n",
            "data2.csv               [ <=>                ]   3.30K  --.-KB/s    in 0s      \n",
            "\n",
            "2021-12-12 02:36:04 (371 MB/s) - ‘data2.csv’ saved [3384]\n",
            "\n",
            "cleanSimilarString.py  data1.csv  data2.csv  __pycache__  sample_data\n"
          ]
        }
      ]
    },
    {
      "cell_type": "code",
      "source": [
        "import pandas as pd\n",
        "from openclean.profiling.dataset import dataset_profile\n",
        "from cleanSimilarString import cleanSimilarStringEvaluate, updateSimilarStringWithMapping\n",
        "\n",
        "data = pd.read_csv('data2.csv')\n",
        "print(data.head())\n",
        "print(dataset_profile(data).stats())\n",
        "colName = \"location_type_1\"\n",
        "data[colName] = data[colName].astype(str)\n",
        "data[\"copy\"] = data[colName]\n",
        "\n",
        "print(cleanSimilarStringEvaluate(data, colName))\n",
        "data = updateSimilarStringWithMapping(data, colName, cleanSimilarStringEvaluate(data, colName))\n",
        "print(dataset_profile(data).stats())"
      ],
      "metadata": {
        "colab": {
          "base_uri": "https://localhost:8080/"
        },
        "id": "fDCxKTcZ3xRi",
        "outputId": "4a71349b-1282-462b-ecc9-8190447f7c5f"
      },
      "execution_count": 11,
      "outputs": [
        {
          "output_type": "stream",
          "name": "stdout",
          "text": [
            "             location_type_1\n",
            "0  1-, 2- and 3- Family Home\n",
            "1         1-2 FamilyDwelling\n",
            "2        1-2 Family Dwelling\n",
            "3         1-2Family Dwelling\n",
            "4        1/2 Family Dwelling\n",
            "                 total  empty  distinct  uniqueness   entropy\n",
            "location_type_1    194      1       193         1.0  7.592457\n",
            "{'1/2 Family Dwelling': '1-2 Family Dwelling', '1-3 Family Dwelling': '1-2 Family Dwelling', '1-2Family Dwelling': '1-2 Family Dwelling', '1-2 FamilyDwelling': '1-2 Family Dwelling', '3+ Family Mixed Use Building': '1-3 Family Mixed Use Building', '1-2 Family Mixed Use Building': '1-3 Family Mixed Use Building', '3+ Family Apart': '3+ Family Apt', '3+ Family Apt.': '3+ Family Apt', '3+ Family ApT': '3+ Family Apt', '3+Family Apt.': '3+ Family Apt', '3+ Family Apt': '3+ Family Apart', 'Comercial': 'Commercial', 'Correctional Facility - City': 'Correctional Facility - State'}\n",
            "                 total  empty  distinct  uniqueness   entropy\n",
            "location_type_1    194      0       183    0.943299  7.453704\n",
            "copy               194      0       194    1.000000  7.599913\n"
          ]
        }
      ]
    },
    {
      "cell_type": "code",
      "source": [
        "data['bool'] = data[colName] == data['copy']"
      ],
      "metadata": {
        "id": "PSXsFhep4iyk"
      },
      "execution_count": 12,
      "outputs": []
    },
    {
      "cell_type": "code",
      "source": [
        "data.to_csv(\"result.csv\")"
      ],
      "metadata": {
        "id": "S0uba6e078Ib"
      },
      "execution_count": 13,
      "outputs": []
    },
    {
      "cell_type": "markdown",
      "source": [
        "# 311-Service-Requests-from-2010-to-Present \n",
        " column:Complaint Type"
      ],
      "metadata": {
        "id": "TmD2x5A4gK1K"
      }
    },
    {
      "cell_type": "code",
      "source": [
        "!wget 'https://data.cityofnewyork.us/resource/uip8-fykc.csv?$$app_token=5uY6Dy7N0wt19j4Pe9PBQ1y6C&$select=distinct(ofns_desc)&$limit=100000'  -O data3.csv\n",
        "!ls\n"
      ],
      "metadata": {
        "colab": {
          "base_uri": "https://localhost:8080/"
        },
        "id": "5bKlLpy6CD6K",
        "outputId": "b07a2968-0099-425b-bc0d-2aa863675c6b"
      },
      "execution_count": 20,
      "outputs": [
        {
          "output_type": "stream",
          "name": "stdout",
          "text": [
            "--2021-12-12 02:49:29--  https://data.cityofnewyork.us/resource/uip8-fykc.csv?$$app_token=5uY6Dy7N0wt19j4Pe9PBQ1y6C&$select=distinct(ofns_desc)&$limit=100000\n",
            "Resolving data.cityofnewyork.us (data.cityofnewyork.us)... 52.206.140.199, 52.206.140.205, 52.206.68.26\n",
            "Connecting to data.cityofnewyork.us (data.cityofnewyork.us)|52.206.140.199|:443... connected.\n",
            "HTTP request sent, awaiting response... 200 OK\n",
            "Length: unspecified [text/csv]\n",
            "Saving to: ‘data3.csv’\n",
            "\n",
            "data3.csv               [ <=>                ]   1.49K  --.-KB/s    in 0s      \n",
            "\n",
            "2021-12-12 02:49:30 (195 MB/s) - ‘data3.csv’ saved [1526]\n",
            "\n",
            "cleanSimilarString.py  data2.csv  __pycache__  sample_data\n",
            "data1.csv\t       data3.csv  result.csv\n"
          ]
        }
      ]
    },
    {
      "cell_type": "code",
      "source": [
        "data = pd.read_csv('data3.csv')\n",
        "print(data.head())\n",
        "print(dataset_profile(data).stats())\n",
        "colName = \"ofns_desc_1\"\n",
        "data[colName] = data[colName].astype(str)\n",
        "data[\"copy\"] = data[colName]\n",
        "\n",
        "print(cleanSimilarStringEvaluate(data, colName))\n",
        "data = updateSimilarStringWithMapping(data, colName, cleanSimilarStringEvaluate(data, colName))\n",
        "print(dataset_profile(data).stats())"
      ],
      "metadata": {
        "colab": {
          "base_uri": "https://localhost:8080/"
        },
        "id": "r8fR0l6egnDv",
        "outputId": "90cb5fa5-21d3-4f40-8b5d-87b97914799e"
      },
      "execution_count": 21,
      "outputs": [
        {
          "output_type": "stream",
          "name": "stdout",
          "text": [
            "                            ofns_desc_1\n",
            "0                   ADMINISTRATIVE CODE\n",
            "1                  ADMINISTRATIVE CODES\n",
            "2  AGRICULTURE & MRKTS LAW-UNCLASSIFIED\n",
            "3        ALCOHOLIC BEVERAGE CONTROL LAW\n",
            "4                 ANTICIPATORY OFFENSES\n",
            "             total  empty  distinct  uniqueness  entropy\n",
            "ofns_desc_1     63      0        63         1.0  5.97728\n",
            "{'ADMINISTRATIVE CODE': 'ADMINISTRATIVE CODES', 'KIDNAPPING AND RELATED OFFENSES': 'KIDNAPPING & RELATED OFFENSES', 'OTHER STATE LAWS (NON PENAL LA': 'OTHER STATE LAWS (NON PENAL LAW)', 'INTOXICATED & IMPAIRED DRIVING': 'INTOXICATED/IMPAIRED DRIVING'}\n",
            "             total  empty  distinct  uniqueness   entropy\n",
            "ofns_desc_1     63      0        59    0.936508  5.850296\n",
            "copy            63      0        63    1.000000  5.977280\n"
          ]
        }
      ]
    },
    {
      "cell_type": "code",
      "source": [
        "data['bool'] = data[colName] == data['copy']\n",
        "data.to_csv(\"result2.csv\")"
      ],
      "metadata": {
        "id": "Plmhj8MHgt4H"
      },
      "execution_count": 22,
      "outputs": []
    },
    {
      "cell_type": "code",
      "source": [
        ""
      ],
      "metadata": {
        "id": "anBJpxwuiCBU"
      },
      "execution_count": null,
      "outputs": []
    }
  ]
}