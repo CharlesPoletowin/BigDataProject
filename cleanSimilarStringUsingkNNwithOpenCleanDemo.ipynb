{
  "nbformat": 4,
  "nbformat_minor": 0,
  "metadata": {
    "colab": {
      "name": "cleanSimilarStringUsingkNNwithOpenCleanDemo.ipynb",
      "provenance": [],
      "authorship_tag": "ABX9TyMzcdzI0hkdBPCzc9QoIyen",
      "include_colab_link": true
    },
    "kernelspec": {
      "name": "python3",
      "display_name": "Python 3"
    },
    "language_info": {
      "name": "python"
    }
  },
  "cells": [
    {
      "cell_type": "markdown",
      "metadata": {
        "id": "view-in-github",
        "colab_type": "text"
      },
      "source": [
        "<a href=\"https://colab.research.google.com/github/CharlesPoletowin/BigDataProject/blob/main/cleanSimilarStringUsingkNNwithOpenCleanDemo.ipynb\" target=\"_parent\"><img src=\"https://colab.research.google.com/assets/colab-badge.svg\" alt=\"Open In Colab\"/></a>"
      ]
    },
    {
      "cell_type": "markdown",
      "source": [
        "# pip install"
      ],
      "metadata": {
        "id": "m6PMu3NKtzG6"
      }
    },
    {
      "cell_type": "code",
      "metadata": {
        "colab": {
          "base_uri": "https://localhost:8080/"
        },
        "id": "4KcAeaCCYC3f",
        "outputId": "e4b37b32-c2ea-4397-9294-335a4b23540a"
      },
      "source": [
        "!pip install openclean[full]"
      ],
      "execution_count": 1,
      "outputs": [
        {
          "output_type": "stream",
          "name": "stdout",
          "text": [
            "Requirement already satisfied: openclean[full] in /usr/local/lib/python3.7/dist-packages (0.2.1)\n",
            "Requirement already satisfied: openclean-core==0.4.1 in /usr/local/lib/python3.7/dist-packages (from openclean[full]) (0.4.1)\n",
            "Requirement already satisfied: openclean-geo==0.1.0 in /usr/local/lib/python3.7/dist-packages (from openclean[full]) (0.1.0)\n",
            "Requirement already satisfied: openclean-pattern==0.0.1 in /usr/local/lib/python3.7/dist-packages (from openclean[full]) (0.0.1)\n",
            "Requirement already satisfied: docker in /usr/local/lib/python3.7/dist-packages (from openclean[full]) (5.0.3)\n",
            "Requirement already satisfied: openclean-metanome==0.2.0 in /usr/local/lib/python3.7/dist-packages (from openclean[full]) (0.2.0)\n",
            "Requirement already satisfied: openclean-notebook==0.1.7 in /usr/local/lib/python3.7/dist-packages (from openclean[full]) (0.1.7)\n",
            "Requirement already satisfied: requests in /usr/local/lib/python3.7/dist-packages (from openclean-core==0.4.1->openclean[full]) (2.23.0)\n",
            "Requirement already satisfied: refdata>=0.2.0 in /usr/local/lib/python3.7/dist-packages (from openclean-core==0.4.1->openclean[full]) (0.2.0)\n",
            "Requirement already satisfied: scipy in /usr/local/lib/python3.7/dist-packages (from openclean-core==0.4.1->openclean[full]) (1.4.1)\n",
            "Requirement already satisfied: future in /usr/local/lib/python3.7/dist-packages (from openclean-core==0.4.1->openclean[full]) (0.16.0)\n",
            "Requirement already satisfied: pandas>=1.0.0 in /usr/local/lib/python3.7/dist-packages (from openclean-core==0.4.1->openclean[full]) (1.1.5)\n",
            "Requirement already satisfied: histore>=0.4.0 in /usr/local/lib/python3.7/dist-packages (from openclean-core==0.4.1->openclean[full]) (0.4.1)\n",
            "Requirement already satisfied: jsonschema>=3.2.0 in /usr/local/lib/python3.7/dist-packages (from openclean-core==0.4.1->openclean[full]) (3.2.0)\n",
            "Requirement already satisfied: jellyfish in /usr/local/lib/python3.7/dist-packages (from openclean-core==0.4.1->openclean[full]) (0.8.9)\n",
            "Requirement already satisfied: python-dateutil in /usr/local/lib/python3.7/dist-packages (from openclean-core==0.4.1->openclean[full]) (2.8.2)\n",
            "Requirement already satisfied: dill in /usr/local/lib/python3.7/dist-packages (from openclean-core==0.4.1->openclean[full]) (0.3.4)\n",
            "Requirement already satisfied: flowserv-core>=0.8.0 in /usr/local/lib/python3.7/dist-packages (from openclean-core==0.4.1->openclean[full]) (0.9.2)\n",
            "Requirement already satisfied: scikit-learn in /usr/local/lib/python3.7/dist-packages (from openclean-core==0.4.1->openclean[full]) (0.23.2)\n",
            "Requirement already satisfied: appdirs>=1.4.4 in /usr/local/lib/python3.7/dist-packages (from openclean-core==0.4.1->openclean[full]) (1.4.4)\n",
            "Requirement already satisfied: Shapely>=1.7.1 in /usr/local/lib/python3.7/dist-packages (from openclean-geo==0.1.0->openclean[full]) (1.8.0)\n",
            "Requirement already satisfied: datamart-profiler==0.9 in /usr/local/lib/python3.7/dist-packages (from openclean-notebook==0.1.7->openclean[full]) (0.9)\n",
            "Requirement already satisfied: numpy in /usr/local/lib/python3.7/dist-packages (from datamart-profiler==0.9->openclean-notebook==0.1.7->openclean[full]) (1.19.5)\n",
            "Requirement already satisfied: prometheus-client in /usr/local/lib/python3.7/dist-packages (from datamart-profiler==0.9->openclean-notebook==0.1.7->openclean[full]) (0.12.0)\n",
            "Requirement already satisfied: datamart-geo==0.2.1 in /usr/local/lib/python3.7/dist-packages (from datamart-profiler==0.9->openclean-notebook==0.1.7->openclean[full]) (0.2.1)\n",
            "Requirement already satisfied: regex in /usr/local/lib/python3.7/dist-packages (from datamart-profiler==0.9->openclean-notebook==0.1.7->openclean[full]) (2019.12.20)\n",
            "Requirement already satisfied: six>=1.11.0 in /usr/local/lib/python3.7/dist-packages (from jsonschema>=3.2.0->openclean-core==0.4.1->openclean[full]) (1.15.0)\n",
            "Requirement already satisfied: importlib-metadata in /usr/local/lib/python3.7/dist-packages (from jsonschema>=3.2.0->openclean-core==0.4.1->openclean[full]) (4.8.2)\n",
            "Requirement already satisfied: setuptools in /usr/local/lib/python3.7/dist-packages (from jsonschema>=3.2.0->openclean-core==0.4.1->openclean[full]) (57.4.0)\n",
            "Requirement already satisfied: pyrsistent>=0.14.0 in /usr/local/lib/python3.7/dist-packages (from jsonschema>=3.2.0->openclean-core==0.4.1->openclean[full]) (0.18.0)\n",
            "Requirement already satisfied: attrs>=17.4.0 in /usr/local/lib/python3.7/dist-packages (from jsonschema>=3.2.0->openclean-core==0.4.1->openclean[full]) (21.2.0)\n",
            "Requirement already satisfied: scikit-bio in /usr/local/lib/python3.7/dist-packages (from openclean-pattern==0.0.1->openclean[full]) (0.5.6)\n",
            "Requirement already satisfied: pygtrie==2.3.3 in /usr/local/lib/python3.7/dist-packages (from openclean-pattern==0.0.1->openclean[full]) (2.3.3)\n",
            "Requirement already satisfied: passlib in /usr/local/lib/python3.7/dist-packages (from flowserv-core>=0.8.0->openclean-core==0.4.1->openclean[full]) (1.7.4)\n",
            "Requirement already satisfied: pyyaml>=5.1 in /usr/local/lib/python3.7/dist-packages (from flowserv-core>=0.8.0->openclean-core==0.4.1->openclean[full]) (5.4.1)\n",
            "Requirement already satisfied: pyyaml-include in /usr/local/lib/python3.7/dist-packages (from flowserv-core>=0.8.0->openclean-core==0.4.1->openclean[full]) (1.2.post2)\n",
            "Requirement already satisfied: gitpython in /usr/local/lib/python3.7/dist-packages (from flowserv-core>=0.8.0->openclean-core==0.4.1->openclean[full]) (3.1.24)\n",
            "Requirement already satisfied: paramiko in /usr/local/lib/python3.7/dist-packages (from flowserv-core>=0.8.0->openclean-core==0.4.1->openclean[full]) (2.8.1)\n",
            "Requirement already satisfied: Click in /usr/local/lib/python3.7/dist-packages (from flowserv-core>=0.8.0->openclean-core==0.4.1->openclean[full]) (7.1.2)\n",
            "Requirement already satisfied: SQLAlchemy>=1.3.18 in /usr/local/lib/python3.7/dist-packages (from flowserv-core>=0.8.0->openclean-core==0.4.1->openclean[full]) (1.4.27)\n",
            "Requirement already satisfied: psutil in /usr/local/lib/python3.7/dist-packages (from histore>=0.4.0->openclean-core==0.4.1->openclean[full]) (5.4.8)\n",
            "Requirement already satisfied: pytz>=2017.2 in /usr/local/lib/python3.7/dist-packages (from pandas>=1.0.0->openclean-core==0.4.1->openclean[full]) (2018.9)\n",
            "Requirement already satisfied: datasize>=1.0.0 in /usr/local/lib/python3.7/dist-packages (from refdata>=0.2.0->openclean-core==0.4.1->openclean[full]) (1.0.0)\n",
            "Requirement already satisfied: pooch>=1.3.0 in /usr/local/lib/python3.7/dist-packages (from refdata>=0.2.0->openclean-core==0.4.1->openclean[full]) (1.5.2)\n",
            "Requirement already satisfied: tableprint in /usr/local/lib/python3.7/dist-packages (from refdata>=0.2.0->openclean-core==0.4.1->openclean[full]) (0.9.1)\n",
            "Requirement already satisfied: packaging in /usr/local/lib/python3.7/dist-packages (from pooch>=1.3.0->refdata>=0.2.0->openclean-core==0.4.1->openclean[full]) (21.3)\n",
            "Requirement already satisfied: threadpoolctl>=2.0.0 in /usr/local/lib/python3.7/dist-packages (from scikit-learn->openclean-core==0.4.1->openclean[full]) (3.0.0)\n",
            "Requirement already satisfied: joblib>=0.11 in /usr/local/lib/python3.7/dist-packages (from scikit-learn->openclean-core==0.4.1->openclean[full]) (1.1.0)\n",
            "Requirement already satisfied: greenlet!=0.4.17 in /usr/local/lib/python3.7/dist-packages (from SQLAlchemy>=1.3.18->flowserv-core>=0.8.0->openclean-core==0.4.1->openclean[full]) (1.1.2)\n",
            "Requirement already satisfied: websocket-client>=0.32.0 in /usr/local/lib/python3.7/dist-packages (from docker->openclean[full]) (1.2.3)\n",
            "Requirement already satisfied: urllib3!=1.25.0,!=1.25.1,<1.26,>=1.21.1 in /usr/local/lib/python3.7/dist-packages (from requests->openclean-core==0.4.1->openclean[full]) (1.24.3)\n",
            "Requirement already satisfied: idna<3,>=2.5 in /usr/local/lib/python3.7/dist-packages (from requests->openclean-core==0.4.1->openclean[full]) (2.10)\n",
            "Requirement already satisfied: chardet<4,>=3.0.2 in /usr/local/lib/python3.7/dist-packages (from requests->openclean-core==0.4.1->openclean[full]) (3.0.4)\n",
            "Requirement already satisfied: certifi>=2017.4.17 in /usr/local/lib/python3.7/dist-packages (from requests->openclean-core==0.4.1->openclean[full]) (2021.10.8)\n",
            "Requirement already satisfied: typing-extensions>=3.7.4.3 in /usr/local/lib/python3.7/dist-packages (from gitpython->flowserv-core>=0.8.0->openclean-core==0.4.1->openclean[full]) (3.10.0.2)\n",
            "Requirement already satisfied: gitdb<5,>=4.0.1 in /usr/local/lib/python3.7/dist-packages (from gitpython->flowserv-core>=0.8.0->openclean-core==0.4.1->openclean[full]) (4.0.9)\n",
            "Requirement already satisfied: smmap<6,>=3.0.1 in /usr/local/lib/python3.7/dist-packages (from gitdb<5,>=4.0.1->gitpython->flowserv-core>=0.8.0->openclean-core==0.4.1->openclean[full]) (5.0.0)\n",
            "Requirement already satisfied: zipp>=0.5 in /usr/local/lib/python3.7/dist-packages (from importlib-metadata->jsonschema>=3.2.0->openclean-core==0.4.1->openclean[full]) (3.6.0)\n",
            "Requirement already satisfied: pyparsing!=3.0.5,>=2.0.2 in /usr/local/lib/python3.7/dist-packages (from packaging->pooch>=1.3.0->refdata>=0.2.0->openclean-core==0.4.1->openclean[full]) (3.0.6)\n",
            "Requirement already satisfied: cryptography>=2.5 in /usr/local/lib/python3.7/dist-packages (from paramiko->flowserv-core>=0.8.0->openclean-core==0.4.1->openclean[full]) (36.0.0)\n",
            "Requirement already satisfied: bcrypt>=3.1.3 in /usr/local/lib/python3.7/dist-packages (from paramiko->flowserv-core>=0.8.0->openclean-core==0.4.1->openclean[full]) (3.2.0)\n",
            "Requirement already satisfied: pynacl>=1.0.1 in /usr/local/lib/python3.7/dist-packages (from paramiko->flowserv-core>=0.8.0->openclean-core==0.4.1->openclean[full]) (1.4.0)\n",
            "Requirement already satisfied: cffi>=1.1 in /usr/local/lib/python3.7/dist-packages (from bcrypt>=3.1.3->paramiko->flowserv-core>=0.8.0->openclean-core==0.4.1->openclean[full]) (1.15.0)\n",
            "Requirement already satisfied: pycparser in /usr/local/lib/python3.7/dist-packages (from cffi>=1.1->bcrypt>=3.1.3->paramiko->flowserv-core>=0.8.0->openclean-core==0.4.1->openclean[full]) (2.21)\n",
            "Requirement already satisfied: CacheControl>=0.11.5 in /usr/local/lib/python3.7/dist-packages (from scikit-bio->openclean-pattern==0.0.1->openclean[full]) (0.12.10)\n",
            "Requirement already satisfied: decorator>=3.4.2 in /usr/local/lib/python3.7/dist-packages (from scikit-bio->openclean-pattern==0.0.1->openclean[full]) (4.4.2)\n",
            "Requirement already satisfied: lockfile>=0.10.2 in /usr/local/lib/python3.7/dist-packages (from scikit-bio->openclean-pattern==0.0.1->openclean[full]) (0.12.2)\n",
            "Requirement already satisfied: hdmedians>=0.13 in /usr/local/lib/python3.7/dist-packages (from scikit-bio->openclean-pattern==0.0.1->openclean[full]) (0.14.2)\n",
            "Requirement already satisfied: matplotlib>=1.4.3 in /usr/local/lib/python3.7/dist-packages (from scikit-bio->openclean-pattern==0.0.1->openclean[full]) (3.2.2)\n",
            "Requirement already satisfied: IPython>=3.2.0 in /usr/local/lib/python3.7/dist-packages (from scikit-bio->openclean-pattern==0.0.1->openclean[full]) (5.5.0)\n",
            "Requirement already satisfied: natsort>=4.0.3 in /usr/local/lib/python3.7/dist-packages (from scikit-bio->openclean-pattern==0.0.1->openclean[full]) (5.5.0)\n",
            "Requirement already satisfied: msgpack>=0.5.2 in /usr/local/lib/python3.7/dist-packages (from CacheControl>=0.11.5->scikit-bio->openclean-pattern==0.0.1->openclean[full]) (1.0.3)\n",
            "Requirement already satisfied: Cython>=0.23 in /usr/local/lib/python3.7/dist-packages (from hdmedians>=0.13->scikit-bio->openclean-pattern==0.0.1->openclean[full]) (0.29.24)\n",
            "Requirement already satisfied: simplegeneric>0.8 in /usr/local/lib/python3.7/dist-packages (from IPython>=3.2.0->scikit-bio->openclean-pattern==0.0.1->openclean[full]) (0.8.1)\n",
            "Requirement already satisfied: pygments in /usr/local/lib/python3.7/dist-packages (from IPython>=3.2.0->scikit-bio->openclean-pattern==0.0.1->openclean[full]) (2.6.1)\n",
            "Requirement already satisfied: pexpect in /usr/local/lib/python3.7/dist-packages (from IPython>=3.2.0->scikit-bio->openclean-pattern==0.0.1->openclean[full]) (4.8.0)\n",
            "Requirement already satisfied: pickleshare in /usr/local/lib/python3.7/dist-packages (from IPython>=3.2.0->scikit-bio->openclean-pattern==0.0.1->openclean[full]) (0.7.5)\n",
            "Requirement already satisfied: traitlets>=4.2 in /usr/local/lib/python3.7/dist-packages (from IPython>=3.2.0->scikit-bio->openclean-pattern==0.0.1->openclean[full]) (5.1.1)\n",
            "Requirement already satisfied: prompt-toolkit<2.0.0,>=1.0.4 in /usr/local/lib/python3.7/dist-packages (from IPython>=3.2.0->scikit-bio->openclean-pattern==0.0.1->openclean[full]) (1.0.18)\n",
            "Requirement already satisfied: cycler>=0.10 in /usr/local/lib/python3.7/dist-packages (from matplotlib>=1.4.3->scikit-bio->openclean-pattern==0.0.1->openclean[full]) (0.11.0)\n",
            "Requirement already satisfied: kiwisolver>=1.0.1 in /usr/local/lib/python3.7/dist-packages (from matplotlib>=1.4.3->scikit-bio->openclean-pattern==0.0.1->openclean[full]) (1.3.2)\n",
            "Requirement already satisfied: wcwidth in /usr/local/lib/python3.7/dist-packages (from prompt-toolkit<2.0.0,>=1.0.4->IPython>=3.2.0->scikit-bio->openclean-pattern==0.0.1->openclean[full]) (0.2.5)\n",
            "Requirement already satisfied: ptyprocess>=0.5 in /usr/local/lib/python3.7/dist-packages (from pexpect->IPython>=3.2.0->scikit-bio->openclean-pattern==0.0.1->openclean[full]) (0.7.0)\n"
          ]
        }
      ]
    },
    {
      "cell_type": "markdown",
      "source": [
        "# import file from nyc opendata"
      ],
      "metadata": {
        "id": "sJDeVexvuDVK"
      }
    },
    {
      "cell_type": "code",
      "source": [
        "!wget 'https://data.cityofnewyork.us/resource/59kj-x8nc.csv?$$app_token=5uY6Dy7N0wt19j4Pe9PBQ1y6C&$select=boroid,zip,latitude,longitude,casetype,casestatus&$limit=3000'  -O data1.csv\n",
        "!ls"
      ],
      "metadata": {
        "colab": {
          "base_uri": "https://localhost:8080/"
        },
        "id": "8Z5wj2s8uJUq",
        "outputId": "15389876-4694-49d4-ce4f-dd6203666dc7"
      },
      "execution_count": 2,
      "outputs": [
        {
          "output_type": "stream",
          "name": "stdout",
          "text": [
            "--2021-12-10 01:06:29--  https://data.cityofnewyork.us/resource/59kj-x8nc.csv?$$app_token=5uY6Dy7N0wt19j4Pe9PBQ1y6C&$select=boroid,zip,latitude,longitude,casetype,casestatus&$limit=3000\n",
            "Resolving data.cityofnewyork.us (data.cityofnewyork.us)... 52.206.140.205, 52.206.68.26, 52.206.140.199\n",
            "Connecting to data.cityofnewyork.us (data.cityofnewyork.us)|52.206.140.205|:443... connected.\n",
            "HTTP request sent, awaiting response... 200 OK\n",
            "Length: unspecified [text/csv]\n",
            "Saving to: ‘data1.csv’\n",
            "\n",
            "data1.csv               [ <=>                ] 193.53K  --.-KB/s    in 0.04s   \n",
            "\n",
            "2021-12-10 01:06:30 (4.63 MB/s) - ‘data1.csv’ saved [198173]\n",
            "\n",
            "cleanSimilarString.py  data1.csv  __pycache__  sample_data\n"
          ]
        }
      ]
    },
    {
      "cell_type": "markdown",
      "source": [
        "# how to use cleanSimilarString.py file ?\n",
        "this file use kNN method to deal with similarity"
      ],
      "metadata": {
        "id": "t6We5cLzt7Nr"
      }
    },
    {
      "cell_type": "code",
      "source": [
        "!wget https://github.com/CharlesPoletowin/BigDataProject/raw/main/cleanSimilarString.py -O cleanSimilarString.py\n",
        "!ls"
      ],
      "metadata": {
        "colab": {
          "base_uri": "https://localhost:8080/"
        },
        "id": "NRThDUQRvaVh",
        "outputId": "9deb3c04-4f28-471c-e360-57d67301c6e3"
      },
      "execution_count": 4,
      "outputs": [
        {
          "output_type": "stream",
          "name": "stdout",
          "text": [
            "--2021-12-10 01:07:36--  https://github.com/CharlesPoletowin/BigDataProject/raw/main/cleanSimilarString.py\n",
            "Resolving github.com (github.com)... 140.82.114.3\n",
            "Connecting to github.com (github.com)|140.82.114.3|:443... connected.\n",
            "HTTP request sent, awaiting response... 302 Found\n",
            "Location: https://raw.githubusercontent.com/CharlesPoletowin/BigDataProject/main/cleanSimilarString.py [following]\n",
            "--2021-12-10 01:07:36--  https://raw.githubusercontent.com/CharlesPoletowin/BigDataProject/main/cleanSimilarString.py\n",
            "Resolving raw.githubusercontent.com (raw.githubusercontent.com)... 185.199.109.133, 185.199.110.133, 185.199.111.133, ...\n",
            "Connecting to raw.githubusercontent.com (raw.githubusercontent.com)|185.199.109.133|:443... connected.\n",
            "HTTP request sent, awaiting response... 200 OK\n",
            "Length: 1066 (1.0K) [text/plain]\n",
            "Saving to: ‘cleanSimilarString.py’\n",
            "\n",
            "\rcleanSimilarString.   0%[                    ]       0  --.-KB/s               \rcleanSimilarString. 100%[===================>]   1.04K  --.-KB/s    in 0s      \n",
            "\n",
            "2021-12-10 01:07:36 (64.8 MB/s) - ‘cleanSimilarString.py’ saved [1066/1066]\n",
            "\n",
            "cleanSimilarString.py  data1.csv  __pycache__  sample_data\n"
          ]
        }
      ]
    },
    {
      "cell_type": "code",
      "source": [
        "import pandas as pd\n",
        "from openclean.profiling.dataset import dataset_profile\n",
        "data = pd.read_csv('data1.csv')\n",
        "print(data.head())\n",
        "print(dataset_profile(data).stats())"
      ],
      "metadata": {
        "colab": {
          "base_uri": "https://localhost:8080/"
        },
        "id": "tZZAHpppwH13",
        "outputId": "f00d8b8f-0c80-4447-8b63-cc5e88daf904"
      },
      "execution_count": 5,
      "outputs": [
        {
          "output_type": "stream",
          "name": "stdout",
          "text": [
            "   boroid    zip   latitude  longitude                   casetype casestatus\n",
            "0       3  11226  40.639709 -73.953068              Comprehensive     CLOSED\n",
            "1       1  10065  40.767250 -73.970415         Heat and Hot Water     CLOSED\n",
            "2       3  11222  40.731788 -73.952751         Heat and Hot Water     CLOSED\n",
            "3       2  10457  40.856598 -73.900434         Heat and Hot Water     CLOSED\n",
            "4       2  10455  40.811197 -73.908810  Access Warrant - Non-Lead     CLOSED\n",
            "            total  empty  distinct  uniqueness    entropy\n",
            "boroid       3000      0         5    0.001667   2.020500\n",
            "zip          3000      0       161    0.053667   6.559228\n",
            "latitude     3000      3      2776    0.926260  11.394619\n",
            "longitude    3000      3      2770    0.924258  11.390275\n",
            "casetype     3000      0        13    0.004333   2.315765\n",
            "casestatus   3000      0        44    0.014667   0.307365\n"
          ]
        }
      ]
    },
    {
      "cell_type": "code",
      "source": [
        "print(data.casetype.unique().tolist())\n",
        "print(\"----\")\n",
        "print(data['casestatus'].unique().tolist())"
      ],
      "metadata": {
        "colab": {
          "base_uri": "https://localhost:8080/"
        },
        "id": "xrSTzDEJxHoa",
        "outputId": "dc894371-057f-499d-d6a4-e1e7d371c660"
      },
      "execution_count": 6,
      "outputs": [
        {
          "output_type": "stream",
          "name": "stdout",
          "text": [
            "['Comprehensive', 'Heat and Hot Water', 'Access Warrant - Non-Lead', 'Tenant Action', 'Tenant Action/Harrassment', 'False Certification Non-Lead', 'Heat Supplemental Cases', 'CONH', 'Access Warrant - lead', 'Comp Supplemental Cases', 'Lead False Certification', '7A', 'Failure to Register Only']\n",
            "----\n",
            "['CLOSED', 'PENDING', 'GRANTED -', 'GRANTED - 05/16/2017', 'GRANTED - 06/20/2012', 'GRANTED - 11/10/2006', 'GRANTED - 10/29/2008', 'Exempt- 02/19/2014', 'Exempt- 12/15/2009', 'GRANTED - 04/25/2014', 'GRANTED - 07/24/2009', 'GRANTED - 09/10/2015', 'GRANTED - 10/06/2020', 'GRANTED - 04/11/2007', 'GRANTED - 01/31/2012', 'GRANTED - 09/12/2008', 'GRANTED - 03/24/2010', 'APPLICATION PENDING', 'GRANTED - 12/03/2012', 'GRANTED - 11/20/2013', 'GRANTED - 01/27/2010', 'GRANTED - 11/25/2013', 'GRANTED - 02/08/2007', 'GRANTED - 01/18/2008', 'GRANTED - 07/13/2007', 'GRANTED - 06/20/2016', 'DENIED , 07/08/2008', 'GRANTED - 02/19/2014', 'GRANTED - 07/01/2009', 'GRANTED - 07/10/2014', 'GRANTED - 01/04/2008', 'GRANTED - 05/24/2010', 'Exempt- 07/17/2006', 'GRANTED - 05/16/2012', 'Exempt- 05/22/2007', 'GRANTED - 04/17/2012', 'WithDrawn/Abandoned- 08/23/2012', 'GRANTED - 04/24/2017', 'Rejected- 03/22/2013', 'Exempt- 10/21/2020', 'Exempt- 02/25/2013', 'GRANTED - 06/13/2013', 'DENIED , 04/08/2008', 'GRANTED - 07/20/2010']\n"
          ]
        }
      ]
    },
    {
      "cell_type": "code",
      "source": [
        "from cleanSimilarString import cleanSimilarStringEvaluate, updateSimilarStringWithMapping\n",
        "\n",
        "print(dataset_profile(data).stats()[-1:])\n",
        "colName = \"casestatus\"\n",
        "print(cleanSimilarStringEvaluate(data, colName))\n",
        "data = updateSimilarStringWithMapping(data, colName, cleanSimilarStringEvaluate(data, colName))\n",
        "print(dataset_profile(data).stats()[-1:])"
      ],
      "metadata": {
        "colab": {
          "base_uri": "https://localhost:8080/"
        },
        "id": "ac0MdYsCzyCY",
        "outputId": "02970318-ef1d-46a7-f460-6bc3ca32b921"
      },
      "execution_count": 7,
      "outputs": [
        {
          "output_type": "stream",
          "name": "stdout",
          "text": [
            "            total  empty  distinct  uniqueness   entropy\n",
            "casestatus   3000      0        44    0.014667  0.307365\n",
            "{'GRANTED - 04/11/2007': 'GRANTED - 09/10/2015', 'GRANTED - 07/13/2007': 'GRANTED - 04/11/2007', 'GRANTED - 02/19/2014': 'GRANTED - 06/20/2012', 'GRANTED - 07/10/2014': 'GRANTED - 06/20/2012', 'GRANTED - 05/24/2010': 'GRANTED - 03/24/2010', 'GRANTED - 05/16/2012': 'GRANTED - 06/20/2012', 'GRANTED - 04/17/2012': 'GRANTED - 06/20/2012', 'GRANTED - 04/24/2017': 'GRANTED - 03/24/2010', 'GRANTED - 06/13/2013': 'GRANTED - 06/20/2012', 'GRANTED - 05/16/2017': 'GRANTED - 09/10/2015', 'GRANTED - 06/20/2012': 'GRANTED - 04/25/2014', 'GRANTED - 09/12/2008': 'GRANTED - 09/10/2015', 'GRANTED - 06/20/2016': 'GRANTED - 06/20/2012', 'GRANTED - 07/20/2010': 'GRANTED - 03/24/2010', 'GRANTED - 09/10/2015': 'GRANTED - 06/20/2012', 'GRANTED - 02/08/2007': 'GRANTED - 04/11/2007', 'GRANTED - 01/18/2008': 'GRANTED - 04/11/2007', 'GRANTED - 07/01/2009': 'GRANTED - 04/11/2007', 'GRANTED - 07/24/2009': 'GRANTED - 03/24/2010', 'GRANTED - 04/25/2014': 'GRANTED - 06/20/2012', 'GRANTED - 03/24/2010': 'GRANTED - 06/20/2012', 'GRANTED - 01/27/2010': 'GRANTED - 04/25/2014', 'GRANTED - 01/31/2012': 'GRANTED - 06/20/2012', 'GRANTED - 11/20/2013': 'GRANTED - 04/25/2014', 'GRANTED - 11/25/2013': 'GRANTED - 04/25/2014', 'GRANTED - 11/10/2006': 'GRANTED - 11/20/2013', 'GRANTED - 01/04/2008': 'GRANTED - 04/11/2007', 'Exempt- 02/19/2014': 'Exempt- 02/25/2013', 'DENIED , 07/08/2008': 'DENIED , 04/08/2008'}\n",
            "            total  empty  distinct  uniqueness   entropy\n",
            "casestatus   3000      0        21       0.007  0.284171\n"
          ]
        }
      ]
    },
    {
      "cell_type": "code",
      "source": [
        "from cleanSimilarString import cleanSimilarStringEvaluate, updateSimilarStringWithMapping\n",
        "\n",
        "colName = \"casetype\"\n",
        "print(dataset_profile(data).stats()[-2:-1])\n",
        "print(cleanSimilarStringEvaluate(data, colName))\n",
        "data = updateSimilarStringWithMapping(data, colName, cleanSimilarStringEvaluate(data, colName))\n",
        "print(dataset_profile(data).stats()[-2:-1])"
      ],
      "metadata": {
        "colab": {
          "base_uri": "https://localhost:8080/"
        },
        "id": "QBkO0ZGB0s1o",
        "outputId": "580d7324-efc2-41f4-94fb-d5ff69709c1d"
      },
      "execution_count": 8,
      "outputs": [
        {
          "output_type": "stream",
          "name": "stdout",
          "text": [
            "          total  empty  distinct  uniqueness   entropy\n",
            "casetype   3000      0        13    0.004333  2.315765\n",
            "{'Heat Supplemental Cases': 'Comp Supplemental Cases'}\n",
            "          total  empty  distinct  uniqueness   entropy\n",
            "casetype   3000      0        12       0.004  2.305762\n"
          ]
        }
      ]
    }
  ]
}